{
 "cells": [
  {
   "cell_type": "markdown",
   "source": [
    "# Environment"
   ],
   "metadata": {
    "collapsed": false,
    "pycharm": {
     "name": "#%% md\n"
    }
   }
  },
  {
   "cell_type": "code",
   "execution_count": 70,
   "outputs": [],
   "source": [
    "try:\n",
    "    import transformers\n",
    "except:\n",
    "    !pip install transformers"
   ],
   "metadata": {
    "collapsed": false,
    "pycharm": {
     "name": "#%%\n"
    }
   }
  },
  {
   "cell_type": "code",
   "execution_count": 71,
   "outputs": [],
   "source": [
    "import transformers\n",
    "import pickle\n",
    "import random\n",
    "import math\n",
    "import types\n",
    "\n",
    "import torch\n",
    "from torch import nn\n",
    "from torch.utils.data import Dataset, DataLoader\n",
    "from transformers import AutoTokenizer, AutoModel\n",
    "from tqdm import tqdm"
   ],
   "metadata": {
    "collapsed": false,
    "pycharm": {
     "name": "#%%\n"
    }
   }
  },
  {
   "cell_type": "code",
   "execution_count": 72,
   "outputs": [
    {
     "data": {
      "text/plain": "'1.12.1+cpu'"
     },
     "execution_count": 72,
     "metadata": {},
     "output_type": "execute_result"
    }
   ],
   "source": [
    "torch.__version__"
   ],
   "metadata": {
    "collapsed": false,
    "pycharm": {
     "name": "#%%\n"
    }
   }
  },
  {
   "cell_type": "code",
   "execution_count": 73,
   "outputs": [
    {
     "data": {
      "text/plain": "'4.21.2'"
     },
     "execution_count": 73,
     "metadata": {},
     "output_type": "execute_result"
    }
   ],
   "source": [
    "transformers.__version__"
   ],
   "metadata": {
    "collapsed": false,
    "pycharm": {
     "name": "#%%\n"
    }
   }
  },
  {
   "cell_type": "markdown",
   "source": [
    "# Global Config"
   ],
   "metadata": {
    "collapsed": false,
    "pycharm": {
     "name": "#%% md\n"
    }
   }
  },
  {
   "cell_type": "code",
   "execution_count": 74,
   "outputs": [
    {
     "name": "stdout",
     "output_type": "stream",
     "text": [
      "device: cpu\n"
     ]
    }
   ],
   "source": [
    "max_length = 128\n",
    "batch_size = 32\n",
    "n_epochs = 10\n",
    "\n",
    "noise_ratio = 0.15\n",
    "\n",
    "log_after_step = 50\n",
    "\n",
    "valid_after_step = 200\n",
    "\n",
    "device = torch.device('cuda' if torch.cuda.is_available() else 'cpu')\n",
    "print(\"device:\", device)"
   ],
   "metadata": {
    "collapsed": false,
    "pycharm": {
     "name": "#%%\n"
    }
   }
  },
  {
   "cell_type": "code",
   "execution_count": 75,
   "outputs": [],
   "source": [
    "test_mode = True\n",
    "if test_mode:\n",
    "    n_epochs = 1000\n",
    "    data_length = 1\n",
    "    batch_size = 1\n",
    "    log_after_step = 1"
   ],
   "metadata": {
    "collapsed": false,
    "pycharm": {
     "name": "#%%\n"
    }
   }
  },
  {
   "cell_type": "code",
   "execution_count": 76,
   "outputs": [
    {
     "name": "stderr",
     "output_type": "stream",
     "text": [
      "'gdown' 不是内部或外部命令，也不是可运行的程序\n",
      "或批处理文件。\n"
     ]
    }
   ],
   "source": [
    "!gdown '1dC09i57lobL91lEbpebDuUBS0fGz-LAk' --folder --output data"
   ],
   "metadata": {
    "collapsed": false,
    "pycharm": {
     "name": "#%%\n"
    }
   }
  },
  {
   "cell_type": "markdown",
   "source": [
    "# Data"
   ],
   "metadata": {
    "collapsed": false,
    "pycharm": {
     "name": "#%% md\n"
    }
   }
  },
  {
   "cell_type": "code",
   "execution_count": 77,
   "outputs": [],
   "source": [
    "class CSCDataset(Dataset):\n",
    "\n",
    "    def __init__(self):\n",
    "        super(CSCDataset, self).__init__()\n",
    "        with open(\"data/trainall.times2.pkl\", mode='br') as f:\n",
    "            train_data = pickle.load(f)\n",
    "\n",
    "        self.train_data = train_data\n",
    "\n",
    "    def __getitem__(self, index):\n",
    "        src = self.train_data[index]['src']\n",
    "        tgt = self.train_data[index]['tgt']\n",
    "        return src, tgt\n",
    "\n",
    "    def __len__(self):\n",
    "        if test_mode:\n",
    "            return data_length\n",
    "        return len(self.train_data)"
   ],
   "metadata": {
    "collapsed": false,
    "pycharm": {
     "name": "#%%\n"
    }
   }
  },
  {
   "cell_type": "code",
   "execution_count": 78,
   "outputs": [],
   "source": [
    "train_data = CSCDataset()"
   ],
   "metadata": {
    "collapsed": false,
    "pycharm": {
     "name": "#%%\n"
    }
   }
  },
  {
   "cell_type": "code",
   "execution_count": 79,
   "outputs": [
    {
     "data": {
      "text/plain": "('纽约早盘作为基准的低硫轻油，五月份交割价攀升一点三四美元，来到每桶二十八点二五美元，而上周五曾下挫一豪元以上。',\n '纽约早盘作为基准的低硫轻油，五月份交割价攀升一点三四美元，来到每桶二十八点二五美元，而上周五曾下挫一美元以上。')"
     },
     "execution_count": 79,
     "metadata": {},
     "output_type": "execute_result"
    }
   ],
   "source": [
    "train_data.__getitem__(0)"
   ],
   "metadata": {
    "collapsed": false,
    "pycharm": {
     "name": "#%%\n"
    }
   }
  },
  {
   "cell_type": "markdown",
   "source": [
    "## Dataloader"
   ],
   "metadata": {
    "collapsed": false,
    "pycharm": {
     "name": "#%% md\n"
    }
   }
  },
  {
   "cell_type": "code",
   "execution_count": 80,
   "outputs": [],
   "source": [
    "tokenizer = AutoTokenizer.from_pretrained(\"hfl/chinese-roberta-wwm-ext\")"
   ],
   "metadata": {
    "collapsed": false,
    "pycharm": {
     "name": "#%%\n"
    }
   }
  },
  {
   "cell_type": "code",
   "execution_count": 81,
   "outputs": [],
   "source": [
    "def collate_fn(batch):\n",
    "    src, tgt = zip(*batch)\n",
    "    src, tgt = list(src), list(tgt)\n",
    "\n",
    "    # src = tokenizer(src, padding='max_length', max_length=max_length, return_tensors='pt', truncation=True)\n",
    "    inputs = tokenizer(tgt, padding='max_length', max_length=max_length, return_tensors='pt', truncation=True)\n",
    "\n",
    "    input_ids_with_noise = []\n",
    "    noise = torch.zeros(batch_size, max_length, 768)\n",
    "    targets = torch.zeros(len(batch), max_length)\n",
    "    for i, indices in enumerate(inputs['input_ids']):\n",
    "        sentence_len = len(indices[indices != 0]) - 1\n",
    "        noise_len = math.floor(sentence_len * noise_ratio)\n",
    "        noise_indices = random.sample(range(1, sentence_len), noise_len)\n",
    "        for j, index in enumerate(noise_indices):\n",
    "            noise[i][index] = torch.rand(768)\n",
    "\n",
    "        input_ids_with_noise.append(indices)\n",
    "\n",
    "        targets[i][noise_indices] = 1\n",
    "\n",
    "    inputs['input_ids'] = torch.stack(input_ids_with_noise)\n",
    "\n",
    "    return inputs, targets, noise"
   ],
   "metadata": {
    "collapsed": false,
    "pycharm": {
     "name": "#%%\n"
    }
   }
  },
  {
   "cell_type": "code",
   "execution_count": 82,
   "outputs": [],
   "source": [
    "train_loader = DataLoader(train_data, batch_size=batch_size, collate_fn=collate_fn)"
   ],
   "metadata": {
    "collapsed": false,
    "pycharm": {
     "name": "#%%\n"
    }
   }
  },
  {
   "cell_type": "code",
   "execution_count": 83,
   "outputs": [],
   "source": [
    "inputs, targets, noise = next(iter(train_loader))"
   ],
   "metadata": {
    "collapsed": false,
    "pycharm": {
     "name": "#%%\n"
    }
   }
  },
  {
   "cell_type": "code",
   "execution_count": 84,
   "outputs": [
    {
     "data": {
      "text/plain": "'[CLS]纽约早盘作为基准的低硫轻油，五月份交割价攀升一点三四美元，来到每桶二十八点二五美元，而上周五曾下挫一美元以上。[SEP][PAD][PAD][PAD][PAD][PAD][PAD][PAD][PAD][PAD][PAD][PAD][PAD][PAD][PAD][PAD][PAD][PAD][PAD][PAD][PAD][PAD][PAD][PAD][PAD][PAD][PAD][PAD][PAD][PAD][PAD][PAD][PAD][PAD][PAD][PAD][PAD][PAD][PAD][PAD][PAD][PAD][PAD][PAD][PAD][PAD][PAD][PAD][PAD][PAD][PAD][PAD][PAD][PAD][PAD][PAD][PAD][PAD][PAD][PAD][PAD][PAD][PAD][PAD][PAD][PAD][PAD][PAD][PAD][PAD][PAD][PAD]'"
     },
     "execution_count": 84,
     "metadata": {},
     "output_type": "execute_result"
    }
   ],
   "source": [
    "''.join(tokenizer.convert_ids_to_tokens(inputs['input_ids'][0]))"
   ],
   "metadata": {
    "collapsed": false,
    "pycharm": {
     "name": "#%%\n"
    }
   }
  },
  {
   "cell_type": "code",
   "execution_count": 85,
   "outputs": [],
   "source": [
    "vocab = {}\n",
    "for i, token in enumerate(tokenizer.convert_ids_to_tokens(range(0, len(tokenizer)))):\n",
    "    vocab[i] = token"
   ],
   "metadata": {
    "collapsed": false,
    "pycharm": {
     "name": "#%%\n"
    }
   }
  },
  {
   "cell_type": "code",
   "execution_count": 86,
   "outputs": [],
   "source": [
    "import json\n",
    "\n",
    "with open('vocab.json', 'w', encoding='utf-8') as file:\n",
    "    file.write(json.dumps(vocab, ensure_ascii=False))"
   ],
   "metadata": {
    "collapsed": false,
    "pycharm": {
     "name": "#%%\n"
    }
   }
  },
  {
   "cell_type": "code",
   "execution_count": 86,
   "outputs": [],
   "source": [],
   "metadata": {
    "collapsed": false,
    "pycharm": {
     "name": "#%%\n"
    }
   }
  },
  {
   "cell_type": "markdown",
   "source": [
    "# Model"
   ],
   "metadata": {
    "collapsed": false,
    "pycharm": {
     "name": "#%% md\n"
    }
   }
  },
  {
   "cell_type": "code",
   "execution_count": 119,
   "outputs": [
    {
     "name": "stderr",
     "output_type": "stream",
     "text": [
      "Some weights of the model checkpoint at hfl/chinese-roberta-wwm-ext were not used when initializing BertModel: ['cls.predictions.bias', 'cls.seq_relationship.weight', 'cls.predictions.transform.dense.weight', 'cls.predictions.decoder.weight', 'cls.predictions.transform.LayerNorm.weight', 'cls.seq_relationship.bias', 'cls.predictions.transform.dense.bias', 'cls.predictions.transform.LayerNorm.bias']\n",
      "- This IS expected if you are initializing BertModel from the checkpoint of a model trained on another task or with another architecture (e.g. initializing a BertForSequenceClassification model from a BertForPreTraining model).\n",
      "- This IS NOT expected if you are initializing BertModel from the checkpoint of a model that you expect to be exactly identical (initializing a BertForSequenceClassification model from a BertForSequenceClassification model).\n"
     ]
    }
   ],
   "source": [
    "bert = AutoModel.from_pretrained(\"hfl/chinese-roberta-wwm-ext\")"
   ],
   "metadata": {
    "collapsed": false,
    "pycharm": {
     "name": "#%%\n"
    }
   }
  },
  {
   "cell_type": "code",
   "execution_count": 88,
   "outputs": [],
   "source": [
    "from typing import Optional, List, Union, Tuple\n",
    "from transformers.modeling_outputs import BaseModelOutputWithPoolingAndCrossAttentions\n",
    "\n",
    "\n",
    "def get_embeddings(\n",
    "        self,\n",
    "        input_ids: Optional[torch.Tensor] = None,\n",
    "        attention_mask: Optional[torch.Tensor] = None,\n",
    "        token_type_ids: Optional[torch.Tensor] = None,\n",
    "        position_ids: Optional[torch.Tensor] = None,\n",
    "        head_mask: Optional[torch.Tensor] = None,\n",
    "        inputs_embeds: Optional[torch.Tensor] = None,\n",
    "        encoder_hidden_states: Optional[torch.Tensor] = None,\n",
    "        encoder_attention_mask: Optional[torch.Tensor] = None,\n",
    "        past_key_values: Optional[List[torch.FloatTensor]] = None,\n",
    "        use_cache: Optional[bool] = None,\n",
    "        output_attentions: Optional[bool] = None,\n",
    "        output_hidden_states: Optional[bool] = None,\n",
    "        return_dict: Optional[bool] = None,\n",
    "):\n",
    "    r\"\"\"\n",
    "    encoder_hidden_states  (`torch.FloatTensor` of shape `(batch_size, sequence_length, hidden_size)`, *optional*):\n",
    "        Sequence of hidden-states at the output of the last layer of the encoder. Used in the cross-attention if\n",
    "        the model is configured as a decoder.\n",
    "    encoder_attention_mask (`torch.FloatTensor` of shape `(batch_size, sequence_length)`, *optional*):\n",
    "        Mask to avoid performing attention on the padding token indices of the encoder input. This mask is used in\n",
    "        the cross-attention if the model is configured as a decoder. Mask values selected in `[0, 1]`:\n",
    "\n",
    "        - 1 for tokens that are **not masked**,\n",
    "        - 0 for tokens that are **masked**.\n",
    "    past_key_values (`tuple(tuple(torch.FloatTensor))` of length `config.n_layers` with each tuple having 4 tensors of shape `(batch_size, num_heads, sequence_length - 1, embed_size_per_head)`):\n",
    "        Contains precomputed key and value hidden states of the attention blocks. Can be used to speed up decoding.\n",
    "\n",
    "        If `past_key_values` are used, the user can optionally input only the last `decoder_input_ids` (those that\n",
    "        don't have their past key value states given to this model) of shape `(batch_size, 1)` instead of all\n",
    "        `decoder_input_ids` of shape `(batch_size, sequence_length)`.\n",
    "    use_cache (`bool`, *optional*):\n",
    "        If set to `True`, `past_key_values` key value states are returned and can be used to speed up decoding (see\n",
    "        `past_key_values`).\n",
    "    \"\"\"\n",
    "    output_attentions = output_attentions if output_attentions is not None else self.config.output_attentions\n",
    "    output_hidden_states = (\n",
    "        output_hidden_states if output_hidden_states is not None else self.config.output_hidden_states\n",
    "    )\n",
    "    return_dict = return_dict if return_dict is not None else self.config.use_return_dict\n",
    "\n",
    "    if self.config.is_decoder:\n",
    "        use_cache = use_cache if use_cache is not None else self.config.use_cache\n",
    "    else:\n",
    "        use_cache = False\n",
    "\n",
    "    if input_ids is not None and inputs_embeds is not None:\n",
    "        raise ValueError(\"You cannot specify both input_ids and inputs_embeds at the same time\")\n",
    "    elif input_ids is not None:\n",
    "        input_shape = input_ids.size()\n",
    "    elif inputs_embeds is not None:\n",
    "        input_shape = inputs_embeds.size()[:-1]\n",
    "    else:\n",
    "        raise ValueError(\"You have to specify either input_ids or inputs_embeds\")\n",
    "\n",
    "    batch_size, seq_length = input_shape\n",
    "    device = input_ids.device if input_ids is not None else inputs_embeds.device\n",
    "\n",
    "    # past_key_values_length\n",
    "    past_key_values_length = past_key_values[0][0].shape[2] if past_key_values is not None else 0\n",
    "\n",
    "    if attention_mask is None:\n",
    "        attention_mask = torch.ones(((batch_size, seq_length + past_key_values_length)), device=device)\n",
    "\n",
    "    if token_type_ids is None:\n",
    "        if hasattr(self.embeddings, \"token_type_ids\"):\n",
    "            buffered_token_type_ids = self.embeddings.token_type_ids[:, :seq_length]\n",
    "            buffered_token_type_ids_expanded = buffered_token_type_ids.expand(batch_size, seq_length)\n",
    "            token_type_ids = buffered_token_type_ids_expanded\n",
    "        else:\n",
    "            token_type_ids = torch.zeros(input_shape, dtype=torch.long, device=device)\n",
    "\n",
    "    # We can provide a self-attention mask of dimensions [batch_size, from_seq_length, to_seq_length]\n",
    "    # ourselves in which case we just need to make it broadcastable to all heads.\n",
    "    extended_attention_mask: torch.Tensor = self.get_extended_attention_mask(attention_mask, input_shape)\n",
    "\n",
    "    # If a 2D or 3D attention mask is provided for the cross-attention\n",
    "    # we need to make broadcastable to [batch_size, num_heads, seq_length, seq_length]\n",
    "    if self.config.is_decoder and encoder_hidden_states is not None:\n",
    "        encoder_batch_size, encoder_sequence_length, _ = encoder_hidden_states.size()\n",
    "        encoder_hidden_shape = (encoder_batch_size, encoder_sequence_length)\n",
    "        if encoder_attention_mask is None:\n",
    "            encoder_attention_mask = torch.ones(encoder_hidden_shape, device=device)\n",
    "        encoder_extended_attention_mask = self.invert_attention_mask(encoder_attention_mask)\n",
    "    else:\n",
    "        encoder_extended_attention_mask = None\n",
    "\n",
    "    # Prepare head mask if needed\n",
    "    # 1.0 in head_mask indicate we keep the head\n",
    "    # attention_probs has shape bsz x n_heads x N x N\n",
    "    # input head_mask has shape [num_heads] or [num_hidden_layers x num_heads]\n",
    "    # and head_mask is converted to shape [num_hidden_layers x batch x num_heads x seq_length x seq_length]\n",
    "    head_mask = self.get_head_mask(head_mask, self.config.num_hidden_layers)\n",
    "\n",
    "    embedding_output = self.embeddings(\n",
    "        input_ids=input_ids,\n",
    "        position_ids=position_ids,\n",
    "        token_type_ids=token_type_ids,\n",
    "        inputs_embeds=inputs_embeds,\n",
    "        past_key_values_length=past_key_values_length,\n",
    "    )\n",
    "\n",
    "    return {\n",
    "        \"embedding_output\": embedding_output,\n",
    "        \"extended_attention_mask\": extended_attention_mask,\n",
    "        \"encoder_extended_attention_mask\": encoder_extended_attention_mask,\n",
    "        \"output_attentions\": output_attentions,\n",
    "        \"output_hidden_states\": output_hidden_states,\n",
    "        \"return_dict\": return_dict,\n",
    "        \"use_cache\": use_cache,\n",
    "        \"head_mask\": head_mask\n",
    "    }\n",
    "\n",
    "\n",
    "def post_forward(\n",
    "        self,\n",
    "        embedding_output,\n",
    "        extended_attention_mask,\n",
    "        encoder_extended_attention_mask,\n",
    "        input_ids: Optional[torch.Tensor] = None,\n",
    "        attention_mask: Optional[torch.Tensor] = None,\n",
    "        token_type_ids: Optional[torch.Tensor] = None,\n",
    "        position_ids: Optional[torch.Tensor] = None,\n",
    "        head_mask: Optional[torch.Tensor] = None,\n",
    "        inputs_embeds: Optional[torch.Tensor] = None,\n",
    "        encoder_hidden_states: Optional[torch.Tensor] = None,\n",
    "        encoder_attention_mask: Optional[torch.Tensor] = None,\n",
    "        past_key_values: Optional[List[torch.FloatTensor]] = None,\n",
    "        use_cache: Optional[bool] = None,\n",
    "        output_attentions: Optional[bool] = None,\n",
    "        output_hidden_states: Optional[bool] = None,\n",
    "        return_dict: Optional[bool] = None,\n",
    ") -> Union[Tuple[torch.Tensor], BaseModelOutputWithPoolingAndCrossAttentions]:\n",
    "    encoder_outputs = self.encoder(\n",
    "        embedding_output,\n",
    "        attention_mask=extended_attention_mask,\n",
    "        head_mask=head_mask,\n",
    "        encoder_hidden_states=encoder_hidden_states,\n",
    "        encoder_attention_mask=encoder_extended_attention_mask,\n",
    "        past_key_values=past_key_values,\n",
    "        use_cache=use_cache,\n",
    "        output_attentions=output_attentions,\n",
    "        output_hidden_states=output_hidden_states,\n",
    "        return_dict=return_dict,\n",
    "    )\n",
    "    sequence_output = encoder_outputs[0]\n",
    "    pooled_output = self.pooler(sequence_output) if self.pooler is not None else None\n",
    "\n",
    "    if not return_dict:\n",
    "        return (sequence_output, pooled_output) + encoder_outputs[1:]\n",
    "\n",
    "    return BaseModelOutputWithPoolingAndCrossAttentions(\n",
    "        last_hidden_state=sequence_output,\n",
    "        pooler_output=pooled_output,\n",
    "        past_key_values=encoder_outputs.past_key_values,\n",
    "        hidden_states=encoder_outputs.hidden_states,\n",
    "        attentions=encoder_outputs.attentions,\n",
    "        cross_attentions=encoder_outputs.cross_attentions,\n",
    "    )"
   ],
   "metadata": {
    "collapsed": false,
    "pycharm": {
     "name": "#%%\n"
    }
   }
  },
  {
   "cell_type": "code",
   "execution_count": 89,
   "outputs": [],
   "source": [
    "bert.get_embeddings = types.MethodType(get_embeddings, bert)\n",
    "bert.post_forward = types.MethodType(post_forward, bert)"
   ],
   "metadata": {
    "collapsed": false,
    "pycharm": {
     "name": "#%%\n"
    }
   }
  },
  {
   "cell_type": "code",
   "execution_count": 90,
   "outputs": [
    {
     "data": {
      "text/plain": "BaseModelOutputWithPoolingAndCrossAttentions(last_hidden_state=tensor([[[ 0.2529,  0.4439,  0.2850,  ..., -0.3361,  0.6868,  0.3597],\n         [-0.0817,  0.6666,  0.2779,  ..., -0.0320, -0.8320,  0.1756],\n         [-0.2023,  0.3854,  0.0892,  ...,  0.3342, -0.7750,  0.0900],\n         ...,\n         [ 0.3719, -0.0936, -0.4047,  ..., -0.1952,  0.3661,  0.2387],\n         [ 0.3607, -0.2736, -0.4350,  ..., -0.3174,  0.3545,  0.2572],\n         [ 0.3288, -0.5309, -0.1682,  ...,  0.1320,  0.2335,  0.0326]]],\n       grad_fn=<NativeLayerNormBackward0>), pooler_output=tensor([[ 0.9679,  0.8660,  0.9613,  0.3479, -0.1692, -0.6037, -0.0633,  0.6258,\n          0.6686, -0.9294,  0.9961,  0.9976,  0.4176, -0.8774,  0.6814, -0.9524,\n          0.1755,  0.4708, -0.4872, -0.4379,  0.8697, -0.2062, -0.7883,  0.0814,\n          0.7156,  0.5902,  0.6876,  0.3140, -0.9910,  0.9262,  0.9062,  0.9598,\n          0.3435, -0.9885, -0.9888, -0.3147, -0.6561,  0.7444,  0.9299, -0.9882,\n         -0.8274, -0.5157, -0.1005, -0.9042, -0.5402,  0.5983, -0.9936, -0.8084,\n          0.2120,  0.6657, -0.1519, -0.8455,  0.9576, -0.8153,  0.3762,  0.8354,\n         -0.6658,  0.7173,  0.9872,  0.3969,  0.9588, -0.7038, -0.3718, -0.9173,\n          0.7345, -0.9645, -0.9722,  0.8110,  0.3995,  0.9959, -0.5464,  0.7395,\n          0.9918, -0.6535, -0.9780,  0.9949, -0.6230,  0.7593, -0.9959, -0.4178,\n          0.9887,  0.3376, -0.9821, -0.9804, -0.9147, -0.9142, -0.1755,  0.8989,\n          0.7777,  0.4318,  0.9717, -0.9098, -0.9967,  0.8950, -0.9443,  0.4989,\n         -0.8029,  0.9823,  0.1707, -0.9227, -0.1906,  0.7428, -0.9964, -0.9952,\n         -0.3346,  0.9370,  0.2765, -0.9625,  0.9866,  0.1500, -0.9944, -0.3670,\n         -0.9940,  0.5216, -0.5015,  0.9871,  0.8006,  0.8825,  0.2835, -0.9889,\n          0.9047,  0.1057, -0.4894, -0.8780,  0.5820,  0.9832,  0.9648, -0.0964,\n          0.9820,  0.9921,  0.6184,  0.9800, -0.9839,  0.4875,  0.2804, -0.9331,\n          0.3253, -0.0143,  0.9914,  0.9767,  0.5216, -0.2328,  0.9946, -0.8890,\n          0.9786, -0.9894,  0.9109, -0.9933,  0.7690,  0.2554,  0.0778,  0.9981,\n          0.8665,  0.9884, -0.9462, -0.6358,  0.4129, -0.7476,  0.1736, -0.9794,\n         -0.0972, -0.2634, -0.7746,  0.5744, -0.9862,  0.9462, -0.7076,  0.9867,\n          0.8383,  0.9450, -0.9642, -0.9728,  0.3498, -0.9472, -0.3947,  0.8142,\n         -0.7154,  0.9891,  0.2149, -0.4072, -0.0031, -0.6431, -0.7616,  0.8620,\n         -0.0282,  0.2526,  0.4186, -0.1777, -0.4861, -0.9669, -0.8676,  0.8043,\n          0.7889,  0.0483,  0.8863,  0.5895,  0.0783, -0.9627, -0.9982, -0.9362,\n          0.9946, -0.6194, -0.7741,  0.7108, -0.9431, -0.2387, -0.7089,  0.8990,\n         -0.3987, -0.9939,  0.1102,  0.2707, -0.9476,  0.2693,  0.9736,  0.3923,\n         -0.9892,  0.3362,  0.8106, -0.6634,  0.9272, -0.6940, -0.9095,  0.8646,\n          0.3931,  0.9838,  0.9245,  0.9889,  0.9922,  0.4244, -0.1649,  0.9929,\n          0.7322, -0.9953,  0.2544, -0.8729,  0.7595,  0.9849, -0.8753,  0.8668,\n          0.9952, -0.2662,  0.9952, -0.5754, -0.8163, -0.9604,  0.9923,  0.7493,\n          0.9943, -0.9047, -0.4165, -0.1634,  0.1725, -0.9917, -0.6881,  0.4361,\n          0.9557,  0.8160, -0.6776, -0.7603, -0.8790, -0.9216,  0.9890, -0.8146,\n         -0.4629,  0.6365, -0.2898, -0.3174,  0.3827, -0.8679, -0.7572, -0.6804,\n         -0.9967, -0.9574, -0.9866,  0.6604, -0.8541, -0.9974,  0.3866,  0.9883,\n          0.8037, -0.9939,  0.9566,  0.8273,  0.9960,  0.7172,  0.9424, -0.9980,\n          0.9966, -0.9618,  0.9705, -0.8919, -0.9871,  0.0576,  0.9168,  0.8663,\n         -0.9905,  0.8389, -0.9684,  0.8444,  0.4792,  0.7644, -0.9000, -0.6843,\n         -0.7225, -0.9648,  0.7235, -0.7793, -0.7119,  0.9257,  0.9881, -0.9416,\n          0.9966,  0.9729,  0.9987, -0.3093, -0.8175,  0.8180, -0.8284,  0.2453,\n          0.5066,  0.4336,  0.9461,  0.4863,  0.7185, -0.9732,  0.9404,  0.6088,\n          0.9040,  0.2223, -0.7744,  0.7308,  0.9960, -0.9501,  0.8977, -0.8822,\n          0.8349, -0.2866,  0.9762, -0.3247,  0.5829, -0.2335,  0.9689, -0.9851,\n          0.8858, -0.9905,  0.9529, -0.8775,  0.7223, -0.9784, -0.9131,  0.9703,\n          0.3094,  0.8229,  0.7448, -0.1414,  0.6884,  0.6956,  0.6197,  0.9662,\n          0.8747,  0.9926, -0.9974, -0.5733, -0.3320, -0.9653, -0.3694, -0.9945,\n          0.0289, -0.9091, -0.5214,  0.3833, -0.8207, -0.6971, -0.8850, -0.0470,\n         -0.5015,  0.5115, -0.2313,  0.4611, -0.3032, -0.9314, -0.3967, -0.9948,\n         -0.8535, -0.0467,  0.9844, -0.9948,  0.9605, -0.9888,  0.0277,  0.2942,\n          0.4324,  0.2662,  0.3076, -0.9152,  0.9866,  0.6470,  0.9950,  0.9566,\n          0.8956, -0.3792, -0.8779, -0.9029, -0.9738, -0.9959, -0.8642, -0.6671,\n         -0.0587, -0.9711, -0.5103,  0.6084,  0.9787,  0.9875, -0.9834, -0.0560,\n         -0.9778,  0.4693,  0.9631,  0.4859, -0.6976, -0.3912, -0.1844,  0.9590,\n         -0.8797, -0.6946,  0.4687, -0.3609,  0.8575, -0.9133,  0.2121,  0.9936,\n         -0.0431, -0.9893, -0.8145, -0.2735, -0.0894, -0.6934,  0.6233,  0.9892,\n         -0.9956, -0.9076, -0.8706,  0.4086,  0.8062,  0.8270,  0.8376,  0.7048,\n          0.9211, -0.7422, -0.7956,  0.9109,  0.0035, -0.9546,  0.7844, -0.9067,\n          0.4883, -0.9847,  0.9606, -0.2839,  0.9877,  0.4747, -0.1055, -0.0567,\n         -0.5728,  0.9640,  0.9895,  0.3442,  0.7339, -0.8669, -0.9865, -0.9461,\n         -0.2725,  0.2193, -0.5860, -0.9463,  0.5649, -0.7365,  0.9973,  0.9855,\n          0.9952,  0.6643, -0.9601,  0.9727, -0.5765,  0.7032,  0.0669, -0.9867,\n         -0.8462, -0.7732,  0.6028,  0.3311, -0.2254,  0.0557,  0.0544, -0.1430,\n         -0.9880, -0.9356, -0.6220,  0.9765,  0.9948, -0.6419,  0.2296, -0.8643,\n          0.0724,  0.0052,  0.9594,  0.8767, -0.6244, -0.5453, -0.4223,  0.4304,\n          0.9642,  0.9269, -0.3999, -0.9830,  0.9322,  0.8787,  0.5353, -0.3977,\n          0.6778,  0.8703,  0.9932,  0.7540,  0.9553, -0.9572,  0.7358,  0.9799,\n          0.9927,  0.8693,  0.1233, -0.8046,  0.4081,  0.3856,  0.7629,  0.6421,\n          0.3096, -0.6232,  0.9892,  0.5993,  0.9972,  0.9046,  0.3893,  0.7898,\n          0.4788, -0.5517,  0.9695,  0.7414,  0.3433,  0.7292,  0.9541, -0.9696,\n         -0.5094, -0.9899,  0.9938,  0.7861,  0.7691, -0.9882,  0.9245,  0.5016,\n          0.4977,  0.9248,  0.6846, -0.9535,  0.4342, -0.7266,  0.4707,  0.1354,\n          0.9145, -0.8418,  0.9601, -0.9463,  0.3010,  0.9918,  0.5719,  0.9443,\n          0.3722, -0.7625,  0.3325, -0.5471, -0.9367, -0.8202,  0.9328,  0.8225,\n         -0.5283, -0.4824, -0.1621, -0.5028,  0.9770, -0.9805,  0.9102, -0.6218,\n          0.9654, -0.8981, -0.9687,  0.3592,  0.6650, -0.7408,  0.1562,  0.9868,\n         -0.6118, -0.0448, -0.2548, -0.6108, -0.8574, -0.8962, -0.3470, -0.8273,\n         -0.2921, -0.3248,  0.6918, -0.8105, -0.9223,  0.9801, -0.9595, -0.8382,\n          0.9934, -0.0233, -0.9802,  0.7246, -0.8330, -0.3172,  0.1835, -0.7182,\n          0.3458, -0.9989, -0.3703,  0.9894, -0.9943, -0.4119, -0.7401, -0.5359,\n          0.1039, -0.1101,  0.8815, -0.2656,  0.1894, -0.3996,  0.9312, -0.7658,\n          0.3462, -0.9409,  0.8968,  0.6491, -0.9962, -0.9846, -0.9528,  0.9939,\n          0.9212,  0.9868, -0.7929,  0.0217,  0.6420,  0.9425, -0.9818,  0.7068,\n         -0.4548,  0.8159, -0.6750, -0.9122, -0.2918, -0.9873, -0.4314,  0.0901,\n          0.8781, -0.0697,  0.9922,  0.8906, -0.9478, -0.6844, -0.9930, -0.9708,\n          0.9736,  0.6782,  0.9028, -0.4686, -0.6040,  0.9779,  0.8434, -0.1475,\n         -0.9849, -0.9888, -0.9043,  0.8248, -0.7053, -0.9660,  0.9352,  0.9965,\n          0.4735, -0.9838, -0.9299,  0.9967,  0.9467,  0.9992, -0.9486,  0.9713,\n         -0.5282,  0.8538, -0.5561,  0.9913, -0.9624,  0.9934,  0.9918,  0.2500,\n          0.8612, -0.9690, -0.6548, -0.9227,  0.5238,  0.4414, -0.2463, -0.8689,\n         -0.3682,  0.9823, -0.9121,  0.9921,  0.7955, -0.5335,  0.9497,  0.3351,\n          0.8349, -0.5400, -0.9949,  0.4020,  0.9229,  0.8693,  0.9918,  0.9137,\n          0.9198, -0.9368, -0.9941, -0.1615, -0.4630, -0.0086, -0.9706,  0.9447,\n          0.9908, -0.9936, -0.0980, -0.3543,  0.8844,  0.7552,  0.1116,  0.1550,\n          0.8191,  0.3270,  0.9407, -0.9922, -0.6082, -0.6685, -0.4518,  0.7745,\n         -0.7930,  0.9887, -0.9434,  0.9906, -0.7223,  0.4638,  0.9422,  0.8805,\n         -0.7446,  0.9939,  0.5282, -0.6558,  0.3547, -0.8082, -0.8090,  0.0312]],\n       grad_fn=<TanhBackward0>), hidden_states=None, past_key_values=None, attentions=None, cross_attentions=None)"
     },
     "execution_count": 90,
     "metadata": {},
     "output_type": "execute_result"
    }
   ],
   "source": [
    "embeddings_outputs = bert.get_embeddings(**inputs)\n",
    "bert.post_forward(**embeddings_outputs)"
   ],
   "metadata": {
    "collapsed": false,
    "pycharm": {
     "name": "#%%\n"
    }
   }
  },
  {
   "cell_type": "code",
   "execution_count": 98,
   "outputs": [],
   "source": [
    "class CSCModel(nn.Module):\n",
    "\n",
    "    def __init__(self):\n",
    "        super(CSCModel, self).__init__()\n",
    "\n",
    "        self.semantic_encoder = bert\n",
    "\n",
    "        self.output_layer = nn.Sequential(\n",
    "            nn.Linear(768, 256),\n",
    "            nn.ReLU(),\n",
    "            nn.Linear(256, 1),\n",
    "            nn.Sigmoid()\n",
    "        )\n",
    "\n",
    "    def forward(self, inputs, noise=None, factor=1):\n",
    "        embeddings_outputs = self.semantic_encoder.get_embeddings(**inputs)\n",
    "\n",
    "        # old_embeddings = embeddings_outputs['embedding_output'].clone()\n",
    "\n",
    "        # if noise is not None:\n",
    "        #     embeddings_outputs['embedding_output'] = self._add_noise(embeddings_outputs['embedding_output'], noise)\n",
    "\n",
    "        outputs = self.semantic_encoder.post_forward(**embeddings_outputs)\n",
    "        outputs = outputs.last_hidden_state\n",
    "\n",
    "        if noise is not None:\n",
    "            # 将噪音加载bert后\n",
    "            outputs = outputs + noise * factor\n",
    "\n",
    "        return self.output_layer(outputs).squeeze(2)\n",
    "\n",
    "    def _add_noise(self, embeddings, noise):\n",
    "        return embeddings + noise"
   ],
   "metadata": {
    "collapsed": false,
    "pycharm": {
     "name": "#%%\n"
    }
   }
  },
  {
   "cell_type": "code",
   "execution_count": 99,
   "outputs": [],
   "source": [
    "model = CSCModel()\n",
    "model = model.to(device)"
   ],
   "metadata": {
    "collapsed": false,
    "pycharm": {
     "name": "#%%\n"
    }
   }
  },
  {
   "cell_type": "code",
   "execution_count": 100,
   "outputs": [
    {
     "data": {
      "text/plain": "tensor([[0.5665, 0.5359, 0.5386, 0.5283, 0.5565, 0.5202, 0.4897, 0.5335, 0.5094,\n         0.5146, 0.5254, 0.5342, 0.5416, 0.5206, 0.5596, 0.5899, 0.5513, 0.5106,\n         0.5380, 0.5558, 0.5359, 0.5704, 0.5711, 0.5259, 0.5203, 0.5388, 0.5168,\n         0.5161, 0.4874, 0.5813, 0.5706, 0.4736, 0.5599, 0.4991, 0.5599, 0.5279,\n         0.5520, 0.5002, 0.5317, 0.5117, 0.5314, 0.5011, 0.5675, 0.4650, 0.4737,\n         0.5203, 0.5411, 0.5274, 0.5303, 0.5907, 0.5114, 0.5229, 0.5057, 0.4655,\n         0.4850, 0.5142, 0.5665, 0.5036, 0.4982, 0.4964, 0.4959, 0.5248, 0.5244,\n         0.5319, 0.5327, 0.5270, 0.5317, 0.5236, 0.5190, 0.5179, 0.5249, 0.5128,\n         0.5273, 0.5151, 0.5036, 0.5031, 0.5088, 0.5060, 0.5119, 0.5178, 0.5247,\n         0.5304, 0.5331, 0.5246, 0.5395, 0.5199, 0.5190, 0.5137, 0.5255, 0.5258,\n         0.5182, 0.5213, 0.5288, 0.5400, 0.5453, 0.5384, 0.5413, 0.5353, 0.5311,\n         0.5304, 0.5285, 0.5356, 0.5469, 0.5219, 0.5203, 0.5162, 0.5283, 0.5303,\n         0.5347, 0.5271, 0.5232, 0.5251, 0.5336, 0.5284, 0.5187, 0.5423, 0.5127,\n         0.5408, 0.5134, 0.5264, 0.5065, 0.5041, 0.4955, 0.5070, 0.5093, 0.5255,\n         0.5223, 0.5220]], grad_fn=<SqueezeBackward1>)"
     },
     "execution_count": 100,
     "metadata": {},
     "output_type": "execute_result"
    }
   ],
   "source": [
    "outputs = model(inputs.to(device), noise.to(device))\n",
    "outputs"
   ],
   "metadata": {
    "collapsed": false,
    "pycharm": {
     "name": "#%%\n"
    }
   }
  },
  {
   "cell_type": "markdown",
   "source": [
    "# Validation"
   ],
   "metadata": {
    "collapsed": false,
    "pycharm": {
     "name": "#%% md\n"
    }
   }
  },
  {
   "cell_type": "code",
   "execution_count": 101,
   "outputs": [],
   "source": [
    "def predict(text):\n",
    "    inputs = tokenizer(text, return_tensors='pt')\n",
    "    outputs = model(inputs.to(device))\n",
    "\n",
    "    segments = []\n",
    "    last_index = 0\n",
    "    for index in torch.where(outputs[0, 1:-1] >= 0.5)[0].tolist():\n",
    "        segments.append(text[last_index:index])\n",
    "        segments.append(\"\\033[1;31m\" + text[index] + \"\\033[0m\")\n",
    "        last_index = index + 1\n",
    "    segments.append(text[last_index:])\n",
    "\n",
    "    return ''.join(segments), (outputs[0, 1:-1] >= 0.5).int()\n",
    "\n",
    "\n",
    "def validation():\n",
    "    with open(\"data/test.sighan15.pkl\", mode='br') as f:\n",
    "        test_data = pickle.load(f)\n",
    "\n",
    "    total_num = 0\n",
    "    total_correct = 0\n",
    "\n",
    "    total_recall_num = 0\n",
    "    total_recall_correct = 0\n",
    "\n",
    "    total_precision_num = 0\n",
    "    total_precision_correct = 0\n",
    "\n",
    "    prograss = tqdm(range(len(test_data)))\n",
    "    for i in prograss:\n",
    "        src, tgt = test_data[i]['src'], test_data[i]['tgt']\n",
    "\n",
    "        _, output = predict(src)\n",
    "        target = (torch.tensor(test_data[i]['src_idx']) != torch.tensor(test_data[i]['tgt_idx'])).int()[1:-1].to(device)\n",
    "\n",
    "        if len(output) != len(target):\n",
    "            print(\"第%d条数据异常，请检查\" % i)\n",
    "            break\n",
    "\n",
    "        total_num += 1\n",
    "        if (output != target).sum().item() == 0:\n",
    "            total_correct += 1\n",
    "\n",
    "        total_recall_correct += output[target == 1].sum().item()\n",
    "        total_recall_num += (target == 1).sum().item()\n",
    "\n",
    "        total_precision_num += (output == 1).sum().item()\n",
    "        total_precision_correct += (target[output == 1]).sum().item()\n",
    "\n",
    "        accuracy = total_correct / total_num\n",
    "        recall = total_recall_correct / (total_recall_num + 1e-9)\n",
    "        precision = total_precision_correct / (total_precision_num + 1e-9)\n",
    "\n",
    "        prograss.set_postfix({\n",
    "            'accuracy': accuracy,\n",
    "            'recall': recall,\n",
    "            'precision': precision\n",
    "        })"
   ],
   "metadata": {
    "collapsed": false,
    "pycharm": {
     "name": "#%%\n"
    }
   }
  },
  {
   "cell_type": "code",
   "execution_count": 97,
   "outputs": [
    {
     "name": "stderr",
     "output_type": "stream",
     "text": [
      " 87%|████████▋ | 953/1100 [01:27<00:13, 10.89it/s, accuracy=0.509, recall=0, precision=0]\n"
     ]
    },
    {
     "ename": "KeyboardInterrupt",
     "evalue": "",
     "output_type": "error",
     "traceback": [
      "\u001B[1;31m---------------------------------------------------------------------------\u001B[0m",
      "\u001B[1;31mKeyboardInterrupt\u001B[0m                         Traceback (most recent call last)",
      "\u001B[1;32m<ipython-input-97-232479bfb929>\u001B[0m in \u001B[0;36m<module>\u001B[1;34m\u001B[0m\n\u001B[1;32m----> 1\u001B[1;33m \u001B[0mvalidation\u001B[0m\u001B[1;33m(\u001B[0m\u001B[1;33m)\u001B[0m\u001B[1;33m\u001B[0m\u001B[1;33m\u001B[0m\u001B[0m\n\u001B[0m",
      "\u001B[1;32m<ipython-input-96-4860996ba330>\u001B[0m in \u001B[0;36mvalidation\u001B[1;34m()\u001B[0m\n\u001B[0;32m     31\u001B[0m         \u001B[0msrc\u001B[0m\u001B[1;33m,\u001B[0m \u001B[0mtgt\u001B[0m \u001B[1;33m=\u001B[0m \u001B[0mtest_data\u001B[0m\u001B[1;33m[\u001B[0m\u001B[0mi\u001B[0m\u001B[1;33m]\u001B[0m\u001B[1;33m[\u001B[0m\u001B[1;34m'src'\u001B[0m\u001B[1;33m]\u001B[0m\u001B[1;33m,\u001B[0m \u001B[0mtest_data\u001B[0m\u001B[1;33m[\u001B[0m\u001B[0mi\u001B[0m\u001B[1;33m]\u001B[0m\u001B[1;33m[\u001B[0m\u001B[1;34m'tgt'\u001B[0m\u001B[1;33m]\u001B[0m\u001B[1;33m\u001B[0m\u001B[1;33m\u001B[0m\u001B[0m\n\u001B[0;32m     32\u001B[0m \u001B[1;33m\u001B[0m\u001B[0m\n\u001B[1;32m---> 33\u001B[1;33m         \u001B[0m_\u001B[0m\u001B[1;33m,\u001B[0m \u001B[0moutput\u001B[0m \u001B[1;33m=\u001B[0m \u001B[0mpredict\u001B[0m\u001B[1;33m(\u001B[0m\u001B[0msrc\u001B[0m\u001B[1;33m)\u001B[0m\u001B[1;33m\u001B[0m\u001B[1;33m\u001B[0m\u001B[0m\n\u001B[0m\u001B[0;32m     34\u001B[0m         \u001B[0mtarget\u001B[0m \u001B[1;33m=\u001B[0m \u001B[1;33m(\u001B[0m\u001B[0mtorch\u001B[0m\u001B[1;33m.\u001B[0m\u001B[0mtensor\u001B[0m\u001B[1;33m(\u001B[0m\u001B[0mtest_data\u001B[0m\u001B[1;33m[\u001B[0m\u001B[0mi\u001B[0m\u001B[1;33m]\u001B[0m\u001B[1;33m[\u001B[0m\u001B[1;34m'src_idx'\u001B[0m\u001B[1;33m]\u001B[0m\u001B[1;33m)\u001B[0m \u001B[1;33m!=\u001B[0m \u001B[0mtorch\u001B[0m\u001B[1;33m.\u001B[0m\u001B[0mtensor\u001B[0m\u001B[1;33m(\u001B[0m\u001B[0mtest_data\u001B[0m\u001B[1;33m[\u001B[0m\u001B[0mi\u001B[0m\u001B[1;33m]\u001B[0m\u001B[1;33m[\u001B[0m\u001B[1;34m'tgt_idx'\u001B[0m\u001B[1;33m]\u001B[0m\u001B[1;33m)\u001B[0m\u001B[1;33m)\u001B[0m\u001B[1;33m.\u001B[0m\u001B[0mint\u001B[0m\u001B[1;33m(\u001B[0m\u001B[1;33m)\u001B[0m\u001B[1;33m[\u001B[0m\u001B[1;36m1\u001B[0m\u001B[1;33m:\u001B[0m\u001B[1;33m-\u001B[0m\u001B[1;36m1\u001B[0m\u001B[1;33m]\u001B[0m\u001B[1;33m.\u001B[0m\u001B[0mto\u001B[0m\u001B[1;33m(\u001B[0m\u001B[0mdevice\u001B[0m\u001B[1;33m)\u001B[0m\u001B[1;33m\u001B[0m\u001B[1;33m\u001B[0m\u001B[0m\n\u001B[0;32m     35\u001B[0m \u001B[1;33m\u001B[0m\u001B[0m\n",
      "\u001B[1;32m<ipython-input-96-4860996ba330>\u001B[0m in \u001B[0;36mpredict\u001B[1;34m(text)\u001B[0m\n\u001B[0;32m      1\u001B[0m \u001B[1;32mdef\u001B[0m \u001B[0mpredict\u001B[0m\u001B[1;33m(\u001B[0m\u001B[0mtext\u001B[0m\u001B[1;33m)\u001B[0m\u001B[1;33m:\u001B[0m\u001B[1;33m\u001B[0m\u001B[1;33m\u001B[0m\u001B[0m\n\u001B[0;32m      2\u001B[0m     \u001B[0minputs\u001B[0m \u001B[1;33m=\u001B[0m \u001B[0mtokenizer\u001B[0m\u001B[1;33m(\u001B[0m\u001B[0mtext\u001B[0m\u001B[1;33m,\u001B[0m \u001B[0mreturn_tensors\u001B[0m\u001B[1;33m=\u001B[0m\u001B[1;34m'pt'\u001B[0m\u001B[1;33m)\u001B[0m\u001B[1;33m\u001B[0m\u001B[1;33m\u001B[0m\u001B[0m\n\u001B[1;32m----> 3\u001B[1;33m     \u001B[0moutputs\u001B[0m \u001B[1;33m=\u001B[0m \u001B[0mmodel\u001B[0m\u001B[1;33m(\u001B[0m\u001B[0minputs\u001B[0m\u001B[1;33m.\u001B[0m\u001B[0mto\u001B[0m\u001B[1;33m(\u001B[0m\u001B[0mdevice\u001B[0m\u001B[1;33m)\u001B[0m\u001B[1;33m)\u001B[0m\u001B[1;33m\u001B[0m\u001B[1;33m\u001B[0m\u001B[0m\n\u001B[0m\u001B[0;32m      4\u001B[0m \u001B[1;33m\u001B[0m\u001B[0m\n\u001B[0;32m      5\u001B[0m     \u001B[0msegments\u001B[0m \u001B[1;33m=\u001B[0m \u001B[1;33m[\u001B[0m\u001B[1;33m]\u001B[0m\u001B[1;33m\u001B[0m\u001B[1;33m\u001B[0m\u001B[0m\n",
      "\u001B[1;32mD:\\Anaconda3\\lib\\site-packages\\torch\\nn\\modules\\module.py\u001B[0m in \u001B[0;36m_call_impl\u001B[1;34m(self, *input, **kwargs)\u001B[0m\n\u001B[0;32m   1128\u001B[0m         if not (self._backward_hooks or self._forward_hooks or self._forward_pre_hooks or _global_backward_hooks\n\u001B[0;32m   1129\u001B[0m                 or _global_forward_hooks or _global_forward_pre_hooks):\n\u001B[1;32m-> 1130\u001B[1;33m             \u001B[1;32mreturn\u001B[0m \u001B[0mforward_call\u001B[0m\u001B[1;33m(\u001B[0m\u001B[1;33m*\u001B[0m\u001B[0minput\u001B[0m\u001B[1;33m,\u001B[0m \u001B[1;33m**\u001B[0m\u001B[0mkwargs\u001B[0m\u001B[1;33m)\u001B[0m\u001B[1;33m\u001B[0m\u001B[1;33m\u001B[0m\u001B[0m\n\u001B[0m\u001B[0;32m   1131\u001B[0m         \u001B[1;31m# Do not call functions when jit is used\u001B[0m\u001B[1;33m\u001B[0m\u001B[1;33m\u001B[0m\u001B[1;33m\u001B[0m\u001B[0m\n\u001B[0;32m   1132\u001B[0m         \u001B[0mfull_backward_hooks\u001B[0m\u001B[1;33m,\u001B[0m \u001B[0mnon_full_backward_hooks\u001B[0m \u001B[1;33m=\u001B[0m \u001B[1;33m[\u001B[0m\u001B[1;33m]\u001B[0m\u001B[1;33m,\u001B[0m \u001B[1;33m[\u001B[0m\u001B[1;33m]\u001B[0m\u001B[1;33m\u001B[0m\u001B[1;33m\u001B[0m\u001B[0m\n",
      "\u001B[1;32m<ipython-input-91-0d15da218c4a>\u001B[0m in \u001B[0;36mforward\u001B[1;34m(self, inputs, noise)\u001B[0m\n\u001B[0;32m     21\u001B[0m         \u001B[1;31m#     embeddings_outputs['embedding_output'] = self._add_noise(embeddings_outputs['embedding_output'], noise)\u001B[0m\u001B[1;33m\u001B[0m\u001B[1;33m\u001B[0m\u001B[1;33m\u001B[0m\u001B[0m\n\u001B[0;32m     22\u001B[0m \u001B[1;33m\u001B[0m\u001B[0m\n\u001B[1;32m---> 23\u001B[1;33m         \u001B[0moutputs\u001B[0m \u001B[1;33m=\u001B[0m \u001B[0mself\u001B[0m\u001B[1;33m.\u001B[0m\u001B[0msemantic_encoder\u001B[0m\u001B[1;33m.\u001B[0m\u001B[0mpost_forward\u001B[0m\u001B[1;33m(\u001B[0m\u001B[1;33m**\u001B[0m\u001B[0membeddings_outputs\u001B[0m\u001B[1;33m)\u001B[0m\u001B[1;33m\u001B[0m\u001B[1;33m\u001B[0m\u001B[0m\n\u001B[0m\u001B[0;32m     24\u001B[0m         \u001B[0moutputs\u001B[0m \u001B[1;33m=\u001B[0m \u001B[0moutputs\u001B[0m\u001B[1;33m.\u001B[0m\u001B[0mlast_hidden_state\u001B[0m\u001B[1;33m\u001B[0m\u001B[1;33m\u001B[0m\u001B[0m\n\u001B[0;32m     25\u001B[0m \u001B[1;33m\u001B[0m\u001B[0m\n",
      "\u001B[1;32m<ipython-input-88-322744e9a8da>\u001B[0m in \u001B[0;36mpost_forward\u001B[1;34m(self, embedding_output, extended_attention_mask, encoder_extended_attention_mask, input_ids, attention_mask, token_type_ids, position_ids, head_mask, inputs_embeds, encoder_hidden_states, encoder_attention_mask, past_key_values, use_cache, output_attentions, output_hidden_states, return_dict)\u001B[0m\n\u001B[0;32m    137\u001B[0m         \u001B[0mreturn_dict\u001B[0m\u001B[1;33m:\u001B[0m \u001B[0mOptional\u001B[0m\u001B[1;33m[\u001B[0m\u001B[0mbool\u001B[0m\u001B[1;33m]\u001B[0m \u001B[1;33m=\u001B[0m \u001B[1;32mNone\u001B[0m\u001B[1;33m,\u001B[0m\u001B[1;33m\u001B[0m\u001B[1;33m\u001B[0m\u001B[0m\n\u001B[0;32m    138\u001B[0m ) -> Union[Tuple[torch.Tensor], BaseModelOutputWithPoolingAndCrossAttentions]:\n\u001B[1;32m--> 139\u001B[1;33m     encoder_outputs = self.encoder(\n\u001B[0m\u001B[0;32m    140\u001B[0m         \u001B[0membedding_output\u001B[0m\u001B[1;33m,\u001B[0m\u001B[1;33m\u001B[0m\u001B[1;33m\u001B[0m\u001B[0m\n\u001B[0;32m    141\u001B[0m         \u001B[0mattention_mask\u001B[0m\u001B[1;33m=\u001B[0m\u001B[0mextended_attention_mask\u001B[0m\u001B[1;33m,\u001B[0m\u001B[1;33m\u001B[0m\u001B[1;33m\u001B[0m\u001B[0m\n",
      "\u001B[1;32mD:\\Anaconda3\\lib\\site-packages\\torch\\nn\\modules\\module.py\u001B[0m in \u001B[0;36m_call_impl\u001B[1;34m(self, *input, **kwargs)\u001B[0m\n\u001B[0;32m   1128\u001B[0m         if not (self._backward_hooks or self._forward_hooks or self._forward_pre_hooks or _global_backward_hooks\n\u001B[0;32m   1129\u001B[0m                 or _global_forward_hooks or _global_forward_pre_hooks):\n\u001B[1;32m-> 1130\u001B[1;33m             \u001B[1;32mreturn\u001B[0m \u001B[0mforward_call\u001B[0m\u001B[1;33m(\u001B[0m\u001B[1;33m*\u001B[0m\u001B[0minput\u001B[0m\u001B[1;33m,\u001B[0m \u001B[1;33m**\u001B[0m\u001B[0mkwargs\u001B[0m\u001B[1;33m)\u001B[0m\u001B[1;33m\u001B[0m\u001B[1;33m\u001B[0m\u001B[0m\n\u001B[0m\u001B[0;32m   1131\u001B[0m         \u001B[1;31m# Do not call functions when jit is used\u001B[0m\u001B[1;33m\u001B[0m\u001B[1;33m\u001B[0m\u001B[1;33m\u001B[0m\u001B[0m\n\u001B[0;32m   1132\u001B[0m         \u001B[0mfull_backward_hooks\u001B[0m\u001B[1;33m,\u001B[0m \u001B[0mnon_full_backward_hooks\u001B[0m \u001B[1;33m=\u001B[0m \u001B[1;33m[\u001B[0m\u001B[1;33m]\u001B[0m\u001B[1;33m,\u001B[0m \u001B[1;33m[\u001B[0m\u001B[1;33m]\u001B[0m\u001B[1;33m\u001B[0m\u001B[1;33m\u001B[0m\u001B[0m\n",
      "\u001B[1;32mD:\\Anaconda3\\lib\\site-packages\\transformers\\models\\bert\\modeling_bert.py\u001B[0m in \u001B[0;36mforward\u001B[1;34m(self, hidden_states, attention_mask, head_mask, encoder_hidden_states, encoder_attention_mask, past_key_values, use_cache, output_attentions, output_hidden_states, return_dict)\u001B[0m\n\u001B[0;32m    605\u001B[0m                 )\n\u001B[0;32m    606\u001B[0m             \u001B[1;32melse\u001B[0m\u001B[1;33m:\u001B[0m\u001B[1;33m\u001B[0m\u001B[1;33m\u001B[0m\u001B[0m\n\u001B[1;32m--> 607\u001B[1;33m                 layer_outputs = layer_module(\n\u001B[0m\u001B[0;32m    608\u001B[0m                     \u001B[0mhidden_states\u001B[0m\u001B[1;33m,\u001B[0m\u001B[1;33m\u001B[0m\u001B[1;33m\u001B[0m\u001B[0m\n\u001B[0;32m    609\u001B[0m                     \u001B[0mattention_mask\u001B[0m\u001B[1;33m,\u001B[0m\u001B[1;33m\u001B[0m\u001B[1;33m\u001B[0m\u001B[0m\n",
      "\u001B[1;32mD:\\Anaconda3\\lib\\site-packages\\torch\\nn\\modules\\module.py\u001B[0m in \u001B[0;36m_call_impl\u001B[1;34m(self, *input, **kwargs)\u001B[0m\n\u001B[0;32m   1128\u001B[0m         if not (self._backward_hooks or self._forward_hooks or self._forward_pre_hooks or _global_backward_hooks\n\u001B[0;32m   1129\u001B[0m                 or _global_forward_hooks or _global_forward_pre_hooks):\n\u001B[1;32m-> 1130\u001B[1;33m             \u001B[1;32mreturn\u001B[0m \u001B[0mforward_call\u001B[0m\u001B[1;33m(\u001B[0m\u001B[1;33m*\u001B[0m\u001B[0minput\u001B[0m\u001B[1;33m,\u001B[0m \u001B[1;33m**\u001B[0m\u001B[0mkwargs\u001B[0m\u001B[1;33m)\u001B[0m\u001B[1;33m\u001B[0m\u001B[1;33m\u001B[0m\u001B[0m\n\u001B[0m\u001B[0;32m   1131\u001B[0m         \u001B[1;31m# Do not call functions when jit is used\u001B[0m\u001B[1;33m\u001B[0m\u001B[1;33m\u001B[0m\u001B[1;33m\u001B[0m\u001B[0m\n\u001B[0;32m   1132\u001B[0m         \u001B[0mfull_backward_hooks\u001B[0m\u001B[1;33m,\u001B[0m \u001B[0mnon_full_backward_hooks\u001B[0m \u001B[1;33m=\u001B[0m \u001B[1;33m[\u001B[0m\u001B[1;33m]\u001B[0m\u001B[1;33m,\u001B[0m \u001B[1;33m[\u001B[0m\u001B[1;33m]\u001B[0m\u001B[1;33m\u001B[0m\u001B[1;33m\u001B[0m\u001B[0m\n",
      "\u001B[1;32mD:\\Anaconda3\\lib\\site-packages\\transformers\\models\\bert\\modeling_bert.py\u001B[0m in \u001B[0;36mforward\u001B[1;34m(self, hidden_states, attention_mask, head_mask, encoder_hidden_states, encoder_attention_mask, past_key_value, output_attentions)\u001B[0m\n\u001B[0;32m    491\u001B[0m         \u001B[1;31m# decoder uni-directional self-attention cached key/values tuple is at positions 1,2\u001B[0m\u001B[1;33m\u001B[0m\u001B[1;33m\u001B[0m\u001B[1;33m\u001B[0m\u001B[0m\n\u001B[0;32m    492\u001B[0m         \u001B[0mself_attn_past_key_value\u001B[0m \u001B[1;33m=\u001B[0m \u001B[0mpast_key_value\u001B[0m\u001B[1;33m[\u001B[0m\u001B[1;33m:\u001B[0m\u001B[1;36m2\u001B[0m\u001B[1;33m]\u001B[0m \u001B[1;32mif\u001B[0m \u001B[0mpast_key_value\u001B[0m \u001B[1;32mis\u001B[0m \u001B[1;32mnot\u001B[0m \u001B[1;32mNone\u001B[0m \u001B[1;32melse\u001B[0m \u001B[1;32mNone\u001B[0m\u001B[1;33m\u001B[0m\u001B[1;33m\u001B[0m\u001B[0m\n\u001B[1;32m--> 493\u001B[1;33m         self_attention_outputs = self.attention(\n\u001B[0m\u001B[0;32m    494\u001B[0m             \u001B[0mhidden_states\u001B[0m\u001B[1;33m,\u001B[0m\u001B[1;33m\u001B[0m\u001B[1;33m\u001B[0m\u001B[0m\n\u001B[0;32m    495\u001B[0m             \u001B[0mattention_mask\u001B[0m\u001B[1;33m,\u001B[0m\u001B[1;33m\u001B[0m\u001B[1;33m\u001B[0m\u001B[0m\n",
      "\u001B[1;32mD:\\Anaconda3\\lib\\site-packages\\torch\\nn\\modules\\module.py\u001B[0m in \u001B[0;36m_call_impl\u001B[1;34m(self, *input, **kwargs)\u001B[0m\n\u001B[0;32m   1128\u001B[0m         if not (self._backward_hooks or self._forward_hooks or self._forward_pre_hooks or _global_backward_hooks\n\u001B[0;32m   1129\u001B[0m                 or _global_forward_hooks or _global_forward_pre_hooks):\n\u001B[1;32m-> 1130\u001B[1;33m             \u001B[1;32mreturn\u001B[0m \u001B[0mforward_call\u001B[0m\u001B[1;33m(\u001B[0m\u001B[1;33m*\u001B[0m\u001B[0minput\u001B[0m\u001B[1;33m,\u001B[0m \u001B[1;33m**\u001B[0m\u001B[0mkwargs\u001B[0m\u001B[1;33m)\u001B[0m\u001B[1;33m\u001B[0m\u001B[1;33m\u001B[0m\u001B[0m\n\u001B[0m\u001B[0;32m   1131\u001B[0m         \u001B[1;31m# Do not call functions when jit is used\u001B[0m\u001B[1;33m\u001B[0m\u001B[1;33m\u001B[0m\u001B[1;33m\u001B[0m\u001B[0m\n\u001B[0;32m   1132\u001B[0m         \u001B[0mfull_backward_hooks\u001B[0m\u001B[1;33m,\u001B[0m \u001B[0mnon_full_backward_hooks\u001B[0m \u001B[1;33m=\u001B[0m \u001B[1;33m[\u001B[0m\u001B[1;33m]\u001B[0m\u001B[1;33m,\u001B[0m \u001B[1;33m[\u001B[0m\u001B[1;33m]\u001B[0m\u001B[1;33m\u001B[0m\u001B[1;33m\u001B[0m\u001B[0m\n",
      "\u001B[1;32mD:\\Anaconda3\\lib\\site-packages\\transformers\\models\\bert\\modeling_bert.py\u001B[0m in \u001B[0;36mforward\u001B[1;34m(self, hidden_states, attention_mask, head_mask, encoder_hidden_states, encoder_attention_mask, past_key_value, output_attentions)\u001B[0m\n\u001B[0;32m    421\u001B[0m         \u001B[0moutput_attentions\u001B[0m\u001B[1;33m:\u001B[0m \u001B[0mOptional\u001B[0m\u001B[1;33m[\u001B[0m\u001B[0mbool\u001B[0m\u001B[1;33m]\u001B[0m \u001B[1;33m=\u001B[0m \u001B[1;32mFalse\u001B[0m\u001B[1;33m,\u001B[0m\u001B[1;33m\u001B[0m\u001B[1;33m\u001B[0m\u001B[0m\n\u001B[0;32m    422\u001B[0m     ) -> Tuple[torch.Tensor]:\n\u001B[1;32m--> 423\u001B[1;33m         self_outputs = self.self(\n\u001B[0m\u001B[0;32m    424\u001B[0m             \u001B[0mhidden_states\u001B[0m\u001B[1;33m,\u001B[0m\u001B[1;33m\u001B[0m\u001B[1;33m\u001B[0m\u001B[0m\n\u001B[0;32m    425\u001B[0m             \u001B[0mattention_mask\u001B[0m\u001B[1;33m,\u001B[0m\u001B[1;33m\u001B[0m\u001B[1;33m\u001B[0m\u001B[0m\n",
      "\u001B[1;32mD:\\Anaconda3\\lib\\site-packages\\torch\\nn\\modules\\module.py\u001B[0m in \u001B[0;36m_call_impl\u001B[1;34m(self, *input, **kwargs)\u001B[0m\n\u001B[0;32m   1128\u001B[0m         if not (self._backward_hooks or self._forward_hooks or self._forward_pre_hooks or _global_backward_hooks\n\u001B[0;32m   1129\u001B[0m                 or _global_forward_hooks or _global_forward_pre_hooks):\n\u001B[1;32m-> 1130\u001B[1;33m             \u001B[1;32mreturn\u001B[0m \u001B[0mforward_call\u001B[0m\u001B[1;33m(\u001B[0m\u001B[1;33m*\u001B[0m\u001B[0minput\u001B[0m\u001B[1;33m,\u001B[0m \u001B[1;33m**\u001B[0m\u001B[0mkwargs\u001B[0m\u001B[1;33m)\u001B[0m\u001B[1;33m\u001B[0m\u001B[1;33m\u001B[0m\u001B[0m\n\u001B[0m\u001B[0;32m   1131\u001B[0m         \u001B[1;31m# Do not call functions when jit is used\u001B[0m\u001B[1;33m\u001B[0m\u001B[1;33m\u001B[0m\u001B[1;33m\u001B[0m\u001B[0m\n\u001B[0;32m   1132\u001B[0m         \u001B[0mfull_backward_hooks\u001B[0m\u001B[1;33m,\u001B[0m \u001B[0mnon_full_backward_hooks\u001B[0m \u001B[1;33m=\u001B[0m \u001B[1;33m[\u001B[0m\u001B[1;33m]\u001B[0m\u001B[1;33m,\u001B[0m \u001B[1;33m[\u001B[0m\u001B[1;33m]\u001B[0m\u001B[1;33m\u001B[0m\u001B[1;33m\u001B[0m\u001B[0m\n",
      "\u001B[1;32mD:\\Anaconda3\\lib\\site-packages\\transformers\\models\\bert\\modeling_bert.py\u001B[0m in \u001B[0;36mforward\u001B[1;34m(self, hidden_states, attention_mask, head_mask, encoder_hidden_states, encoder_attention_mask, past_key_value, output_attentions)\u001B[0m\n\u001B[0;32m    325\u001B[0m \u001B[1;33m\u001B[0m\u001B[0m\n\u001B[0;32m    326\u001B[0m         \u001B[1;31m# Take the dot product between \"query\" and \"key\" to get the raw attention scores.\u001B[0m\u001B[1;33m\u001B[0m\u001B[1;33m\u001B[0m\u001B[1;33m\u001B[0m\u001B[0m\n\u001B[1;32m--> 327\u001B[1;33m         \u001B[0mattention_scores\u001B[0m \u001B[1;33m=\u001B[0m \u001B[0mtorch\u001B[0m\u001B[1;33m.\u001B[0m\u001B[0mmatmul\u001B[0m\u001B[1;33m(\u001B[0m\u001B[0mquery_layer\u001B[0m\u001B[1;33m,\u001B[0m \u001B[0mkey_layer\u001B[0m\u001B[1;33m.\u001B[0m\u001B[0mtranspose\u001B[0m\u001B[1;33m(\u001B[0m\u001B[1;33m-\u001B[0m\u001B[1;36m1\u001B[0m\u001B[1;33m,\u001B[0m \u001B[1;33m-\u001B[0m\u001B[1;36m2\u001B[0m\u001B[1;33m)\u001B[0m\u001B[1;33m)\u001B[0m\u001B[1;33m\u001B[0m\u001B[1;33m\u001B[0m\u001B[0m\n\u001B[0m\u001B[0;32m    328\u001B[0m \u001B[1;33m\u001B[0m\u001B[0m\n\u001B[0;32m    329\u001B[0m         \u001B[1;32mif\u001B[0m \u001B[0mself\u001B[0m\u001B[1;33m.\u001B[0m\u001B[0mposition_embedding_type\u001B[0m \u001B[1;33m==\u001B[0m \u001B[1;34m\"relative_key\"\u001B[0m \u001B[1;32mor\u001B[0m \u001B[0mself\u001B[0m\u001B[1;33m.\u001B[0m\u001B[0mposition_embedding_type\u001B[0m \u001B[1;33m==\u001B[0m \u001B[1;34m\"relative_key_query\"\u001B[0m\u001B[1;33m:\u001B[0m\u001B[1;33m\u001B[0m\u001B[1;33m\u001B[0m\u001B[0m\n",
      "\u001B[1;31mKeyboardInterrupt\u001B[0m: "
     ]
    }
   ],
   "source": [
    "validation()"
   ],
   "metadata": {
    "collapsed": false,
    "pycharm": {
     "name": "#%%\n"
    }
   }
  },
  {
   "cell_type": "markdown",
   "source": [
    "# Train"
   ],
   "metadata": {
    "collapsed": false,
    "pycharm": {
     "name": "#%% md\n"
    }
   }
  },
  {
   "cell_type": "code",
   "execution_count": 102,
   "outputs": [],
   "source": [
    "model = model.train()"
   ],
   "metadata": {
    "collapsed": false,
    "pycharm": {
     "name": "#%%\n"
    }
   }
  },
  {
   "cell_type": "code",
   "execution_count": 103,
   "outputs": [],
   "source": [
    "criteria = nn.BCELoss()\n",
    "optimizer = torch.optim.Adam(model.output_layer.parameters(), lr=1e-4)"
   ],
   "metadata": {
    "collapsed": false,
    "pycharm": {
     "name": "#%%\n"
    }
   }
  },
  {
   "cell_type": "code",
   "execution_count": 104,
   "outputs": [
    {
     "name": "stdout",
     "output_type": "stream",
     "text": [
      "Epoch 0, Step 1, loss 0.74591, accuracy 0.1250, recall 0.8750\n",
      "Epoch 1, Step 2, loss 0.69944, accuracy 0.3594, recall 0.7500\n",
      "Epoch 2, Step 3, loss 0.66917, accuracy 0.7578, recall 0.6250\n",
      "Epoch 3, Step 4, loss 0.63116, accuracy 0.9219, recall 0.5000\n",
      "Epoch 4, Step 5, loss 0.59788, accuracy 0.9375, recall 0.1250\n"
     ]
    },
    {
     "ename": "KeyboardInterrupt",
     "evalue": "",
     "output_type": "error",
     "traceback": [
      "\u001B[1;31m---------------------------------------------------------------------------\u001B[0m",
      "\u001B[1;31mKeyboardInterrupt\u001B[0m                         Traceback (most recent call last)",
      "\u001B[1;32m<ipython-input-104-24f058ae9ee2>\u001B[0m in \u001B[0;36m<module>\u001B[1;34m\u001B[0m\n\u001B[0;32m     12\u001B[0m         \u001B[0moutputs\u001B[0m \u001B[1;33m=\u001B[0m \u001B[0mmodel\u001B[0m\u001B[1;33m(\u001B[0m\u001B[0minputs\u001B[0m\u001B[1;33m,\u001B[0m \u001B[0mnoise\u001B[0m\u001B[1;33m)\u001B[0m\u001B[1;33m\u001B[0m\u001B[1;33m\u001B[0m\u001B[0m\n\u001B[0;32m     13\u001B[0m         \u001B[0mloss\u001B[0m \u001B[1;33m=\u001B[0m \u001B[0mcriteria\u001B[0m\u001B[1;33m(\u001B[0m\u001B[0moutputs\u001B[0m\u001B[1;33m,\u001B[0m \u001B[0mtargets\u001B[0m\u001B[1;33m)\u001B[0m\u001B[1;33m\u001B[0m\u001B[1;33m\u001B[0m\u001B[0m\n\u001B[1;32m---> 14\u001B[1;33m         \u001B[0mloss\u001B[0m\u001B[1;33m.\u001B[0m\u001B[0mbackward\u001B[0m\u001B[1;33m(\u001B[0m\u001B[1;33m)\u001B[0m\u001B[1;33m\u001B[0m\u001B[1;33m\u001B[0m\u001B[0m\n\u001B[0m\u001B[0;32m     15\u001B[0m         \u001B[0moptimizer\u001B[0m\u001B[1;33m.\u001B[0m\u001B[0mstep\u001B[0m\u001B[1;33m(\u001B[0m\u001B[1;33m)\u001B[0m\u001B[1;33m\u001B[0m\u001B[1;33m\u001B[0m\u001B[0m\n\u001B[0;32m     16\u001B[0m         \u001B[0moptimizer\u001B[0m\u001B[1;33m.\u001B[0m\u001B[0mzero_grad\u001B[0m\u001B[1;33m(\u001B[0m\u001B[1;33m)\u001B[0m\u001B[1;33m\u001B[0m\u001B[1;33m\u001B[0m\u001B[0m\n",
      "\u001B[1;32mD:\\Anaconda3\\lib\\site-packages\\torch\\_tensor.py\u001B[0m in \u001B[0;36mbackward\u001B[1;34m(self, gradient, retain_graph, create_graph, inputs)\u001B[0m\n\u001B[0;32m    394\u001B[0m                 \u001B[0mcreate_graph\u001B[0m\u001B[1;33m=\u001B[0m\u001B[0mcreate_graph\u001B[0m\u001B[1;33m,\u001B[0m\u001B[1;33m\u001B[0m\u001B[1;33m\u001B[0m\u001B[0m\n\u001B[0;32m    395\u001B[0m                 inputs=inputs)\n\u001B[1;32m--> 396\u001B[1;33m         \u001B[0mtorch\u001B[0m\u001B[1;33m.\u001B[0m\u001B[0mautograd\u001B[0m\u001B[1;33m.\u001B[0m\u001B[0mbackward\u001B[0m\u001B[1;33m(\u001B[0m\u001B[0mself\u001B[0m\u001B[1;33m,\u001B[0m \u001B[0mgradient\u001B[0m\u001B[1;33m,\u001B[0m \u001B[0mretain_graph\u001B[0m\u001B[1;33m,\u001B[0m \u001B[0mcreate_graph\u001B[0m\u001B[1;33m,\u001B[0m \u001B[0minputs\u001B[0m\u001B[1;33m=\u001B[0m\u001B[0minputs\u001B[0m\u001B[1;33m)\u001B[0m\u001B[1;33m\u001B[0m\u001B[1;33m\u001B[0m\u001B[0m\n\u001B[0m\u001B[0;32m    397\u001B[0m \u001B[1;33m\u001B[0m\u001B[0m\n\u001B[0;32m    398\u001B[0m     \u001B[1;32mdef\u001B[0m \u001B[0mregister_hook\u001B[0m\u001B[1;33m(\u001B[0m\u001B[0mself\u001B[0m\u001B[1;33m,\u001B[0m \u001B[0mhook\u001B[0m\u001B[1;33m)\u001B[0m\u001B[1;33m:\u001B[0m\u001B[1;33m\u001B[0m\u001B[1;33m\u001B[0m\u001B[0m\n",
      "\u001B[1;32mD:\\Anaconda3\\lib\\site-packages\\torch\\autograd\\__init__.py\u001B[0m in \u001B[0;36mbackward\u001B[1;34m(tensors, grad_tensors, retain_graph, create_graph, grad_variables, inputs)\u001B[0m\n\u001B[0;32m    171\u001B[0m     \u001B[1;31m# some Python versions print out the first line of a multi-line function\u001B[0m\u001B[1;33m\u001B[0m\u001B[1;33m\u001B[0m\u001B[1;33m\u001B[0m\u001B[0m\n\u001B[0;32m    172\u001B[0m     \u001B[1;31m# calls in the traceback and some print out the last line\u001B[0m\u001B[1;33m\u001B[0m\u001B[1;33m\u001B[0m\u001B[1;33m\u001B[0m\u001B[0m\n\u001B[1;32m--> 173\u001B[1;33m     Variable._execution_engine.run_backward(  # Calls into the C++ engine to run the backward pass\n\u001B[0m\u001B[0;32m    174\u001B[0m         \u001B[0mtensors\u001B[0m\u001B[1;33m,\u001B[0m \u001B[0mgrad_tensors_\u001B[0m\u001B[1;33m,\u001B[0m \u001B[0mretain_graph\u001B[0m\u001B[1;33m,\u001B[0m \u001B[0mcreate_graph\u001B[0m\u001B[1;33m,\u001B[0m \u001B[0minputs\u001B[0m\u001B[1;33m,\u001B[0m\u001B[1;33m\u001B[0m\u001B[1;33m\u001B[0m\u001B[0m\n\u001B[0;32m    175\u001B[0m         allow_unreachable=True, accumulate_grad=True)  # Calls into the C++ engine to run the backward pass\n",
      "\u001B[1;31mKeyboardInterrupt\u001B[0m: "
     ]
    }
   ],
   "source": [
    "step = 0\n",
    "total_loss = 0.\n",
    "total_correct = 0\n",
    "total_num = 0\n",
    "total_correct_wrong_char = 0\n",
    "total_wrong_char = 0\n",
    "\n",
    "for epoch in range(n_epochs):\n",
    "\n",
    "    for inputs, targets, noise in train_loader:\n",
    "        inputs, targets, noise = inputs.to(device), targets.to(device), noise.to(device)\n",
    "        outputs = model(inputs, noise)\n",
    "        loss = criteria(outputs, targets)\n",
    "        loss.backward()\n",
    "        optimizer.step()\n",
    "        optimizer.zero_grad()\n",
    "\n",
    "        step += 1\n",
    "\n",
    "        total_loss += loss.detach().item()\n",
    "        total_correct += ((outputs >= 0.5).int() == targets.int()).sum().item()\n",
    "        total_num += len(targets.flatten())\n",
    "\n",
    "        # 统计成功预测错字的数量\n",
    "        total_correct_wrong_char += (outputs >= 0.5)[targets == 1].sum().item()\n",
    "        # 统计错字的数量\n",
    "        total_wrong_char += (targets == 1).sum().item()\n",
    "\n",
    "        if step % log_after_step == 0:\n",
    "            print(\"Epoch {}, Step {}, loss {:.5f}, accuracy {:.4f}, recall {:.4f}\".format(epoch, step,\n",
    "                                                                                          total_loss / log_after_step,\n",
    "                                                                                          total_correct / total_num,\n",
    "                                                                                          total_correct_wrong_char / total_wrong_char))\n",
    "            total_loss = 0.\n",
    "            total_correct = 0\n",
    "            total_num = 0\n",
    "            total_correct_wrong_char = 0\n",
    "            total_wrong_char = 0\n",
    "\n",
    "        if step % valid_after_step == 0:\n",
    "            model = model.eval()\n",
    "            validation()\n",
    "            model = model.train()"
   ],
   "metadata": {
    "collapsed": false,
    "pycharm": {
     "name": "#%%\n"
    }
   }
  },
  {
   "cell_type": "code",
   "execution_count": 30,
   "outputs": [],
   "source": [],
   "metadata": {
    "collapsed": false,
    "pycharm": {
     "name": "#%%\n"
    }
   }
  },
  {
   "cell_type": "markdown",
   "source": [
    "# Inference"
   ],
   "metadata": {
    "collapsed": false,
    "pycharm": {
     "name": "#%% md\n"
    }
   }
  },
  {
   "cell_type": "code",
   "execution_count": 31,
   "outputs": [],
   "source": [
    "model = torch.load('csc-model.pt', map_location='cpu')"
   ],
   "metadata": {
    "collapsed": false,
    "pycharm": {
     "name": "#%%\n"
    }
   }
  },
  {
   "cell_type": "code",
   "execution_count": 32,
   "outputs": [],
   "source": [
    "def predict(text):\n",
    "    inputs = tokenizer(text, return_tensors='pt')\n",
    "    outputs = model(inputs.to(device))\n",
    "\n",
    "    segments = []\n",
    "    last_index = 0\n",
    "    for index in torch.where(outputs[0, 1:-1] >= 0.5)[0].tolist():\n",
    "        segments.append(text[last_index:index])\n",
    "        segments.append(\"\\033[1;31m\" + text[index] + \"\\033[0m\")\n",
    "        last_index = index + 1\n",
    "    segments.append(text[last_index:])\n",
    "\n",
    "    return ''.join(segments), (outputs[0, 1:-1] >= 0.5).int()"
   ],
   "metadata": {
    "collapsed": false,
    "pycharm": {
     "name": "#%%\n"
    }
   }
  },
  {
   "cell_type": "code",
   "execution_count": 33,
   "outputs": [
    {
     "ename": "AttributeError",
     "evalue": "'BertModel' object has no attribute 'get_embeddings'",
     "output_type": "error",
     "traceback": [
      "\u001B[1;31m---------------------------------------------------------------------------\u001B[0m",
      "\u001B[1;31mAttributeError\u001B[0m                            Traceback (most recent call last)",
      "\u001B[1;32m<ipython-input-33-7750347dae31>\u001B[0m in \u001B[0;36m<module>\u001B[1;34m\u001B[0m\n\u001B[1;32m----> 1\u001B[1;33m \u001B[0mtext\u001B[0m\u001B[1;33m,\u001B[0m \u001B[0moutput\u001B[0m \u001B[1;33m=\u001B[0m \u001B[0mpredict\u001B[0m\u001B[1;33m(\u001B[0m\u001B[1;34m\"昨天下雨了你紫道吗，但是有些词确实太男了\"\u001B[0m\u001B[1;33m)\u001B[0m\u001B[1;33m\u001B[0m\u001B[1;33m\u001B[0m\u001B[0m\n\u001B[0m\u001B[0;32m      2\u001B[0m \u001B[0mprint\u001B[0m\u001B[1;33m(\u001B[0m\u001B[0mtext\u001B[0m\u001B[1;33m)\u001B[0m\u001B[1;33m\u001B[0m\u001B[1;33m\u001B[0m\u001B[0m\n\u001B[0;32m      3\u001B[0m \u001B[0mprint\u001B[0m\u001B[1;33m(\u001B[0m\u001B[0moutput\u001B[0m\u001B[1;33m)\u001B[0m\u001B[1;33m\u001B[0m\u001B[1;33m\u001B[0m\u001B[0m\n",
      "\u001B[1;32m<ipython-input-32-d92c25dec240>\u001B[0m in \u001B[0;36mpredict\u001B[1;34m(text)\u001B[0m\n\u001B[0;32m      1\u001B[0m \u001B[1;32mdef\u001B[0m \u001B[0mpredict\u001B[0m\u001B[1;33m(\u001B[0m\u001B[0mtext\u001B[0m\u001B[1;33m)\u001B[0m\u001B[1;33m:\u001B[0m\u001B[1;33m\u001B[0m\u001B[1;33m\u001B[0m\u001B[0m\n\u001B[0;32m      2\u001B[0m     \u001B[0minputs\u001B[0m \u001B[1;33m=\u001B[0m \u001B[0mtokenizer\u001B[0m\u001B[1;33m(\u001B[0m\u001B[0mtext\u001B[0m\u001B[1;33m,\u001B[0m \u001B[0mreturn_tensors\u001B[0m\u001B[1;33m=\u001B[0m\u001B[1;34m'pt'\u001B[0m\u001B[1;33m)\u001B[0m\u001B[1;33m\u001B[0m\u001B[1;33m\u001B[0m\u001B[0m\n\u001B[1;32m----> 3\u001B[1;33m     \u001B[0moutputs\u001B[0m \u001B[1;33m=\u001B[0m \u001B[0mmodel\u001B[0m\u001B[1;33m(\u001B[0m\u001B[0minputs\u001B[0m\u001B[1;33m.\u001B[0m\u001B[0mto\u001B[0m\u001B[1;33m(\u001B[0m\u001B[0mdevice\u001B[0m\u001B[1;33m)\u001B[0m\u001B[1;33m)\u001B[0m\u001B[1;33m\u001B[0m\u001B[1;33m\u001B[0m\u001B[0m\n\u001B[0m\u001B[0;32m      4\u001B[0m \u001B[1;33m\u001B[0m\u001B[0m\n\u001B[0;32m      5\u001B[0m     \u001B[0msegments\u001B[0m \u001B[1;33m=\u001B[0m \u001B[1;33m[\u001B[0m\u001B[1;33m]\u001B[0m\u001B[1;33m\u001B[0m\u001B[1;33m\u001B[0m\u001B[0m\n",
      "\u001B[1;32mD:\\Anaconda3\\lib\\site-packages\\torch\\nn\\modules\\module.py\u001B[0m in \u001B[0;36m_call_impl\u001B[1;34m(self, *input, **kwargs)\u001B[0m\n\u001B[0;32m   1128\u001B[0m         if not (self._backward_hooks or self._forward_hooks or self._forward_pre_hooks or _global_backward_hooks\n\u001B[0;32m   1129\u001B[0m                 or _global_forward_hooks or _global_forward_pre_hooks):\n\u001B[1;32m-> 1130\u001B[1;33m             \u001B[1;32mreturn\u001B[0m \u001B[0mforward_call\u001B[0m\u001B[1;33m(\u001B[0m\u001B[1;33m*\u001B[0m\u001B[0minput\u001B[0m\u001B[1;33m,\u001B[0m \u001B[1;33m**\u001B[0m\u001B[0mkwargs\u001B[0m\u001B[1;33m)\u001B[0m\u001B[1;33m\u001B[0m\u001B[1;33m\u001B[0m\u001B[0m\n\u001B[0m\u001B[0;32m   1131\u001B[0m         \u001B[1;31m# Do not call functions when jit is used\u001B[0m\u001B[1;33m\u001B[0m\u001B[1;33m\u001B[0m\u001B[1;33m\u001B[0m\u001B[0m\n\u001B[0;32m   1132\u001B[0m         \u001B[0mfull_backward_hooks\u001B[0m\u001B[1;33m,\u001B[0m \u001B[0mnon_full_backward_hooks\u001B[0m \u001B[1;33m=\u001B[0m \u001B[1;33m[\u001B[0m\u001B[1;33m]\u001B[0m\u001B[1;33m,\u001B[0m \u001B[1;33m[\u001B[0m\u001B[1;33m]\u001B[0m\u001B[1;33m\u001B[0m\u001B[1;33m\u001B[0m\u001B[0m\n",
      "\u001B[1;32m<ipython-input-22-d5f880e44e62>\u001B[0m in \u001B[0;36mforward\u001B[1;34m(self, inputs, noise)\u001B[0m\n\u001B[0;32m     14\u001B[0m \u001B[1;33m\u001B[0m\u001B[0m\n\u001B[0;32m     15\u001B[0m     \u001B[1;32mdef\u001B[0m \u001B[0mforward\u001B[0m\u001B[1;33m(\u001B[0m\u001B[0mself\u001B[0m\u001B[1;33m,\u001B[0m \u001B[0minputs\u001B[0m\u001B[1;33m,\u001B[0m \u001B[0mnoise\u001B[0m\u001B[1;33m=\u001B[0m\u001B[1;32mNone\u001B[0m\u001B[1;33m)\u001B[0m\u001B[1;33m:\u001B[0m\u001B[1;33m\u001B[0m\u001B[1;33m\u001B[0m\u001B[0m\n\u001B[1;32m---> 16\u001B[1;33m         \u001B[0membeddings_outputs\u001B[0m \u001B[1;33m=\u001B[0m \u001B[0mself\u001B[0m\u001B[1;33m.\u001B[0m\u001B[0msemantic_encoder\u001B[0m\u001B[1;33m.\u001B[0m\u001B[0mget_embeddings\u001B[0m\u001B[1;33m(\u001B[0m\u001B[1;33m**\u001B[0m\u001B[0minputs\u001B[0m\u001B[1;33m)\u001B[0m\u001B[1;33m\u001B[0m\u001B[1;33m\u001B[0m\u001B[0m\n\u001B[0m\u001B[0;32m     17\u001B[0m \u001B[1;33m\u001B[0m\u001B[0m\n\u001B[0;32m     18\u001B[0m         \u001B[1;31m# old_embeddings = embeddings_outputs['embedding_output'].clone()\u001B[0m\u001B[1;33m\u001B[0m\u001B[1;33m\u001B[0m\u001B[1;33m\u001B[0m\u001B[0m\n",
      "\u001B[1;32mD:\\Anaconda3\\lib\\site-packages\\torch\\nn\\modules\\module.py\u001B[0m in \u001B[0;36m__getattr__\u001B[1;34m(self, name)\u001B[0m\n\u001B[0;32m   1205\u001B[0m             \u001B[1;32mif\u001B[0m \u001B[0mname\u001B[0m \u001B[1;32min\u001B[0m \u001B[0mmodules\u001B[0m\u001B[1;33m:\u001B[0m\u001B[1;33m\u001B[0m\u001B[1;33m\u001B[0m\u001B[0m\n\u001B[0;32m   1206\u001B[0m                 \u001B[1;32mreturn\u001B[0m \u001B[0mmodules\u001B[0m\u001B[1;33m[\u001B[0m\u001B[0mname\u001B[0m\u001B[1;33m]\u001B[0m\u001B[1;33m\u001B[0m\u001B[1;33m\u001B[0m\u001B[0m\n\u001B[1;32m-> 1207\u001B[1;33m         raise AttributeError(\"'{}' object has no attribute '{}'\".format(\n\u001B[0m\u001B[0;32m   1208\u001B[0m             type(self).__name__, name))\n\u001B[0;32m   1209\u001B[0m \u001B[1;33m\u001B[0m\u001B[0m\n",
      "\u001B[1;31mAttributeError\u001B[0m: 'BertModel' object has no attribute 'get_embeddings'"
     ]
    }
   ],
   "source": [
    "text, output = predict(\"昨天下雨了你紫道吗，但是有些词确实太男了\")\n",
    "print(text)\n",
    "print(output)"
   ],
   "metadata": {
    "collapsed": false,
    "pycharm": {
     "name": "#%%\n"
    }
   }
  },
  {
   "cell_type": "code",
   "execution_count": 34,
   "outputs": [
    {
     "ename": "NameError",
     "evalue": "name 'text' is not defined",
     "output_type": "error",
     "traceback": [
      "\u001B[1;31m---------------------------------------------------------------------------\u001B[0m",
      "\u001B[1;31mNameError\u001B[0m                                 Traceback (most recent call last)",
      "\u001B[1;32m<ipython-input-34-aa785adca3fc>\u001B[0m in \u001B[0;36m<module>\u001B[1;34m\u001B[0m\n\u001B[1;32m----> 1\u001B[1;33m \u001B[0mtext\u001B[0m\u001B[1;33m\u001B[0m\u001B[1;33m\u001B[0m\u001B[0m\n\u001B[0m",
      "\u001B[1;31mNameError\u001B[0m: name 'text' is not defined"
     ]
    }
   ],
   "source": [
    "text"
   ],
   "metadata": {
    "collapsed": false,
    "pycharm": {
     "name": "#%%\n"
    }
   }
  },
  {
   "cell_type": "markdown",
   "source": [
    "# Evaluation"
   ],
   "metadata": {
    "collapsed": false,
    "pycharm": {
     "name": "#%% md\n"
    }
   }
  },
  {
   "cell_type": "code",
   "execution_count": 35,
   "outputs": [],
   "source": [
    "with open(\"data/test.sighan15.pkl\", mode='br') as f:\n",
    "    test_data = pickle.load(f)"
   ],
   "metadata": {
    "collapsed": false,
    "pycharm": {
     "name": "#%%\n"
    }
   }
  },
  {
   "cell_type": "code",
   "execution_count": 36,
   "outputs": [
    {
     "name": "stderr",
     "output_type": "stream",
     "text": [
      "  0%|          | 0/1100 [00:00<?, ?it/s]\n"
     ]
    },
    {
     "ename": "AttributeError",
     "evalue": "'BertModel' object has no attribute 'get_embeddings'",
     "output_type": "error",
     "traceback": [
      "\u001B[1;31m---------------------------------------------------------------------------\u001B[0m",
      "\u001B[1;31mAttributeError\u001B[0m                            Traceback (most recent call last)",
      "\u001B[1;32m<ipython-input-36-efb36a3472b2>\u001B[0m in \u001B[0;36m<module>\u001B[1;34m\u001B[0m\n\u001B[0;32m     12\u001B[0m     \u001B[0msrc\u001B[0m\u001B[1;33m,\u001B[0m \u001B[0mtgt\u001B[0m \u001B[1;33m=\u001B[0m \u001B[0mtest_data\u001B[0m\u001B[1;33m[\u001B[0m\u001B[0mi\u001B[0m\u001B[1;33m]\u001B[0m\u001B[1;33m[\u001B[0m\u001B[1;34m'src'\u001B[0m\u001B[1;33m]\u001B[0m\u001B[1;33m,\u001B[0m \u001B[0mtest_data\u001B[0m\u001B[1;33m[\u001B[0m\u001B[0mi\u001B[0m\u001B[1;33m]\u001B[0m\u001B[1;33m[\u001B[0m\u001B[1;34m'tgt'\u001B[0m\u001B[1;33m]\u001B[0m\u001B[1;33m\u001B[0m\u001B[1;33m\u001B[0m\u001B[0m\n\u001B[0;32m     13\u001B[0m \u001B[1;33m\u001B[0m\u001B[0m\n\u001B[1;32m---> 14\u001B[1;33m     \u001B[0m_\u001B[0m\u001B[1;33m,\u001B[0m \u001B[0moutput\u001B[0m \u001B[1;33m=\u001B[0m \u001B[0mpredict\u001B[0m\u001B[1;33m(\u001B[0m\u001B[0msrc\u001B[0m\u001B[1;33m)\u001B[0m\u001B[1;33m\u001B[0m\u001B[1;33m\u001B[0m\u001B[0m\n\u001B[0m\u001B[0;32m     15\u001B[0m     \u001B[0mtarget\u001B[0m \u001B[1;33m=\u001B[0m \u001B[1;33m(\u001B[0m\u001B[0mtorch\u001B[0m\u001B[1;33m.\u001B[0m\u001B[0mtensor\u001B[0m\u001B[1;33m(\u001B[0m\u001B[0mtest_data\u001B[0m\u001B[1;33m[\u001B[0m\u001B[0mi\u001B[0m\u001B[1;33m]\u001B[0m\u001B[1;33m[\u001B[0m\u001B[1;34m'src_idx'\u001B[0m\u001B[1;33m]\u001B[0m\u001B[1;33m)\u001B[0m \u001B[1;33m!=\u001B[0m \u001B[0mtorch\u001B[0m\u001B[1;33m.\u001B[0m\u001B[0mtensor\u001B[0m\u001B[1;33m(\u001B[0m\u001B[0mtest_data\u001B[0m\u001B[1;33m[\u001B[0m\u001B[0mi\u001B[0m\u001B[1;33m]\u001B[0m\u001B[1;33m[\u001B[0m\u001B[1;34m'tgt_idx'\u001B[0m\u001B[1;33m]\u001B[0m\u001B[1;33m)\u001B[0m\u001B[1;33m)\u001B[0m\u001B[1;33m.\u001B[0m\u001B[0mint\u001B[0m\u001B[1;33m(\u001B[0m\u001B[1;33m)\u001B[0m\u001B[1;33m[\u001B[0m\u001B[1;36m1\u001B[0m\u001B[1;33m:\u001B[0m\u001B[1;33m-\u001B[0m\u001B[1;36m1\u001B[0m\u001B[1;33m]\u001B[0m\u001B[1;33m.\u001B[0m\u001B[0mto\u001B[0m\u001B[1;33m(\u001B[0m\u001B[0mdevice\u001B[0m\u001B[1;33m)\u001B[0m\u001B[1;33m\u001B[0m\u001B[1;33m\u001B[0m\u001B[0m\n\u001B[0;32m     16\u001B[0m \u001B[1;33m\u001B[0m\u001B[0m\n",
      "\u001B[1;32m<ipython-input-32-d92c25dec240>\u001B[0m in \u001B[0;36mpredict\u001B[1;34m(text)\u001B[0m\n\u001B[0;32m      1\u001B[0m \u001B[1;32mdef\u001B[0m \u001B[0mpredict\u001B[0m\u001B[1;33m(\u001B[0m\u001B[0mtext\u001B[0m\u001B[1;33m)\u001B[0m\u001B[1;33m:\u001B[0m\u001B[1;33m\u001B[0m\u001B[1;33m\u001B[0m\u001B[0m\n\u001B[0;32m      2\u001B[0m     \u001B[0minputs\u001B[0m \u001B[1;33m=\u001B[0m \u001B[0mtokenizer\u001B[0m\u001B[1;33m(\u001B[0m\u001B[0mtext\u001B[0m\u001B[1;33m,\u001B[0m \u001B[0mreturn_tensors\u001B[0m\u001B[1;33m=\u001B[0m\u001B[1;34m'pt'\u001B[0m\u001B[1;33m)\u001B[0m\u001B[1;33m\u001B[0m\u001B[1;33m\u001B[0m\u001B[0m\n\u001B[1;32m----> 3\u001B[1;33m     \u001B[0moutputs\u001B[0m \u001B[1;33m=\u001B[0m \u001B[0mmodel\u001B[0m\u001B[1;33m(\u001B[0m\u001B[0minputs\u001B[0m\u001B[1;33m.\u001B[0m\u001B[0mto\u001B[0m\u001B[1;33m(\u001B[0m\u001B[0mdevice\u001B[0m\u001B[1;33m)\u001B[0m\u001B[1;33m)\u001B[0m\u001B[1;33m\u001B[0m\u001B[1;33m\u001B[0m\u001B[0m\n\u001B[0m\u001B[0;32m      4\u001B[0m \u001B[1;33m\u001B[0m\u001B[0m\n\u001B[0;32m      5\u001B[0m     \u001B[0msegments\u001B[0m \u001B[1;33m=\u001B[0m \u001B[1;33m[\u001B[0m\u001B[1;33m]\u001B[0m\u001B[1;33m\u001B[0m\u001B[1;33m\u001B[0m\u001B[0m\n",
      "\u001B[1;32mD:\\Anaconda3\\lib\\site-packages\\torch\\nn\\modules\\module.py\u001B[0m in \u001B[0;36m_call_impl\u001B[1;34m(self, *input, **kwargs)\u001B[0m\n\u001B[0;32m   1128\u001B[0m         if not (self._backward_hooks or self._forward_hooks or self._forward_pre_hooks or _global_backward_hooks\n\u001B[0;32m   1129\u001B[0m                 or _global_forward_hooks or _global_forward_pre_hooks):\n\u001B[1;32m-> 1130\u001B[1;33m             \u001B[1;32mreturn\u001B[0m \u001B[0mforward_call\u001B[0m\u001B[1;33m(\u001B[0m\u001B[1;33m*\u001B[0m\u001B[0minput\u001B[0m\u001B[1;33m,\u001B[0m \u001B[1;33m**\u001B[0m\u001B[0mkwargs\u001B[0m\u001B[1;33m)\u001B[0m\u001B[1;33m\u001B[0m\u001B[1;33m\u001B[0m\u001B[0m\n\u001B[0m\u001B[0;32m   1131\u001B[0m         \u001B[1;31m# Do not call functions when jit is used\u001B[0m\u001B[1;33m\u001B[0m\u001B[1;33m\u001B[0m\u001B[1;33m\u001B[0m\u001B[0m\n\u001B[0;32m   1132\u001B[0m         \u001B[0mfull_backward_hooks\u001B[0m\u001B[1;33m,\u001B[0m \u001B[0mnon_full_backward_hooks\u001B[0m \u001B[1;33m=\u001B[0m \u001B[1;33m[\u001B[0m\u001B[1;33m]\u001B[0m\u001B[1;33m,\u001B[0m \u001B[1;33m[\u001B[0m\u001B[1;33m]\u001B[0m\u001B[1;33m\u001B[0m\u001B[1;33m\u001B[0m\u001B[0m\n",
      "\u001B[1;32m<ipython-input-22-d5f880e44e62>\u001B[0m in \u001B[0;36mforward\u001B[1;34m(self, inputs, noise)\u001B[0m\n\u001B[0;32m     14\u001B[0m \u001B[1;33m\u001B[0m\u001B[0m\n\u001B[0;32m     15\u001B[0m     \u001B[1;32mdef\u001B[0m \u001B[0mforward\u001B[0m\u001B[1;33m(\u001B[0m\u001B[0mself\u001B[0m\u001B[1;33m,\u001B[0m \u001B[0minputs\u001B[0m\u001B[1;33m,\u001B[0m \u001B[0mnoise\u001B[0m\u001B[1;33m=\u001B[0m\u001B[1;32mNone\u001B[0m\u001B[1;33m)\u001B[0m\u001B[1;33m:\u001B[0m\u001B[1;33m\u001B[0m\u001B[1;33m\u001B[0m\u001B[0m\n\u001B[1;32m---> 16\u001B[1;33m         \u001B[0membeddings_outputs\u001B[0m \u001B[1;33m=\u001B[0m \u001B[0mself\u001B[0m\u001B[1;33m.\u001B[0m\u001B[0msemantic_encoder\u001B[0m\u001B[1;33m.\u001B[0m\u001B[0mget_embeddings\u001B[0m\u001B[1;33m(\u001B[0m\u001B[1;33m**\u001B[0m\u001B[0minputs\u001B[0m\u001B[1;33m)\u001B[0m\u001B[1;33m\u001B[0m\u001B[1;33m\u001B[0m\u001B[0m\n\u001B[0m\u001B[0;32m     17\u001B[0m \u001B[1;33m\u001B[0m\u001B[0m\n\u001B[0;32m     18\u001B[0m         \u001B[1;31m# old_embeddings = embeddings_outputs['embedding_output'].clone()\u001B[0m\u001B[1;33m\u001B[0m\u001B[1;33m\u001B[0m\u001B[1;33m\u001B[0m\u001B[0m\n",
      "\u001B[1;32mD:\\Anaconda3\\lib\\site-packages\\torch\\nn\\modules\\module.py\u001B[0m in \u001B[0;36m__getattr__\u001B[1;34m(self, name)\u001B[0m\n\u001B[0;32m   1205\u001B[0m             \u001B[1;32mif\u001B[0m \u001B[0mname\u001B[0m \u001B[1;32min\u001B[0m \u001B[0mmodules\u001B[0m\u001B[1;33m:\u001B[0m\u001B[1;33m\u001B[0m\u001B[1;33m\u001B[0m\u001B[0m\n\u001B[0;32m   1206\u001B[0m                 \u001B[1;32mreturn\u001B[0m \u001B[0mmodules\u001B[0m\u001B[1;33m[\u001B[0m\u001B[0mname\u001B[0m\u001B[1;33m]\u001B[0m\u001B[1;33m\u001B[0m\u001B[1;33m\u001B[0m\u001B[0m\n\u001B[1;32m-> 1207\u001B[1;33m         raise AttributeError(\"'{}' object has no attribute '{}'\".format(\n\u001B[0m\u001B[0;32m   1208\u001B[0m             type(self).__name__, name))\n\u001B[0;32m   1209\u001B[0m \u001B[1;33m\u001B[0m\u001B[0m\n",
      "\u001B[1;31mAttributeError\u001B[0m: 'BertModel' object has no attribute 'get_embeddings'"
     ]
    }
   ],
   "source": [
    "total_num = 0\n",
    "total_correct = 0\n",
    "\n",
    "total_recall_num = 0\n",
    "total_recall_correct = 0\n",
    "\n",
    "total_precision_num = 0\n",
    "total_precision_correct = 0\n",
    "\n",
    "prograss = tqdm(range(len(test_data)))\n",
    "for i in prograss:\n",
    "    src, tgt = test_data[i]['src'], test_data[i]['tgt']\n",
    "\n",
    "    _, output = predict(src)\n",
    "    target = (torch.tensor(test_data[i]['src_idx']) != torch.tensor(test_data[i]['tgt_idx'])).int()[1:-1].to(device)\n",
    "\n",
    "    if len(output) != len(target):\n",
    "        print(\"第%d条数据异常\" % i)\n",
    "\n",
    "    total_num += 1\n",
    "    if (output != target).sum().item() == 0:\n",
    "        total_correct += 1\n",
    "\n",
    "    total_recall_correct += output[target == 1].sum().item()\n",
    "    total_recall_num += (target == 1).sum().item()\n",
    "\n",
    "    total_precision_num += (output == 1).sum().item()\n",
    "    total_precision_correct += (target[output == 1]).sum().item()\n",
    "\n",
    "    accuracy = total_correct / total_num\n",
    "    recall = total_recall_correct / (total_recall_num + 1e-9)\n",
    "    precision = total_precision_correct / (total_precision_num + 1e-9)\n",
    "\n",
    "    prograss.set_postfix({\n",
    "        'accuracy': accuracy,\n",
    "        'recall': recall,\n",
    "        'precision': precision\n",
    "    })"
   ],
   "metadata": {
    "collapsed": false,
    "pycharm": {
     "name": "#%%\n"
    }
   }
  },
  {
   "cell_type": "markdown",
   "source": [
    "# Visualise"
   ],
   "metadata": {
    "collapsed": false,
    "pycharm": {
     "name": "#%% md\n"
    }
   }
  },
  {
   "cell_type": "code",
   "execution_count": 105,
   "outputs": [],
   "source": [
    "inputs, targets, noise = next(iter(train_loader))"
   ],
   "metadata": {
    "collapsed": false,
    "pycharm": {
     "name": "#%%\n"
    }
   }
  },
  {
   "cell_type": "code",
   "execution_count": 106,
   "outputs": [
    {
     "data": {
      "text/plain": "BaseModelOutputWithPoolingAndCrossAttentions(last_hidden_state=tensor([[[ 0.1913,  0.4629,  0.1537,  ..., -0.2570,  0.6134,  0.2509],\n         [-0.2789,  0.4452,  0.5893,  ...,  0.0723, -0.6717,  0.3080],\n         [ 0.1223,  0.6099, -0.1760,  ...,  0.4076, -0.7872, -0.0595],\n         ...,\n         [ 0.4089,  0.0132, -0.3093,  ..., -0.1026,  0.2535, -0.0268],\n         [ 0.3961, -0.2212, -0.4009,  ..., -0.3125,  0.3070,  0.2665],\n         [-0.0680, -0.2509, -0.1265,  ...,  0.0023,  0.2936,  0.1970]]],\n       grad_fn=<NativeLayerNormBackward0>), pooler_output=tensor([[ 0.9873,  0.9758,  0.9731,  0.2817,  0.1743, -0.5727, -0.3220,  0.4456,\n          0.8401, -0.9588,  0.9980,  0.9968, -0.0707, -0.9233,  0.8343, -0.9748,\n          0.0422, -0.0530, -0.0390, -0.5145,  0.9843, -0.5351, -0.8328,  0.1778,\n          0.6584,  0.7481,  0.7090,  0.0279, -0.9910,  0.9576,  0.8916,  0.9894,\n          0.4681, -0.9828, -0.9924, -0.3028, -0.4059,  0.6635,  0.8629, -0.9720,\n         -0.7661, -0.6973, -0.1980, -0.9103, -0.6571,  0.6058, -0.9964, -0.8358,\n          0.0386,  0.9153, -0.2722, -0.9136,  0.9306, -0.8138, -0.0214,  0.8854,\n         -0.7367,  0.7352,  0.9936,  0.6489,  0.9750, -0.7648, -0.0553, -0.9537,\n          0.8864, -0.9681, -0.9773,  0.8549,  0.8627,  0.9972, -0.4808,  0.7501,\n          0.9958, -0.7611, -0.9747,  0.9929, -0.5855,  0.6810, -0.9973, -0.2731,\n          0.9948,  0.5285, -0.9822, -0.9338, -0.8505, -0.9632, -0.4346,  0.9030,\n          0.7677,  0.6681,  0.9614, -0.9681, -0.9983,  0.9480, -0.9663,  0.1355,\n         -0.8195,  0.9944,  0.2816, -0.8949, -0.4038,  0.6615, -0.9946, -0.9942,\n         -0.3093,  0.9608,  0.1351, -0.9804,  0.9799,  0.0350, -0.9975, -0.4102,\n         -0.9947,  0.2524, -0.6479,  0.9933,  0.8080,  0.9012,  0.8239, -0.9873,\n          0.8657,  0.0162, -0.6335, -0.8239,  0.8236,  0.9921,  0.9758, -0.3836,\n          0.9785,  0.9964,  0.6798,  0.9657, -0.9859,  0.5030,  0.3318, -0.9234,\n          0.1441, -0.0325,  0.9970,  0.9821,  0.6047, -0.3361,  0.9928, -0.8546,\n          0.9914, -0.9932,  0.8920, -0.9972,  0.7059,  0.7831,  0.1095,  0.9992,\n          0.8463,  0.9879, -0.8854, -0.8101,  0.4300, -0.5387,  0.3010, -0.9920,\n         -0.0580, -0.3965, -0.6908,  0.5704, -0.9915,  0.9716, -0.6780,  0.9924,\n          0.8533,  0.9060, -0.9820, -0.9734,  0.4501, -0.9569,  0.1757,  0.8683,\n         -0.3941,  0.9946,  0.0039, -0.6891,  0.2623, -0.5851, -0.9522,  0.8800,\n          0.1043,  0.0932,  0.3527, -0.1003, -0.5595, -0.9606, -0.8459,  0.9494,\n          0.7604,  0.3595,  0.9493,  0.6177, -0.0524, -0.9081, -0.9991, -0.8967,\n          0.9950, -0.6769, -0.8694,  0.4664, -0.9675, -0.1327, -0.6566,  0.8511,\n         -0.6633, -0.9970,  0.4586,  0.2439, -0.9733,  0.4172,  0.9692,  0.1982,\n         -0.9912,  0.0889,  0.8406, -0.5111,  0.9348, -0.5093, -0.9507,  0.9265,\n         -0.0701,  0.9757,  0.9043,  0.9942,  0.9859,  0.5048,  0.2055,  0.9948,\n          0.7168, -0.9983,  0.3180, -0.9543,  0.7910,  0.9911, -0.7810,  0.8881,\n          0.9976, -0.2033,  0.9969, -0.6255, -0.9424, -0.9702,  0.9958,  0.8017,\n          0.9969, -0.9351, -0.8327, -0.1335,  0.1339, -0.9968, -0.9103,  0.5333,\n          0.9616,  0.9117, -0.7064, -0.9217, -0.8303, -0.9532,  0.9963, -0.8729,\n         -0.3240,  0.7166, -0.4633, -0.6054,  0.3730, -0.8341, -0.7464, -0.6546,\n         -0.9971, -0.9489, -0.9926,  0.8824, -0.9201, -0.9987,  0.1864,  0.9954,\n          0.6418, -0.9939,  0.9673,  0.9239,  0.9912,  0.6851,  0.9480, -0.9991,\n          0.9982, -0.9743,  0.9617, -0.8853, -0.9908,  0.1662,  0.9496,  0.8630,\n         -0.9874,  0.8741, -0.9767,  0.8813,  0.5525,  0.8652, -0.9183, -0.8040,\n         -0.7747, -0.9642,  0.8349, -0.8313, -0.8365,  0.9566,  0.9946, -0.9039,\n          0.9987,  0.9829,  0.9996, -0.3389, -0.9070,  0.8862, -0.7769, -0.1859,\n          0.2557,  0.6104,  0.9310,  0.4969,  0.7048, -0.9733,  0.9719,  0.6461,\n          0.7251,  0.3615, -0.8632,  0.7867,  0.9920, -0.9734,  0.9627, -0.9290,\n          0.8603, -0.3058,  0.9888,  0.1498,  0.4728, -0.3328,  0.9781, -0.9812,\n          0.9504, -0.9931,  0.9627, -0.8981,  0.4803, -0.9754, -0.8834,  0.9840,\n          0.5925,  0.4899,  0.8361, -0.0749,  0.8363,  0.5993,  0.7339,  0.9746,\n          0.9003,  0.9925, -0.9950, -0.4915, -0.5996, -0.9841, -0.5922, -0.9968,\n         -0.1383, -0.9360, -0.5409,  0.3437, -0.7551, -0.5228, -0.9065, -0.0997,\n         -0.6076,  0.2641, -0.4193,  0.4641, -0.3714, -0.9616, -0.7103, -0.9975,\n         -0.8905, -0.1890,  0.9873, -0.9943,  0.9726, -0.9953,  0.0518,  0.2875,\n          0.3962,  0.2825,  0.4850, -0.9646,  0.9880,  0.7669,  0.9976,  0.9841,\n          0.9698, -0.8373, -0.9494, -0.9127, -0.9676, -0.9978, -0.9169, -0.6968,\n         -0.1008, -0.9886, -0.4534,  0.6086,  0.9906,  0.9883, -0.9884, -0.4141,\n         -0.9788,  0.2575,  0.9602,  0.4864, -0.9337, -0.7125, -0.2526,  0.9846,\n         -0.8329, -0.6681,  0.4285, -0.4630,  0.8320, -0.9517,  0.1083,  0.9966,\n         -0.1119, -0.9944, -0.8655,  0.0111, -0.2257, -0.7102,  0.7200,  0.9936,\n         -0.9905, -0.8117, -0.9422,  0.5641,  0.8246,  0.7726,  0.8533,  0.8016,\n          0.9567, -0.5426, -0.7487,  0.9752, -0.0300, -0.9658,  0.7765, -0.9210,\n          0.4222, -0.9871,  0.9773, -0.2871,  0.9878,  0.4120, -0.2704, -0.2296,\n         -0.6654,  0.9690,  0.9948,  0.1832,  0.0851, -0.9049, -0.9832, -0.9439,\n         -0.4429,  0.1401, -0.5931, -0.9700,  0.4949, -0.8480,  0.9990,  0.9815,\n          0.9959,  0.7936, -0.9415,  0.9893, -0.6326,  0.6386, -0.1741, -0.9933,\n         -0.8138, -0.7167,  0.9480,  0.3400, -0.4344, -0.0672,  0.1969,  0.0400,\n         -0.9868, -0.8511, -0.5606,  0.9635,  0.9979, -0.9271,  0.5943, -0.8903,\n         -0.0320, -0.0707,  0.9596,  0.9095, -0.7689, -0.5475, -0.2938,  0.0598,\n          0.9127,  0.9446, -0.7860, -0.9598,  0.9626,  0.8506,  0.8671, -0.4615,\n          0.7468,  0.9023,  0.9958,  0.8822,  0.9843, -0.9176,  0.8499,  0.9921,\n          0.9906,  0.8485,  0.0389, -0.7324,  0.3864,  0.5938,  0.8628,  0.4990,\n         -0.0712, -0.7105,  0.9625,  0.9326,  0.9990,  0.8880,  0.5260,  0.7907,\n          0.3960, -0.2863,  0.9557,  0.8582,  0.3028,  0.9436,  0.9716, -0.9843,\n         -0.6117, -0.9955,  0.9972,  0.9082,  0.7600, -0.9951,  0.9757,  0.4746,\n          0.1834,  0.9758,  0.7322, -0.9740,  0.1444, -0.8002,  0.4858,  0.2250,\n          0.9321, -0.7750,  0.9829, -0.9808,  0.3082,  0.9949,  0.4034,  0.9893,\n          0.2685, -0.9402,  0.5958, -0.7770, -0.9617, -0.7065,  0.9073,  0.8491,\n         -0.4565, -0.6457, -0.0082, -0.8171,  0.9872, -0.9897,  0.9283, -0.7261,\n          0.9809, -0.8684, -0.9864,  0.2033,  0.7538, -0.6536, -0.1587,  0.9883,\n         -0.5311, -0.1861,  0.0211, -0.6841, -0.8707, -0.9376, -0.4147, -0.9687,\n         -0.1140,  0.0837,  0.6295, -0.8020, -0.9827,  0.9785, -0.9525, -0.8980,\n          0.9976,  0.1472, -0.9912,  0.8651, -0.8653, -0.0549,  0.4175, -0.6226,\n          0.4212, -0.9994, -0.1578,  0.9907, -0.9913, -0.2396, -0.6856, -0.5950,\n          0.2380,  0.4347,  0.8365, -0.4355,  0.3570,  0.2282,  0.9373, -0.7727,\n          0.5396, -0.9515,  0.6831,  0.4333, -0.9926, -0.9821, -0.9736,  0.9974,\n          0.9745,  0.9874, -0.9237, -0.0755,  0.7516,  0.9567, -0.9874,  0.3689,\n         -0.3322,  0.8022, -0.7263, -0.9725, -0.2465, -0.9919, -0.4914,  0.0852,\n          0.8787,  0.0295,  0.9963,  0.9637, -0.9848, -0.6614, -0.9945, -0.9864,\n          0.9830,  0.9209,  0.9218, -0.4626, -0.6748,  0.9785,  0.7018, -0.0587,\n         -0.9899, -0.9904, -0.9761,  0.8437, -0.7964, -0.9442,  0.9539,  0.9963,\n          0.4720, -0.9936, -0.9032,  0.9972,  0.9611,  0.9996, -0.9487,  0.9874,\n         -0.6667,  0.8932, -0.6889,  0.9973, -0.9801,  0.9959,  0.9973,  0.4499,\n          0.9379, -0.9705, -0.5013, -0.9480,  0.5253,  0.6167, -0.1452, -0.9116,\n         -0.3997,  0.9599, -0.9568,  0.9964,  0.7664, -0.5511,  0.9538,  0.3485,\n          0.8659, -0.3904, -0.9972,  0.2137,  0.8560,  0.8886,  0.9967,  0.9172,\n          0.9807, -0.9368, -0.9950, -0.3136, -0.5312, -0.0864, -0.9930,  0.9707,\n          0.9886, -0.9942, -0.2682, -0.3915,  0.8882,  0.9376,  0.3876,  0.1978,\n          0.9015,  0.4601,  0.9797, -0.9928, -0.3508, -0.7600, -0.5517,  0.9432,\n         -0.8659,  0.9901, -0.9776,  0.9910, -0.8903,  0.5524,  0.9308,  0.9301,\n         -0.8888,  0.9968,  0.2122, -0.8265,  0.6905, -0.8981, -0.8322, -0.1921]],\n       grad_fn=<TanhBackward0>), hidden_states=None, past_key_values=None, attentions=None, cross_attentions=None)"
     },
     "execution_count": 106,
     "metadata": {},
     "output_type": "execute_result"
    }
   ],
   "source": [
    "embeddings_outputs = bert.get_embeddings(**inputs)\n",
    "bert.post_forward(**embeddings_outputs)"
   ],
   "metadata": {
    "collapsed": false,
    "pycharm": {
     "name": "#%%\n"
    }
   }
  },
  {
   "cell_type": "code",
   "execution_count": 106,
   "outputs": [],
   "source": [],
   "metadata": {
    "collapsed": false,
    "pycharm": {
     "name": "#%%\n"
    }
   }
  },
  {
   "cell_type": "code",
   "execution_count": 112,
   "outputs": [],
   "source": [
    "import numpy as np\n",
    "import matplotlib.pyplot as plt\n",
    "from sklearn.decomposition import PCA\n",
    "\n",
    "plt.rcParams['font.sans-serif'] = ['SimHei']  #用来正常显示中文标签\n",
    "plt.rcParams['axes.unicode_minus'] = False  #用来正常显示负号"
   ],
   "metadata": {
    "collapsed": false,
    "pycharm": {
     "name": "#%%\n"
    }
   }
  },
  {
   "cell_type": "code",
   "execution_count": 113,
   "outputs": [],
   "source": [
    "def token_embeddings_visualise(embeddings, text):\n",
    "    \"\"\"\n",
    "    将汉字文本embedding绘制成图像\n",
    "    :param embeddings: 文本embedding后的向量，例如Shape为(55, 768)为55个token，每个token维度为768。\n",
    "                       不要包含bos、eos和pad。embedding需要是numpy类型的\n",
    "    :param text: 汉字文本，例如 “张三是法外狂徒”。text的长度需要和上面的token数一致\n",
    "    \"\"\"\n",
    "    assert type(embeddings) is np.ndarray, \"embedding参数必须是numpy.ndarray类型\"\n",
    "    assert embeddings.shape[0] == len(text), \"embedding的token数与text不一致\"\n",
    "\n",
    "    # 1. 将词向量降维到2维度\n",
    "    pca = PCA(n_components=2)\n",
    "    embeddings = pca.fit_transform(embeddings)\n",
    "    # 2. 创建一个16x9大小的维度图像\n",
    "    plt.figure(figsize=(16, 9))\n",
    "    # 3. 循环绘制文字\n",
    "    for i in range(len(embeddings)):\n",
    "        plt.text(embeddings[i][0], embeddings[i][1], text[i])\n",
    "\n",
    "    # 4. 设置坐标边界\n",
    "    plt.xlim(embeddings[:, 0].min() - 0.5, embeddings[:, 0].max() + 0.5)\n",
    "    plt.ylim(embeddings[:, 1].min() - 0.5, embeddings[:, 1].max() + 0.5)\n",
    "    plt.show()"
   ],
   "metadata": {
    "collapsed": false,
    "pycharm": {
     "name": "#%%\n"
    }
   }
  },
  {
   "cell_type": "code",
   "execution_count": 165,
   "outputs": [],
   "source": [
    "text = \"前天我吃了一大个火聋果\""
   ],
   "metadata": {
    "collapsed": false,
    "pycharm": {
     "name": "#%%\n"
    }
   }
  },
  {
   "cell_type": "code",
   "execution_count": 166,
   "outputs": [],
   "source": [
    "inputs = tokenizer(text, return_tensors='pt')\n",
    "outputs = bert(**inputs).last_hidden_state[0, 1:-1]"
   ],
   "metadata": {
    "collapsed": false,
    "pycharm": {
     "name": "#%%\n"
    }
   }
  },
  {
   "cell_type": "code",
   "execution_count": 167,
   "outputs": [],
   "source": [
    "embeddings = outputs.detach().numpy()"
   ],
   "metadata": {
    "collapsed": false,
    "pycharm": {
     "name": "#%%\n"
    }
   }
  },
  {
   "cell_type": "code",
   "execution_count": 168,
   "outputs": [
    {
     "name": "stdout",
     "output_type": "stream",
     "text": [
      "无噪音，bert前\n"
     ]
    },
    {
     "data": {
      "text/plain": "<Figure size 1152x648 with 1 Axes>",
      "image/png": "[encoded data removed]"
     },
     "metadata": {
      "needs_background": "light"
     },
     "output_type": "display_data"
    }
   ],
   "source": [
    "print(\"无噪音，bert前\")\n",
    "token_embeddings_visualise(embeddings, text)"
   ],
   "metadata": {
    "collapsed": false,
    "pycharm": {
     "name": "#%%\n"
    }
   }
  },
  {
   "cell_type": "code",
   "execution_count": 152,
   "outputs": [],
   "source": [
    "embeddings = bert(**inputs)['last_hidden_state'][0][1:56].detach().numpy()"
   ],
   "metadata": {
    "collapsed": false,
    "pycharm": {
     "name": "#%%\n"
    }
   }
  },
  {
   "cell_type": "code",
   "execution_count": 143,
   "outputs": [
    {
     "name": "stdout",
     "output_type": "stream",
     "text": [
      "无噪音，bert编码后\n"
     ]
    },
    {
     "ename": "AssertionError",
     "evalue": "embedding的token数与text不一致",
     "output_type": "error",
     "traceback": [
      "\u001B[1;31m---------------------------------------------------------------------------\u001B[0m",
      "\u001B[1;31mAssertionError\u001B[0m                            Traceback (most recent call last)",
      "\u001B[1;32m<ipython-input-143-6af70719ac1d>\u001B[0m in \u001B[0;36m<module>\u001B[1;34m\u001B[0m\n\u001B[0;32m      1\u001B[0m \u001B[0mprint\u001B[0m\u001B[1;33m(\u001B[0m\u001B[1;34m\"无噪音，bert编码后\"\u001B[0m\u001B[1;33m)\u001B[0m\u001B[1;33m\u001B[0m\u001B[1;33m\u001B[0m\u001B[0m\n\u001B[1;32m----> 2\u001B[1;33m \u001B[0mtoken_embeddings_visualise\u001B[0m\u001B[1;33m(\u001B[0m\u001B[0membeddings\u001B[0m\u001B[1;33m,\u001B[0m \u001B[0mtext\u001B[0m\u001B[1;33m)\u001B[0m\u001B[1;33m\u001B[0m\u001B[1;33m\u001B[0m\u001B[0m\n\u001B[0m",
      "\u001B[1;32m<ipython-input-113-4b916374558b>\u001B[0m in \u001B[0;36mtoken_embeddings_visualise\u001B[1;34m(embeddings, text)\u001B[0m\n\u001B[0;32m      7\u001B[0m     \"\"\"\n\u001B[0;32m      8\u001B[0m     \u001B[1;32massert\u001B[0m \u001B[0mtype\u001B[0m\u001B[1;33m(\u001B[0m\u001B[0membeddings\u001B[0m\u001B[1;33m)\u001B[0m \u001B[1;32mis\u001B[0m \u001B[0mnp\u001B[0m\u001B[1;33m.\u001B[0m\u001B[0mndarray\u001B[0m\u001B[1;33m,\u001B[0m \u001B[1;34m\"embedding参数必须是numpy.ndarray类型\"\u001B[0m\u001B[1;33m\u001B[0m\u001B[1;33m\u001B[0m\u001B[0m\n\u001B[1;32m----> 9\u001B[1;33m     \u001B[1;32massert\u001B[0m \u001B[0membeddings\u001B[0m\u001B[1;33m.\u001B[0m\u001B[0mshape\u001B[0m\u001B[1;33m[\u001B[0m\u001B[1;36m0\u001B[0m\u001B[1;33m]\u001B[0m \u001B[1;33m==\u001B[0m \u001B[0mlen\u001B[0m\u001B[1;33m(\u001B[0m\u001B[0mtext\u001B[0m\u001B[1;33m)\u001B[0m\u001B[1;33m,\u001B[0m \u001B[1;34m\"embedding的token数与text不一致\"\u001B[0m\u001B[1;33m\u001B[0m\u001B[1;33m\u001B[0m\u001B[0m\n\u001B[0m\u001B[0;32m     10\u001B[0m \u001B[1;33m\u001B[0m\u001B[0m\n\u001B[0;32m     11\u001B[0m     \u001B[1;31m# 1. 将词向量降维到2维度\u001B[0m\u001B[1;33m\u001B[0m\u001B[1;33m\u001B[0m\u001B[1;33m\u001B[0m\u001B[0m\n",
      "\u001B[1;31mAssertionError\u001B[0m: embedding的token数与text不一致"
     ]
    }
   ],
   "source": [
    "print(\"无噪音，bert编码后\")\n",
    "token_embeddings_visualise(embeddings, text)"
   ],
   "metadata": {
    "collapsed": false,
    "pycharm": {
     "name": "#%%\n"
    }
   }
  },
  {
   "cell_type": "code",
   "execution_count": 75,
   "outputs": [
    {
     "name": "stdout",
     "output_type": "stream",
     "text": [
      "有噪音, bert前\n"
     ]
    },
    {
     "data": {
      "text/plain": "<Figure size 1152x648 with 1 Axes>",
      "image/png": "[encoded data removed]"
     },
     "metadata": {
      "needs_background": "light"
     },
     "output_type": "display_data"
    }
   ],
   "source": [
    "print(\"有噪音, bert前\")\n",
    "embeddings = (embeddings_outputs['embedding_output'] + noise)[0][1:56].detach().numpy()\n",
    "token_embeddings_visualise(embeddings, text)"
   ],
   "metadata": {
    "collapsed": false,
    "pycharm": {
     "name": "#%%\n"
    }
   }
  },
  {
   "cell_type": "code",
   "execution_count": 76,
   "outputs": [
    {
     "name": "stdout",
     "output_type": "stream",
     "text": [
      "有噪音，bert后\n"
     ]
    },
    {
     "data": {
      "text/plain": "<Figure size 1152x648 with 1 Axes>",
      "image/png": "[encoded data removed]"
     },
     "metadata": {
      "needs_background": "light"
     },
     "output_type": "display_data"
    }
   ],
   "source": [
    "print(\"有噪音，bert后\")\n",
    "embeddings_outputs['embedding_output'] = embeddings_outputs['embedding_output'] + noise\n",
    "embeddings = bert.post_forward(**embeddings_outputs)['last_hidden_state'][0][1:56].detach().numpy()\n",
    "token_embeddings_visualise(embeddings, text)"
   ],
   "metadata": {
    "collapsed": false,
    "pycharm": {
     "name": "#%%\n"
    }
   }
  },
  {
   "cell_type": "code",
   "execution_count": 77,
   "outputs": [
    {
     "data": {
      "text/plain": "tensor([[[0.0000, 0.0000, 0.0000,  ..., 0.0000, 0.0000, 0.0000],\n         [1.1543, 1.2970, 0.7757,  ..., 1.5602, 0.1108, 1.1854],\n         [0.0000, 0.0000, 0.0000,  ..., 0.0000, 0.0000, 0.0000],\n         ...,\n         [0.0000, 0.0000, 0.0000,  ..., 0.0000, 0.0000, 0.0000],\n         [0.0000, 0.0000, 0.0000,  ..., 0.0000, 0.0000, 0.0000],\n         [0.0000, 0.0000, 0.0000,  ..., 0.0000, 0.0000, 0.0000]]])"
     },
     "execution_count": 77,
     "metadata": {},
     "output_type": "execute_result"
    }
   ],
   "source": [
    "noise"
   ],
   "metadata": {
    "collapsed": false,
    "pycharm": {
     "name": "#%%\n"
    }
   }
  },
  {
   "cell_type": "code",
   "execution_count": 77,
   "outputs": [],
   "source": [],
   "metadata": {
    "collapsed": false,
    "pycharm": {
     "name": "#%%\n"
    }
   }
  },
  {
   "cell_type": "code",
   "execution_count": null,
   "outputs": [],
   "source": [],
   "metadata": {
    "collapsed": false,
    "pycharm": {
     "name": "#%%\n"
    }
   }
  }
 ],
 "metadata": {
  "kernelspec": {
   "display_name": "Python 3",
   "language": "python",
   "name": "python3"
  },
  "language_info": {
   "codemirror_mode": {
    "name": "ipython",
    "version": 2
   },
   "file_extension": ".py",
   "mimetype": "text/x-python",
   "name": "python",
   "nbconvert_exporter": "python",
   "pygments_lexer": "ipython2",
   "version": "2.7.6"
  }
 },
 "nbformat": 4,
 "nbformat_minor": 0
}