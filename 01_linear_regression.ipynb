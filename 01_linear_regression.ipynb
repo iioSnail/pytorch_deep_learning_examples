{
 "cells": [
  {
   "cell_type": "markdown",
   "source": [
    "Pytorch入门实战（1） - 实现线性回归"
   ],
   "metadata": {
    "collapsed": false,
    "pycharm": {
     "name": "#%% md\n"
    }
   }
  },
  {
   "cell_type": "markdown",
   "metadata": {
    "collapsed": true,
    "pycharm": {
     "name": "#%% md\n"
    }
   },
   "source": [
    "# 涉及知识点\n",
    "[Pytorch nn.Module的基本使用](https://blog.csdn.net/zhaohongfei_358/article/details/122797244)\n",
    "\n",
    "[Pytorch nn.Linear的基本用法](https://blog.csdn.net/zhaohongfei_358/article/details/122797190)"
   ]
  },
  {
   "cell_type": "markdown",
   "source": [
    "# 将线性回归神经网络化\n",
    "\n",
    "线性回归也可以看作一个简单的神经网络。以一个特征的一元线性回归为例：\n",
    "\n",
    "$$\n",
    "y = w \\cdot x + b\n",
    "$$\n",
    "\n",
    "可以改造下图神经网络：\n",
    "\n",
    "<img src=\"./asserts/images/01_01.png\" width=\"300\">\n",
    "\n",
    "若将x泛化为向量，即 $x=(x_1, x_2, ... , x_n)$，则对应神经网络为：\n",
    "\n",
    "<img src=\"./asserts/images/01_02.png\" width=\"300\">"
   ],
   "metadata": {
    "collapsed": false,
    "pycharm": {
     "name": "#%% md\n"
    }
   }
  },
  {
   "cell_type": "markdown",
   "source": [
    "# Pytorch 代码实现\n",
    "\n",
    "## 一元线性回归Pytorch方式实现"
   ],
   "metadata": {
    "collapsed": false,
    "pycharm": {
     "name": "#%% md\n"
    }
   }
  },
  {
   "cell_type": "code",
   "execution_count": 2,
   "outputs": [],
   "source": [
    "import torch\n",
    "import matplotlib.pyplot as plt"
   ],
   "metadata": {
    "collapsed": false,
    "pycharm": {
     "name": "#%%\n"
    }
   }
  },
  {
   "cell_type": "markdown",
   "source": [
    "首先生成测试数据："
   ],
   "metadata": {
    "collapsed": false,
    "pycharm": {
     "name": "#%% md\n"
    }
   }
  },
  {
   "cell_type": "code",
   "execution_count": 3,
   "outputs": [
    {
     "data": {
      "text/plain": "tensor([[7.2543],\n        [0.8824],\n        [8.1629]])"
     },
     "execution_count": 3,
     "metadata": {},
     "output_type": "execute_result"
    }
   ],
   "source": [
    "X = torch.rand(100, 1) * 10  # 生成一个100行一列的数据；该数据服从[0,10]的uniform分布\n",
    "X[:3]"
   ],
   "metadata": {
    "collapsed": false,
    "pycharm": {
     "name": "#%%\n"
    }
   }
  },
  {
   "cell_type": "code",
   "execution_count": 5,
   "outputs": [
    {
     "data": {
      "text/plain": "tensor([[33.6710],\n        [13.3356],\n        [36.9041]])"
     },
     "execution_count": 5,
     "metadata": {},
     "output_type": "execute_result"
    }
   ],
   "source": [
    "y = 3 * X + 10 + torch.randn(100, 1) * 3 # 计算其对应的y值；y也是100行1列的\n",
    "y[:3]"
   ],
   "metadata": {
    "collapsed": false,
    "pycharm": {
     "name": "#%%\n"
    }
   }
  },
  {
   "cell_type": "markdown",
   "source": [
    "将生成的数据绘制成散点图，看下效果："
   ],
   "metadata": {
    "collapsed": false,
    "pycharm": {
     "name": "#%% md\n"
    }
   }
  },
  {
   "cell_type": "code",
   "execution_count": 6,
   "outputs": [
    {
     "data": {
      "text/plain": "<Figure size 432x288 with 1 Axes>",
      "image/png": "[encoded data removed]"
     },
     "metadata": {
      "needs_background": "light"
     },
     "output_type": "display_data"
    }
   ],
   "source": [
    "plt.scatter(X.numpy(), y.numpy())\n",
    "plt.show()"
   ],
   "metadata": {
    "collapsed": false,
    "pycharm": {
     "name": "#%%\n"
    }
   }
  },
  {
   "cell_type": "markdown",
   "source": [
    "接下来定义线性回归预训练模型："
   ],
   "metadata": {
    "collapsed": false,
    "pycharm": {
     "name": "#%% md\n"
    }
   }
  },
  {
   "cell_type": "code",
   "execution_count": 9,
   "outputs": [],
   "source": [
    "class LinearRegression(torch.nn.Module):\n",
    "    \"\"\"\n",
    "    模型需要继承 `torch.nn.Module`，在Pytorch中，模型都需要继承该类\n",
    "    \"\"\"\n",
    "\n",
    "    def __init__(self):\n",
    "        super().__init__()  # 初始化Module类\n",
    "\n",
    "        \"\"\"\n",
    "        定义我们神经网络的第一层（线性层）。其接受的重要三个参数：\n",
    "        in_features: 输入神经元的个数\n",
    "        out_features：输出神经元的个数\n",
    "        bias：是否包含偏置\n",
    "\n",
    "\t\t更多，关于torch.nn.Linear，可以参考：https://pytorch.org/docs/stable/nn.html#linear-layers\n",
    "        \"\"\"\n",
    "        self.linear = torch.nn.Linear(in_features=1, out_features=1, bias=True)\n",
    "\n",
    "    def forward(self, x):\n",
    "        \"\"\"\n",
    "        前向传播计算神经网络的输出\n",
    "        \"\"\"\n",
    "        predict = self.linear(x)\n",
    "        return predict"
   ],
   "metadata": {
    "collapsed": false,
    "pycharm": {
     "name": "#%%\n"
    }
   }
  },
  {
   "cell_type": "markdown",
   "source": [
    "到这里预训练模型已经构建完毕。初始化预训练模型："
   ],
   "metadata": {
    "collapsed": false,
    "pycharm": {
     "name": "#%% md\n"
    }
   }
  },
  {
   "cell_type": "code",
   "execution_count": 10,
   "outputs": [],
   "source": [
    "model = LinearRegression() # 初始化模型"
   ],
   "metadata": {
    "collapsed": false,
    "pycharm": {
     "name": "#%%\n"
    }
   }
  },
  {
   "cell_type": "markdown",
   "source": [
    "定义梯度下降器，这里选择随机梯度下降法："
   ],
   "metadata": {
    "collapsed": false,
    "pycharm": {
     "name": "#%% md\n"
    }
   }
  },
  {
   "cell_type": "code",
   "execution_count": 11,
   "outputs": [
    {
     "name": "stdout",
     "output_type": "stream",
     "text": [
      "Parameter containing:\n",
      "tensor([[-0.7801]], requires_grad=True)\n",
      "Parameter containing:\n",
      "tensor([0.3026], requires_grad=True)\n"
     ]
    }
   ],
   "source": [
    "\"\"\"\n",
    "torch.optim.SGD 接受几个重要的参数：\n",
    "- params: 模型参数\n",
    "- lr: 学习率\n",
    "\"\"\"\n",
    "optimizer = torch.optim.SGD(model.parameters(), lr=1e-3)\n",
    "\n",
    "# 这里可以看下模型参数\n",
    "for param in model.parameters(): # 因为模型有多个参数，所以model.parameters会返回一个可迭代的对象\n",
    "    print(param)"
   ],
   "metadata": {
    "collapsed": false,
    "pycharm": {
     "name": "#%%\n"
    }
   }
  },
  {
   "cell_type": "markdown",
   "source": [
    "定义损失函数，这里使用MSE："
   ],
   "metadata": {
    "collapsed": false,
    "pycharm": {
     "name": "#%% md\n"
    }
   }
  },
  {
   "cell_type": "code",
   "execution_count": 12,
   "outputs": [],
   "source": [
    "loss_function = torch.nn.MSELoss()"
   ],
   "metadata": {
    "collapsed": false,
    "pycharm": {
     "name": "#%%\n"
    }
   }
  },
  {
   "cell_type": "markdown",
   "source": [
    "此时就可以训练模型了："
   ],
   "metadata": {
    "collapsed": false,
    "pycharm": {
     "name": "#%% md\n"
    }
   }
  },
  {
   "cell_type": "code",
   "execution_count": 14,
   "outputs": [],
   "source": [
    "for epoch in range(10000): # 训练10000次\n",
    "    \"\"\"\n",
    "    1. 将X带入模型，其会自动调用前向传递，计算出每个x对应的y值\n",
    "    X.shape 和 predict_y.shape 都为(100,1),\n",
    "    \"\"\"\n",
    "    predict_y = model(X)\n",
    "\n",
    "    \"\"\"\n",
    "    2. 通过损失函数计算损失\n",
    "    \"\"\"\n",
    "    loss = loss_function(predict_y, y)\n",
    "\n",
    "    \"\"\"\n",
    "    3. 进行反向传播\n",
    "    \"\"\"\n",
    "    loss.backward()\n",
    "\n",
    "    \"\"\"\n",
    "    4. 更新权重\n",
    "    \"\"\"\n",
    "    optimizer.step()\n",
    "\n",
    "    \"\"\"\n",
    "    5.清空optimizer的梯度，否则会影响下次迭代\n",
    "    \"\"\"\n",
    "    optimizer.zero_grad()"
   ],
   "metadata": {
    "collapsed": false,
    "pycharm": {
     "name": "#%%\n"
    }
   }
  },
  {
   "cell_type": "markdown",
   "source": [
    "看下最后的参数，结果符合预期："
   ],
   "metadata": {
    "collapsed": false,
    "pycharm": {
     "name": "#%% md\n"
    }
   }
  },
  {
   "cell_type": "code",
   "execution_count": 16,
   "outputs": [
    {
     "name": "stdout",
     "output_type": "stream",
     "text": [
      "Parameter containing:\n",
      "tensor([[3.0832]], requires_grad=True)\n",
      "Parameter containing:\n",
      "tensor([9.7287], requires_grad=True)\n"
     ]
    }
   ],
   "source": [
    "for param in model.parameters(): # 因为模型有多个参数，所以model.parameters会返回一个可迭代的对象\n",
    "    print(param)"
   ],
   "metadata": {
    "collapsed": false,
    "pycharm": {
     "name": "#%%\n"
    }
   }
  },
  {
   "cell_type": "markdown",
   "source": [
    "再重新绘制一下图，看下最终效果："
   ],
   "metadata": {
    "collapsed": false,
    "pycharm": {
     "name": "#%% md\n"
    }
   }
  },
  {
   "cell_type": "code",
   "execution_count": 17,
   "outputs": [
    {
     "data": {
      "text/plain": "<Figure size 432x288 with 1 Axes>",
      "image/png": "[encoded data removed]"
     },
     "metadata": {
      "needs_background": "light"
     },
     "output_type": "display_data"
    }
   ],
   "source": [
    "plt.scatter(X, y)\n",
    "plt.plot(X, model(X).detach().numpy(), color='red')\n",
    "plt.show()"
   ],
   "metadata": {
    "collapsed": false,
    "pycharm": {
     "name": "#%%\n"
    }
   }
  },
  {
   "cell_type": "code",
   "execution_count": null,
   "outputs": [],
   "source": [],
   "metadata": {
    "collapsed": false,
    "pycharm": {
     "name": "#%%\n"
    }
   }
  }
 ],
 "metadata": {
  "kernelspec": {
   "display_name": "Python 3",
   "language": "python",
   "name": "python3"
  },
  "language_info": {
   "codemirror_mode": {
    "name": "ipython",
    "version": 2
   },
   "file_extension": ".py",
   "mimetype": "text/x-python",
   "name": "python",
   "nbconvert_exporter": "python",
   "pygments_lexer": "ipython2",
   "version": "2.7.6"
  }
 },
 "nbformat": 4,
 "nbformat_minor": 0
}