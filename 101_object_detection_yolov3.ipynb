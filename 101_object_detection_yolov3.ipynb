{
 "cells": [
  {
   "cell_type": "markdown",
   "metadata": {
    "collapsed": true,
    "pycharm": {
     "name": "#%% md\n"
    }
   },
   "source": [
    "# Pytorch中级实战(1): 使用YoloV3实现目标检测(Object Detection) - 最简单的Yolo代码"
   ]
  },
  {
   "cell_type": "markdown",
   "source": [
    "# 本文内容\n",
    "\n",
    "目前Github上的Yolo代码大多都是工业级别的，里面包含了无数的trick，相当复杂，很难看懂。即便有一些提纯的Yolo代码也都是py文件，而非Jupyter，阅读困难且没有讲解。所以我写了本篇Yolo实战，去掉所有trick，仅保留Yolo最精华的部分，使用最朴实无华的代码，让任何人都可以轻松读懂Yolo代码。\n",
    "\n",
    "本篇使用的模型其实是YoloV3-tiny，其实都差不多。因为我觉得Yolo最简单的部分就是模型部分，反而其他部分比较困难。\n",
    "\n",
    "简单起见，本文只使用训练集，不使用验证集，也不计算mAP。\n",
    "\n",
    "本篇代码可以在[该Git仓库](https://github.com/iioSnail/pytorch_deep_learning_examples)找到。 你也可以直接使用Google Colab（[链接地址](https://colab.research.google.com/github/iioSnail/pytorch_deep_learning_examples/blob/main/101_object_detection_yolov3.ipynb)）运行。"
   ],
   "metadata": {
    "collapsed": false,
    "pycharm": {
     "name": "#%% md\n"
    }
   }
  },
  {
   "cell_type": "markdown",
   "source": [
    "# 环境配置\n",
    "\n",
    "本篇使用的环境如下：\n",
    "\n",
    "```\n",
    "python==3.8.5\n",
    "torch==1.12.1\n",
    "torchvision==0.13.1\n",
    "matplotlib==3.3.4\n",
    "```"
   ],
   "metadata": {
    "collapsed": false,
    "pycharm": {
     "name": "#%% md\n"
    }
   }
  },
  {
   "cell_type": "markdown",
   "source": [
    "导入本篇需要使用的依赖："
   ],
   "metadata": {
    "collapsed": false,
    "pycharm": {
     "name": "#%% md\n"
    }
   }
  },
  {
   "cell_type": "code",
   "execution_count": 660,
   "outputs": [],
   "source": [
    "import os\n",
    "import math\n",
    "import time\n",
    "import torch\n",
    "from torch import nn\n",
    "import torchvision\n",
    "from torchvision import transforms\n",
    "from torch.utils.data import Dataset, DataLoader\n",
    "import matplotlib.pyplot as plt\n",
    "from pathlib import Path\n",
    "import pandas as pd"
   ],
   "metadata": {
    "collapsed": false,
    "pycharm": {
     "name": "#%%\n"
    }
   }
  },
  {
   "cell_type": "markdown",
   "source": [
    "从导包就可以看出来本篇的Yolo代码有多简介了吧。"
   ],
   "metadata": {
    "collapsed": false,
    "pycharm": {
     "name": "#%% md\n"
    }
   }
  },
  {
   "cell_type": "markdown",
   "source": [
    "# 工具函数"
   ],
   "metadata": {
    "collapsed": false,
    "pycharm": {
     "name": "#%% md\n"
    }
   }
  },
  {
   "cell_type": "code",
   "execution_count": 661,
   "outputs": [],
   "source": [
    "def xywh2xyxy(x):\n",
    "    \"\"\"\n",
    "    # Convert nx4 boxes from [x, y, w, h] to [x1, y1, x2, y2] where xy1=top-left, xy2=bottom-right\n",
    "    将 x,y,w,h （中心点坐标+宽高）转化为 xyxy（左上角坐标+右下角坐标）\n",
    "    \"\"\"\n",
    "    y = x.clone()\n",
    "    y[:, 0] = x[:, 0] - x[:, 2] / 2  # top left x\n",
    "    y[:, 1] = x[:, 1] - x[:, 3] / 2  # top left y\n",
    "    y[:, 2] = x[:, 0] + x[:, 2] / 2  # bottom right x\n",
    "    y[:, 3] = x[:, 1] + x[:, 3] / 2  # bottom right y\n",
    "    return y"
   ],
   "metadata": {
    "collapsed": false,
    "pycharm": {
     "name": "#%%\n"
    }
   }
  },
  {
   "cell_type": "code",
   "execution_count": 662,
   "outputs": [],
   "source": [
    "def box_iou(box1, box2):\n",
    "    # https://github.com/pytorch/vision/blob/master/torchvision/ops/boxes.py\n",
    "    \"\"\"\n",
    "    Return intersection-over-union (Jaccard index) of boxes.\n",
    "    Both sets of boxes are expected to be in (x1, y1, x2, y2) format.\n",
    "    Arguments:\n",
    "        box1 (Tensor[N, 4])\n",
    "        box2 (Tensor[M, 4])\n",
    "    Returns:\n",
    "        iou (Tensor[N, M]): the NxM matrix containing the pairwise\n",
    "            IoU values for every element in boxes1 and boxes2\n",
    "    \"\"\"\n",
    "\n",
    "    def box_area(box):\n",
    "        # box = 4xn\n",
    "        return (box[2] - box[0]) * (box[3] - box[1])\n",
    "\n",
    "    area1 = box_area(box1.T)\n",
    "    area2 = box_area(box2.T)\n",
    "\n",
    "    # inter(N,M) = (rb(N,M,2) - lt(N,M,2)).clamp(0).prod(2)\n",
    "    inter = (torch.min(box1[:, None, 2:], box2[:, 2:]) - torch.max(box1[:, None, :2], box2[:, :2])).clamp(0).prod(2)\n",
    "    return inter / (area1[:, None] + area2 - inter)  # iou = inter / (area1 + area2 - inter)"
   ],
   "metadata": {
    "collapsed": false,
    "pycharm": {
     "name": "#%%\n"
    }
   }
  },
  {
   "cell_type": "markdown",
   "source": [
    "# 全局参数"
   ],
   "metadata": {
    "collapsed": false,
    "pycharm": {
     "name": "#%% md\n"
    }
   }
  },
  {
   "cell_type": "markdown",
   "source": [
    "定义一些全局参数，方便后续使用："
   ],
   "metadata": {
    "collapsed": false,
    "pycharm": {
     "name": "#%% md\n"
    }
   }
  },
  {
   "cell_type": "code",
   "source": [
    "# 我们本次训练使用的是CoCo数据集，一共80个类别。\n",
    "classes_name = ['person', 'bicycle', 'car', 'motorcycle', 'airplane', 'bus', 'train', 'truck', 'boat', 'traffic light',\n",
    "                'fire hydrant', 'stop sign', 'parking meter', 'bench', 'bird', 'cat', 'dog', 'horse', 'sheep', 'cow',\n",
    "                'elephant', 'bear', 'zebra', 'giraffe', 'backpack', 'umbrella', 'handbag', 'tie', 'suitcase', 'frisbee',\n",
    "                'skis', 'snowboard', 'sports ball', 'kite', 'baseball bat', 'baseball glove', 'skateboard', 'surfboard',\n",
    "                'tennis racket', 'bottle', 'wine glass', 'cup', 'fork', 'knife', 'spoon', 'bowl', 'banana', 'apple',\n",
    "                'sandwich', 'orange', 'broccoli', 'carrot', 'hot dog', 'pizza', 'donut', 'cake', 'chair', 'couch',\n",
    "                'potted plant', 'bed', 'dining table', 'toilet', 'tv', 'laptop', 'mouse', 'remote', 'keyboard',\n",
    "                'cell phone', 'microwave', 'oven', 'toaster', 'sink', 'refrigerator', 'book', 'clock', 'vase',\n",
    "                'scissors', 'teddy bear', 'hair drier', 'toothbrush']\n",
    "\n",
    "# 类别总数\n",
    "n_classes = len(classes_name)\n",
    "# 模型的输出数量。其比类别数多输出5个数值，分别为置信度，“xy坐标点”，“宽高“（模型训练章节会讲解）。\n",
    "n_output = n_classes + 5\n",
    "\n",
    "# 将图片Resize到640x640\n",
    "image_size = 640\n",
    "batch_size = 4\n",
    "\n",
    "print(\"总类别数：\", n_classes)\n",
    "\n",
    "# 训练数据集的图片和Label所在的目录\n",
    "dataset_image_dir = Path('./coco128/images/train2017')\n",
    "dataset_label_dir = Path('./coco128/labels/train2017')\n",
    "\n",
    "device = torch.device('cuda' if torch.cuda.is_available() else 'cpu')\n",
    "\n",
    "print(\"Device:\", device)"
   ],
   "metadata": {
    "collapsed": false,
    "pycharm": {
     "name": "#%%\n"
    }
   },
   "execution_count": 663,
   "outputs": [
    {
     "name": "stdout",
     "output_type": "stream",
     "text": [
      "总类别数： 80\n",
      "Device: cpu\n"
     ]
    }
   ]
  },
  {
   "cell_type": "markdown",
   "source": [
    "# 工具函数"
   ],
   "metadata": {
    "collapsed": false,
    "pycharm": {
     "name": "#%% md\n"
    }
   }
  },
  {
   "cell_type": "code",
   "execution_count": 789,
   "outputs": [],
   "source": [
    "def convert_label_to_cxywh(image, label):\n",
    "    \"\"\"\n",
    "    数据集中的label为(class_index, x_center, y_center, width, height)，且坐标都是小数。\n",
    "    为了方便图形绘制，我们将中心点坐标转换为左上角坐标，同时将小数转换为整数\n",
    "    \"\"\"\n",
    "    im_w, im_h = image.size(2), image.size(1)\n",
    "\n",
    "    cxywh_list = []\n",
    "    for obj in label:\n",
    "        class_index, x_center, y_center, width, height = obj\n",
    "        x = (x_center - width / 2) * im_w\n",
    "        y = (y_center - height / 2) * im_h\n",
    "        w = width * im_w\n",
    "        h = height * im_h\n",
    "        cxywh_list.append((class_index, x, y, w, h))\n",
    "    return cxywh_list"
   ],
   "metadata": {
    "collapsed": false,
    "pycharm": {
     "name": "#%%\n"
    }
   }
  },
  {
   "cell_type": "code",
   "execution_count": 790,
   "outputs": [],
   "source": [
    "def im_show(image, label):\n",
    "    \"\"\"\n",
    "    绘制图像及其中的物体边框\n",
    "    \"\"\"\n",
    "    fig = plt.figure()\n",
    "    ax = fig.add_subplot(1, 1, 1)\n",
    "    label = convert_label_to_cxywh(image, label)\n",
    "    for obj in label:\n",
    "        class_index, x, y, w, h = obj\n",
    "        rect = plt.Rectangle(xy=(x, y), width=w, height=h, fill=False, edgecolor='red', linewidth=2)\n",
    "        ax.add_patch(rect)\n",
    "        print(class_index)\n",
    "        plt.text(x, y, classes_name[class_index.int()], color='red', fontsize=16)\n",
    "    plt.imshow(image.permute(1, 2, 0))\n",
    "    plt.show()"
   ],
   "metadata": {
    "collapsed": false,
    "pycharm": {
     "name": "#%%\n"
    }
   }
  },
  {
   "cell_type": "markdown",
   "source": [
    "# 数据处理"
   ],
   "metadata": {
    "collapsed": false,
    "pycharm": {
     "name": "#%% md\n"
    }
   }
  },
  {
   "cell_type": "markdown",
   "source": [
    "在原代码中，Yolo在数据处理上做了大量的工作，包括各种数据增强、等比例缩放等。这里我们就最简单，啥都不做，就是图片和标签。在缩放上，我们也是简单粗暴的直接将其Resize成640x640。由于YoloV3使用的数据集的坐标和宽高也都是相对坐标(`[0-1]`), 所以也不需要因为Resize做特别处理。"
   ],
   "metadata": {
    "collapsed": false,
    "pycharm": {
     "name": "#%% md\n"
    }
   }
  },
  {
   "cell_type": "markdown",
   "source": [
    "数据集我们就使用TODO。"
   ],
   "metadata": {
    "collapsed": false,
    "pycharm": {
     "name": "#%% md\n"
    }
   }
  },
  {
   "cell_type": "markdown",
   "source": [
    "数据集主要包含两部分，图片文件和Label文件，名称相同的是一对儿。 例如，图片文件是这样：\n",
    "\n",
    "```\n",
    "000000000009.jpg\n",
    "000000000025.jpg\n",
    "000000000030.jpg\n",
    "000000000034.jpg\n",
    "```\n",
    "\n",
    "标签文件则长这样：\n",
    "\n",
    "```\n",
    "000000000009.txt\n",
    "000000000025.txt\n",
    "000000000030.txt\n",
    "000000000034.txt\n",
    "```"
   ],
   "metadata": {
    "collapsed": false,
    "pycharm": {
     "name": "#%% md\n"
    }
   }
  },
  {
   "cell_type": "markdown",
   "source": [
    "随便你打开个标签文件，我们会看到这样的数据：\n",
    "\n",
    "```\n",
    "25 0.475759 0.414523 0.951518 0.672422\n",
    "0 0.671279 0.617945 0.645759 0.726859\n",
    "```\n",
    "\n",
    "该文件包含两行数据，也就是对应图片中有两个物体。每行包含5个数据，分别为`class_index`（物体类别）, `center_x`, `center_y`（物体中心点坐标）, `w`, `h`（物体宽高）。\n",
    "\n",
    "其中中心点坐标和宽高都是相对位置，所以是0-1之间的数。"
   ],
   "metadata": {
    "collapsed": false,
    "pycharm": {
     "name": "#%% md\n"
    }
   }
  },
  {
   "cell_type": "markdown",
   "source": [
    "有了对数据集的了解，我们就可以来定义Dataset了，Dataset就是简单的对图片进行正则化（除以255，把图片弄到0-1的区间），提取标签。"
   ],
   "metadata": {
    "collapsed": false,
    "pycharm": {
     "name": "#%% md\n"
    }
   }
  },
  {
   "cell_type": "code",
   "execution_count": 826,
   "outputs": [],
   "source": [
    "class YoloDataset(Dataset):\n",
    "\n",
    "    def __init__(self):\n",
    "        # 获取训练集图片列表\n",
    "        self.images = os.listdir(dataset_image_dir)\n",
    "\n",
    "    def __getitem__(self, index):\n",
    "        image_filename = self.images[index]\n",
    "        # 读取图片，Resize到640x640，并进行正则化\n",
    "        image = torchvision.io.read_image(str(dataset_image_dir / image_filename))\n",
    "        image = transforms.Resize((image_size, image_size))(image)\n",
    "        image = image / 255.\n",
    "\n",
    "        # 把文件名jpg换成txt就是标签文件的名称\n",
    "        label_filename = image_filename[:-3] + 'txt'\n",
    "        label_path = dataset_label_dir / label_filename\n",
    "\n",
    "        # 使用pandas来读取标签文件\n",
    "        label = torch.from_numpy(pd.read_csv(label_path, delimiter=' ', header=None).to_numpy())\n",
    "\n",
    "        return image, label\n",
    "\n",
    "    def __len__(self):\n",
    "        return 1 # TODO\n",
    "        # return len(self.images)"
   ],
   "metadata": {
    "collapsed": false,
    "pycharm": {
     "name": "#%%\n"
    }
   }
  },
  {
   "cell_type": "code",
   "execution_count": 827,
   "outputs": [],
   "source": [
    "dataset = YoloDataset()"
   ],
   "metadata": {
    "collapsed": false,
    "pycharm": {
     "name": "#%%\n"
    }
   }
  },
  {
   "cell_type": "markdown",
   "source": [
    "定义好Dataset后，我们来看一眼，并绘制一下："
   ],
   "metadata": {
    "collapsed": false,
    "pycharm": {
     "name": "#%% md\n"
    }
   }
  },
  {
   "cell_type": "code",
   "execution_count": 828,
   "outputs": [
    {
     "name": "stdout",
     "output_type": "stream",
     "text": [
      "image shape: torch.Size([3, 640, 640])\n",
      "label: tensor([[23.0000,  0.7703,  0.4897,  0.3359,  0.6976],\n",
      "        [23.0000,  0.1860,  0.9016,  0.2063,  0.1296]], dtype=torch.float64)\n"
     ]
    }
   ],
   "source": [
    "image, label = dataset.__getitem__(1)\n",
    "print(\"image shape:\", image.size())\n",
    "print(\"label:\", label)"
   ],
   "metadata": {
    "collapsed": false,
    "pycharm": {
     "name": "#%%\n"
    }
   }
  },
  {
   "cell_type": "code",
   "execution_count": 829,
   "outputs": [
    {
     "name": "stdout",
     "output_type": "stream",
     "text": [
      "tensor(23., dtype=torch.float64)\n",
      "tensor(23., dtype=torch.float64)\n"
     ]
    },
    {
     "data": {
      "text/plain": "<Figure size 432x288 with 1 Axes>",
      "image/png": "[encoded data removed]"
     },
     "metadata": {
      "needs_background": "light"
     },
     "output_type": "display_data"
    }
   ],
   "source": [
    "im_show(image, label)"
   ],
   "metadata": {
    "collapsed": false,
    "pycharm": {
     "name": "#%%\n"
    }
   }
  },
  {
   "cell_type": "markdown",
   "source": [
    "这里绘制的图片是缩放后的，所以大小为640x640"
   ],
   "metadata": {
    "collapsed": false,
    "pycharm": {
     "name": "#%% md\n"
    }
   }
  },
  {
   "cell_type": "markdown",
   "source": [
    "接下来开始定义DataLoader，由于每个图片的物体数不一样，即label的shape不一样，所以其不能直接组成一个batch，因此我们需要一个collate_fn将其组成一个batch。"
   ],
   "metadata": {
    "collapsed": false,
    "pycharm": {
     "name": "#%% md\n"
    }
   }
  },
  {
   "cell_type": "code",
   "execution_count": 830,
   "outputs": [],
   "source": [
    "def collate_fn(batch):\n",
    "    image_list = []\n",
    "    label_list = []\n",
    "    for i, (image, label) in enumerate(batch):\n",
    "        image_list.append(image)\n",
    "        # 给label最前面加一列。目的是当多张图片组成一个batch后，能区分哪个物体是属于哪张图片的\n",
    "        label = torch.concat([torch.full((label.size(0), 1), fill_value=i), label], dim=1)\n",
    "        label_list.append(label)\n",
    "    \"\"\"\n",
    "    多张图片使用stack摞起来，例如4张图片，shape都为(3, 640, 640)\n",
    "                         则结果为(4, 3, 640, 640)\n",
    "    多张图片的多个物体使用concat连接，因为他们Shape不一样，所以无法使用Stack\n",
    "                        例如4张图片的Label Shape分别为(4, 6), (1, 6), (2, 6), (3, 6)\n",
    "                        则结果为(10, 6)\n",
    "    \"\"\"\n",
    "    return torch.stack(image_list), torch.concat(label_list)"
   ],
   "metadata": {
    "collapsed": false,
    "pycharm": {
     "name": "#%%\n"
    }
   }
  },
  {
   "cell_type": "code",
   "execution_count": 831,
   "outputs": [],
   "source": [
    "dataloader = DataLoader(dataset, batch_size=batch_size, shuffle=False, collate_fn=collate_fn)"
   ],
   "metadata": {
    "collapsed": false,
    "pycharm": {
     "name": "#%%\n"
    }
   }
  },
  {
   "cell_type": "markdown",
   "source": [
    "dataloader构建好以后，也是来简单看一下"
   ],
   "metadata": {
    "collapsed": false,
    "pycharm": {
     "name": "#%% md\n"
    }
   }
  },
  {
   "cell_type": "code",
   "execution_count": 832,
   "outputs": [
    {
     "name": "stdout",
     "output_type": "stream",
     "text": [
      "image shape: torch.Size([1, 3, 640, 640])\n",
      "labels shape: torch.Size([2, 5])\n"
     ]
    }
   ],
   "source": [
    "images, labels = next(iter(dataloader))\n",
    "print(\"image shape:\", images.size())\n",
    "print(\"labels shape:\", label.size())"
   ],
   "metadata": {
    "collapsed": false,
    "pycharm": {
     "name": "#%%\n"
    }
   }
  },
  {
   "cell_type": "markdown",
   "source": [
    "# 模型搭建"
   ],
   "metadata": {
    "collapsed": false,
    "pycharm": {
     "name": "#%% md\n"
    }
   }
  },
  {
   "cell_type": "markdown",
   "source": [
    "数据准备完毕后，我们就可以来正式进入Yolo算法了，我们首先来搭建Yolo模型。本文使用的是YoloV3-Tiny模型，其最后输出两个窗口（原始输出是3个），不过都差不多。下图是YoloV3-Tiny的模型图，TODO"
   ],
   "metadata": {
    "collapsed": false,
    "pycharm": {
     "name": "#%% md\n"
    }
   }
  },
  {
   "cell_type": "markdown",
   "source": [
    "原论文中的YoloV3图忽略了很多细节，所以还是主要参考YoloV3源码中的架构：\n",
    "\n",
    "```\n",
    "anchors:\n",
    "  - [10,14, 23,27, 37,58]  # P4/16 # 负责检测小物体\n",
    "  - [81,82, 135,169, 344,319]  # P5/32 # 负责检测大物体\n",
    "\n",
    "# YOLOv3-tiny backbone\n",
    "backbone:\n",
    "  # [from, number, module, args]\n",
    "  [[-1, 1, Conv, [16, 3, 1]],  # 0\n",
    "   [-1, 1, nn.MaxPool2d, [2, 2, 0]],  # 1-P1/2\n",
    "   [-1, 1, Conv, [32, 3, 1]],\n",
    "   [-1, 1, nn.MaxPool2d, [2, 2, 0]],  # 3-P2/4\n",
    "   [-1, 1, Conv, [64, 3, 1]],\n",
    "   [-1, 1, nn.MaxPool2d, [2, 2, 0]],  # 5-P3/8\n",
    "   [-1, 1, Conv, [128, 3, 1]],\n",
    "   [-1, 1, nn.MaxPool2d, [2, 2, 0]],  # 7-P4/16\n",
    "   [-1, 1, Conv, [256, 3, 1]],\n",
    "   [-1, 1, nn.MaxPool2d, [2, 2, 0]],  # 9-P5/32\n",
    "   [-1, 1, Conv, [512, 3, 1]],\n",
    "   [-1, 1, nn.ZeroPad2d, [[0, 1, 0, 1]]],  # 11\n",
    "   [-1, 1, nn.MaxPool2d, [2, 1, 0]],  # 12\n",
    "  ]\n",
    "\n",
    "# YOLOv3-tiny head\n",
    "head:\n",
    "  [[-1, 1, Conv, [1024, 3, 1]],\n",
    "   [-1, 1, Conv, [256, 1, 1]],\n",
    "   [-1, 1, Conv, [512, 3, 1]],  # 15 (P5/32-large)\n",
    "\n",
    "   [-2, 1, Conv, [128, 1, 1]],\n",
    "   [-1, 1, nn.Upsample, [None, 2, 'nearest']],\n",
    "   [[-1, 8], 1, Concat, [1]],  # cat backbone P4\n",
    "   [-1, 1, Conv, [256, 3, 1]],  # 19 (P4/16-medium)\n",
    "\n",
    "   [[19, 15], 1, Detect, [nc, anchors]],  # Detect(P4, P5)\n",
    "]\n",
    "```"
   ],
   "metadata": {
    "collapsed": false,
    "pycharm": {
     "name": "#%% md\n"
    }
   }
  },
  {
   "cell_type": "markdown",
   "source": [
    "上述的模型架构中，主要包含两部分：\n",
    "\n",
    "- backbone: 模型主干部分，是一个卷积神经网络，负责对图片进行特征提取\n",
    "- head: 模型的预测部分，主要负责输出不同尺度的预测结果。"
   ],
   "metadata": {
    "collapsed": false,
    "pycharm": {
     "name": "#%% md\n"
    }
   }
  },
  {
   "cell_type": "markdown",
   "source": [
    "源码的配置文件的每行包含四个参数，分别为：\n",
    "\n",
    "- from: 表示本层的输入来源于哪。`-1`就代表本层的输入来源于上一层的输出，同理`-2`就表示来源为上上层的输出。如果是`8`，则表示来源于第8层的输出。（从0开始计算）\n",
    "- number: 表示本层需要重复堆叠几次。在YoloV3-Tiny中该值都为1，所以可以忽略不计。\n",
    "- module: 表示本层的网络模块是啥。如果是`nn.`开头的，则是pytorch内置的模块，否则就是自定义的。\n",
    "- args: 表示本层网络模块的输入参数。例如对于Conv的参数`[16, 3, 1]`就表示输出通道为16, kernal_size为3， stride为1。\n",
    "\n"
   ],
   "metadata": {
    "collapsed": false,
    "pycharm": {
     "name": "#%% md\n"
    }
   }
  },
  {
   "cell_type": "markdown",
   "source": [
    "上面的配置文件中，还包含anchor配置，我们这里也将其定义出来："
   ],
   "metadata": {
    "collapsed": false,
    "pycharm": {
     "name": "#%% md\n"
    }
   }
  },
  {
   "cell_type": "code",
   "execution_count": 833,
   "outputs": [],
   "source": [
    "anchors_list = [\n",
    "    [[10, 13], [33, 23], [62, 45]],\n",
    "    [[59, 119], [156, 198], [373, 326]]\n",
    "]\n",
    "# 按照上面的定义，每个窗口anchor的数量为3\n",
    "n_anchors = 3"
   ],
   "metadata": {
    "collapsed": false,
    "pycharm": {
     "name": "#%%\n"
    }
   }
  },
  {
   "cell_type": "markdown",
   "source": [
    "接下来我们就可以开始按照配置来构建网络，我们首先需要把网络自定的模块定义出来。"
   ],
   "metadata": {
    "collapsed": false,
    "pycharm": {
     "name": "#%% md\n"
    }
   }
  },
  {
   "cell_type": "markdown",
   "source": [
    "在Yolo中，Conv是指卷积层，它是由三部分组成的，`nn.Conv2d`、`BatchNorm`和激活函数`SiLU`（和Relu长的差不多）。"
   ],
   "metadata": {
    "collapsed": false,
    "pycharm": {
     "name": "#%% md\n"
    }
   }
  },
  {
   "cell_type": "code",
   "execution_count": 834,
   "outputs": [],
   "source": [
    "class Conv(nn.Module):\n",
    "    # Standard convolution\n",
    "    def __init__(self, in_channels, out_channels, kernel_size=1, stride=1):\n",
    "        super().__init__()\n",
    "        # 这里padding全取 kernal_size//2 的原因是 TODO\n",
    "        self.conv = nn.Conv2d(in_channels, out_channels, kernel_size, stride, padding=kernel_size // 2, bias=False)\n",
    "        self.bn = nn.BatchNorm2d(out_channels)\n",
    "        self.act = nn.SiLU()\n",
    "\n",
    "    def forward(self, x):\n",
    "        return self.act(self.bn(self.conv(x)))"
   ],
   "metadata": {
    "collapsed": false,
    "pycharm": {
     "name": "#%%\n"
    }
   }
  },
  {
   "cell_type": "markdown",
   "source": [
    "接下来是Concat，这个比较简单，就是将两个结果Concat到一起，主要是用于高层特征与低层特征融合的。"
   ],
   "metadata": {
    "collapsed": false,
    "pycharm": {
     "name": "#%% md\n"
    }
   }
  },
  {
   "cell_type": "code",
   "execution_count": 835,
   "outputs": [],
   "source": [
    "class Concat(nn.Module):\n",
    "    # Concatenate a list of tensors along dimension\n",
    "    def __init__(self, dimension=1):\n",
    "        super().__init__()\n",
    "        self.d = dimension\n",
    "\n",
    "    def forward(self, x):\n",
    "        return torch.cat(x, self.d)"
   ],
   "metadata": {
    "collapsed": false,
    "pycharm": {
     "name": "#%%\n"
    }
   }
  },
  {
   "cell_type": "markdown",
   "source": [
    "之后就是后一个Detect层，它是一个`ModuleList`，最终会输出两个不同尺度的特征图。这个的实现稍微复杂一点："
   ],
   "metadata": {
    "collapsed": false,
    "pycharm": {
     "name": "#%% md\n"
    }
   }
  },
  {
   "cell_type": "code",
   "execution_count": 836,
   "outputs": [],
   "source": [
    "class Detect(nn.Module):\n",
    "\n",
    "    def __init__(self):\n",
    "        super().__init__()\n",
    "\n",
    "        # 最后输出两种尺度的特征图。输出通道为 n_anchors * n_output。在本文中，就是3*85。\n",
    "        self.model = nn.ModuleList(\n",
    "            [\n",
    "                nn.Conv2d(256, n_anchors * n_output, 1, 1),\n",
    "                nn.Conv2d(512, n_anchors * n_output, 1, 1)\n",
    "            ],\n",
    "        )\n",
    "\n",
    "    def forward(self, x):\n",
    "        outputs = []\n",
    "        # 因为模型modelList, 所以要for循环分别处理。\n",
    "        for i in range(len(self.model)):\n",
    "            # 最后输出两个不同尺度的特征图。\n",
    "            output = self.model[i](x[i])\n",
    "            # 由于有3个anchor，所以需要将output的Shape从(batch_size, 255, 20, 20)转换为(batch_size, 3, 20 ,20, 85)\n",
    "            bs, _, ny, nx = output.shape\n",
    "            output = output.view(bs, n_anchors, n_output, ny, nx).permute(0, 1, 3, 4, 2).contiguous()\n",
    "\n",
    "            outputs.append(output)\n",
    "        return outputs"
   ],
   "metadata": {
    "collapsed": false,
    "pycharm": {
     "name": "#%%\n"
    }
   }
  },
  {
   "cell_type": "markdown",
   "source": [
    "构建完Yolo需要的网络模块，接下来我们正式构建YoloV3-Tiny模型，这里我就简单粗暴的一层一层定义："
   ],
   "metadata": {
    "collapsed": false,
    "pycharm": {
     "name": "#%% md\n"
    }
   }
  },
  {
   "cell_type": "code",
   "execution_count": 837,
   "outputs": [],
   "source": [
    "class YoloV3Tiny(nn.Module):\n",
    "\n",
    "    def __init__(self):\n",
    "        super(YoloV3Tiny, self).__init__()\n",
    "        self.backbone_0 = Conv(3, 16, 3, 1)  # 0\n",
    "        self.backbone_1 = nn.MaxPool2d(2, 2, 0)  # 1\n",
    "        self.backbone_2 = Conv(16, 32, 3, 1)\n",
    "        self.backbone_3 = nn.MaxPool2d(2, 2, 0)  # 3\n",
    "        self.backbone_4 = Conv(32, 64, 3, 1)\n",
    "        self.backbone_5 = nn.MaxPool2d(2, 2, 0)  # 5\n",
    "        self.backbone_6 = Conv(64, 128, 3, 1)\n",
    "        self.backbone_7 = nn.MaxPool2d(2, 2, 0)  # 7\n",
    "        self.backbone_8 = Conv(128, 256, 3, 1)\n",
    "        self.backbone_9 = nn.MaxPool2d(2, 2, 0)  # 9\n",
    "        self.backbone_10 = Conv(256, 512, 3, 1)\n",
    "        self.backbone_11 = nn.ZeroPad2d([0, 1, 0, 1])  # 11\n",
    "        self.backbone_12 = nn.MaxPool2d(2, 1, 0)  # 12\n",
    "\n",
    "        self.head_13 = Conv(512, 1024, 3, 1)\n",
    "        self.head_14 = Conv(1024, 256, 1, 1)\n",
    "        self.head_15 = Conv(256, 512, 3, 1)\n",
    "        self.head_16 = Conv(256, 128, 1, 1)\n",
    "        self.head_17 = nn.Upsample(None, 2, 'nearest')\n",
    "        self.head_18 = Concat(1)\n",
    "        self.head_19 = Conv(384, 256, 3, 1)\n",
    "        self.head_20 = Detect()\n",
    "\n",
    "    def forward(self, images):\n",
    "        outputs = self.backbone_0(images)\n",
    "        outputs = self.backbone_1(outputs)\n",
    "        outputs = self.backbone_2(outputs)\n",
    "        outputs = self.backbone_3(outputs)\n",
    "        outputs = self.backbone_4(outputs)\n",
    "        outputs = self.backbone_5(outputs)\n",
    "        outputs = self.backbone_6(outputs)\n",
    "        outputs = self.backbone_7(outputs)\n",
    "        outputs_8 = self.backbone_8(outputs)\n",
    "        outputs = self.backbone_9(outputs_8)\n",
    "        outputs = self.backbone_10(outputs)\n",
    "        outputs = self.backbone_11(outputs)\n",
    "        outputs = self.backbone_12(outputs)\n",
    "\n",
    "        outputs = self.head_13(outputs)\n",
    "        outputs_14 = self.head_14(outputs)\n",
    "        outputs_15 = self.head_15(outputs_14)\n",
    "        outputs = self.head_16(outputs_14)\n",
    "        outputs = self.head_17(outputs)\n",
    "        outputs = self.head_18([outputs, outputs_8])\n",
    "        outputs_19 = self.head_19(outputs)\n",
    "        outputs = self.head_20([outputs_19, outputs_15])\n",
    "        return outputs"
   ],
   "metadata": {
    "collapsed": false,
    "pycharm": {
     "name": "#%%\n"
    }
   }
  },
  {
   "cell_type": "markdown",
   "source": [
    "定义好后，我们来试一下："
   ],
   "metadata": {
    "collapsed": false,
    "pycharm": {
     "name": "#%% md\n"
    }
   }
  },
  {
   "cell_type": "code",
   "execution_count": 838,
   "outputs": [],
   "source": [
    "model = YoloV3Tiny()"
   ],
   "metadata": {
    "collapsed": false,
    "pycharm": {
     "name": "#%%\n"
    }
   }
  },
  {
   "cell_type": "code",
   "execution_count": 839,
   "outputs": [
    {
     "name": "stdout",
     "output_type": "stream",
     "text": [
      "pred[0] shape: torch.Size([1, 3, 40, 40, 85])\n",
      "pred[1] shape: torch.Size([1, 3, 20, 20, 85])\n"
     ]
    }
   ],
   "source": [
    "pred = model(images)\n",
    "print(\"pred[0] shape:\", pred[0].size())\n",
    "print(\"pred[1] shape:\", pred[1].size())"
   ],
   "metadata": {
    "collapsed": false,
    "pycharm": {
     "name": "#%%\n"
    }
   }
  },
  {
   "cell_type": "markdown",
   "source": [
    "最终，我们将640x640的图片缩小成了两种尺度，分别为40x40和20x20。\n",
    "显然40x40的更为精细，所以通常用来预测小物体，它对应的anchor是`[[10, 13], [33, 23], [62, 45]]`都比较小。\n",
    "而20x20相对就比较粗，所以用来预测大物体，对应的anchor为`[[59, 119], [156, 198], [373, 326]]`\n",
    "\n",
    "我们接下来计算下这两种尺度分别将原图缩小了多少倍：\n",
    "\n",
    "640/40=16\n",
    "640/20=32\n",
    "\n",
    "分别缩小了16倍和32倍。所以我们之后的anchor等的处理也要相应的缩小16倍和32倍，这也是yolo中一个很重要的参数`strde`"
   ],
   "metadata": {
    "collapsed": false,
    "pycharm": {
     "name": "#%% md\n"
    }
   }
  },
  {
   "cell_type": "code",
   "execution_count": 840,
   "outputs": [],
   "source": [
    "stride = [16, 32]"
   ],
   "metadata": {
    "collapsed": false,
    "pycharm": {
     "name": "#%%\n"
    }
   }
  },
  {
   "cell_type": "markdown",
   "source": [
    "定义好模型后，接下来正式进入模型训练，真正的难点来了。"
   ],
   "metadata": {
    "collapsed": false,
    "pycharm": {
     "name": "#%% md\n"
    }
   }
  },
  {
   "cell_type": "markdown",
   "source": [
    "# 模型训练"
   ],
   "metadata": {
    "collapsed": false,
    "pycharm": {
     "name": "#%% md\n"
    }
   }
  },
  {
   "cell_type": "markdown",
   "source": [
    "YoloV3-Tiny模型有两个尺度的输出，分别为`(batch_size, 3, 40, 40, 85)`和`(batch_size, 3, 20, 20, 85)`。在模型训练前，我们需要彻底搞懂这个是什么意思。我们以第二个作为例子来说明。\n",
    "\n",
    "---\n",
    "模型的输出为(batch_size, 3, 20, 20, 85)，其中3为3个anchor，20x20表示将原图分成20x20个窗口，85表示每个窗口针对自己的预测结果。假设我们的原图为：\n",
    "\n",
    "<img src=\"./asserts/images/101_02.png\" width=\"200\">\n",
    "\n",
    "“我只画了5x5个格子，实际应该是20x20个格子”。假设我们的原图只有一个物体（圆点是该物体的中心点），那么在这20x20个格子里，应该是第三个格子负责预测，假设没有引入anchor的话，我们希望的输出则为：\n",
    "\n",
    "<img src=\"./asserts/images/101_03.png\" width=\"200\">"
   ],
   "metadata": {
    "collapsed": false,
    "pycharm": {
     "name": "#%% md\n"
    }
   }
  },
  {
   "cell_type": "markdown",
   "source": [
    "理想状态下，用tensor表示则为（tensor shape为(1, 1, 20, 20,85)）：\n",
    "\n",
    "```\n",
    "[?, ?, ?, ?, 0.02, ...],\n",
    "[?, ?, ?, ?, 0.02, ...],\n",
    "[x, y, w, h, 0.99, ...], # 第3个格子\n",
    "[?, ?, ?, ?, 0.02, ...],\n",
    "```\n",
    "\n",
    "其中x,y表示物体相对本格子的中心点坐标，w,h表示物体的宽高，`0.99`和`0.02`表示置信度，越高表示这个格子有物体的概率越大。第三个格子因为有物体，所以置信度很高，而其他格子由于没有物体，所以置信度很低。\n",
    "\n",
    "但是为什么要引入Anchor呢？因为想让模型直接预测出宽高很困难。举个现实生活中直观的例子, 我现在问你，辽宁号航母的造价大概是多少钱，不了解的同学虽然有很多生活经验，但是依然无法给出一个准确的答案，可能有些人会猜5亿？10亿？这些与实际答案都偏离甚远。但如果我给你一个锚点，航母的造价大概都在1000亿左右，那再让同学们预测就会准的多。\n",
    "\n",
    "Anchor的机制同理，直接让网络预测出物体的宽高很困难，但是如果我们能给网络一个参考，比如，在一个640x640的图片中，一个物体的大小大概就是30x30或者60x60这样，你预测时候也不要给我宽高，你就给我偏移量。例如：你认为物体大小为40x40，那么针对这两个anchor，你给我的预测值就为10,10和-20,-20，这样相比直接让你给我宽高，对网络来说就容易多了。"
   ],
   "metadata": {
    "collapsed": false,
    "pycharm": {
     "name": "#%% md\n"
    }
   }
  },
  {
   "cell_type": "markdown",
   "source": [
    "一般人们都会给网络3个anchor作为参考，通常都是正方形、横长方形、竖长方形。每个格子就按这三种进行偏移量预测：\n",
    "\n",
    "<img src=\"./asserts/images/101_01.png\" width=\"500\">\n",
    "\n",
    "上图我只画了红色anchor的预测情况，其返回的是偏移量，这个会在计算Loss章节给出解释。"
   ],
   "metadata": {
    "collapsed": false,
    "pycharm": {
     "name": "#%% md\n"
    }
   }
  },
  {
   "cell_type": "markdown",
   "source": [
    "# 获取正样本"
   ],
   "metadata": {
    "collapsed": false,
    "pycharm": {
     "name": "#%% md\n"
    }
   }
  },
  {
   "cell_type": "markdown",
   "source": [
    "为了可以计算loss，我们要给出模型参考值，也就是按照模型输出的分格方式，计算出哪些格子有物体，物体的坐标是多少、物体相对anchor的偏移量是多少。所以我们要找出所有的正样本，即具有物体的格子。我们接下来要构造一个`build_targets`函数，来从labels中提取出一些数据，帮助我们后续的loss计算。"
   ],
   "metadata": {
    "collapsed": false,
    "pycharm": {
     "name": "#%% md\n"
    }
   }
  },
  {
   "cell_type": "markdown",
   "source": [
    "`build_targets(pred, labels)`一共有4个返回值，分别为：`target_cls, target_box, indices, anch`\n",
    "\n",
    "假设我们的Labels为：\n",
    "\n",
    "```\n",
    "[[ 0, 22,  0.001,  0.001,  0.1,  0.1],\n",
    " [ 1, 33,  0.001,  0.001,  0.2,  0.2],\n",
    " [ 1, 44,  0.999,  0.999,  0.3,  0.3]]\n",
    "```\n",
    "\n",
    "即我们有两张图片，图片0中有一个物体，在左上角，坐标为(0.001, 0.001)，宽高都为0.1，类别为22。图片1中有两个物体，分别在左上角和右下角，类别分别为33和44。\n",
    "\n",
    "此时如果我们调用`build_target(pred, labels)`（pred只是用于获取特征图尺寸，也就是40x40或20x20，并不直接参与targets的生成），则会得到如下结果："
   ],
   "metadata": {
    "collapsed": false,
    "pycharm": {
     "name": "#%% md\n"
    }
   }
  },
  {
   "cell_type": "markdown",
   "source": [
    "---\n",
    "\n",
    "target_cls:\n",
    "\n",
    "```\n",
    "[tensor([22, 33, 44, 22, 33, 44, 22, 33, 44]),\n",
    " tensor([22, 33, 44, 22, 33, 44, 22, 33, 44])]\n",
    "```\n",
    "\n",
    "target_cls是一个长度为2的list，2对应着YoloV3-Tiny输出的两种不同尺度的特征图。`target_cls[i]`中的数据是该尺度下的label的类别。`22,33,44`会重复3次是因为有三个anchor。"
   ],
   "metadata": {
    "collapsed": false,
    "pycharm": {
     "name": "#%% md\n"
    }
   }
  },
  {
   "cell_type": "markdown",
   "source": [
    "---\n",
    "\n",
    "target_box:\n",
    "\n",
    "```\n",
    "[tensor([[ 0.0400,  0.0400,  4.0000,  4.0000],\n",
    "         [ 0.0400,  0.0400,  8.0000,  8.0000],\n",
    "         [ 0.9600,  0.9600, 12.0000, 12.0000],\n",
    "         [ 0.0400,  0.0400,  4.0000,  4.0000],\n",
    "         [ 0.0400,  0.0400,  8.0000,  8.0000],\n",
    "         [ 0.9600,  0.9600, 12.0000, 12.0000],\n",
    "         [ 0.0400,  0.0400,  4.0000,  4.0000],\n",
    "         [ 0.0400,  0.0400,  8.0000,  8.0000],\n",
    "         [ 0.9600,  0.9600, 12.0000, 12.0000]]),\n",
    " tensor([[0.0200, 0.0200, 2.0000, 2.0000],\n",
    "         [0.0200, 0.0200, 4.0000, 4.0000],\n",
    "         [0.9800, 0.9800, 6.0000, 6.0000],\n",
    "         [0.0200, 0.0200, 2.0000, 2.0000],\n",
    "         [0.0200, 0.0200, 4.0000, 4.0000],\n",
    "         [0.9800, 0.9800, 6.0000, 6.0000],\n",
    "         [0.0200, 0.0200, 2.0000, 2.0000],\n",
    "         [0.0200, 0.0200, 4.0000, 4.0000],\n",
    "         [0.9800, 0.9800, 6.0000, 6.0000]])]\n",
    "```\n",
    "\n",
    "同理，target_box也是一个长度为2的list。每行数据对应着每个anchor下在当前格子中的相对位置。例如：`[ 0.0400,  0.0400,  4.0000,  4.0000]`对应着label中`[ 0, 22,  0.001,  0.001,  0.1,  0.1]`的物体在40x40这个尺度下的相对数据。在整个图片中，物体中心点的相对坐标为`(0.001, 0.001)`，那么现在整个图片被分割成了40x40个格子，那么在第一个格子里，该物体相对这个格子的坐标就会变成`0.001 * 40 = 0.04`，同理看，宽高相对当前格子也需要乘以40。"
   ],
   "metadata": {
    "collapsed": false,
    "pycharm": {
     "name": "#%% md\n"
    }
   }
  },
  {
   "cell_type": "markdown",
   "source": [
    "---\n",
    "\n",
    "indices:\n",
    "\n",
    "```\n",
    "[(tensor([0, 1, 2, 0, 1, 2, 0, 1, 2]),\n",
    "  tensor([0, 0, 0, 1, 1, 1, 2, 2, 2]),\n",
    "  tensor([ 0,  0, 39,  0,  0, 39,  0,  0, 39]),\n",
    "  tensor([ 0,  0, 39,  0,  0, 39,  0,  0, 39])),\n",
    " (tensor([0, 1, 2, 0, 1, 2, 0, 1, 2]),\n",
    "  tensor([0, 0, 0, 1, 1, 1, 2, 2, 2]),\n",
    "  tensor([ 0,  0, 19,  0,  0, 19,  0,  0, 19]),\n",
    "  tensor([ 0,  0, 19,  0,  0, 19,  0,  0, 19]))]\n",
    "```\n",
    "\n",
    "同理，indices是一个长度为2的list。`indices[i]`中又是一个长度为4的tuple。tuple中的4个tensor分别表示“第几条数据”、“第几个anchor”、“第几行”、“第几列”。\n",
    "\n",
    "例如：`indices[0]`中数据含义为：在第0张图片的第0个anchor上的(0,0)这个格子上发现了一个物体；在第1张图片的第0个anchor上的(0,0)这个格子上发现了一个物体；在第2张图片上的第0个anchor上的(39,39)这个格子上发现了一个物体；后面依次类推。"
   ],
   "metadata": {
    "collapsed": false,
    "pycharm": {
     "name": "#%% md\n"
    }
   }
  },
  {
   "cell_type": "markdown",
   "source": [
    "---\n",
    "\n",
    "anch:\n",
    "\n",
    "```\n",
    "[tensor([[0.6250, 0.8125],\n",
    "         [0.6250, 0.8125],\n",
    "         [0.6250, 0.8125],\n",
    "         [2.0625, 1.4375],\n",
    "         [2.0625, 1.4375],\n",
    "         [2.0625, 1.4375],\n",
    "         [3.8750, 2.8125],\n",
    "         [3.8750, 2.8125],\n",
    "         [3.8750, 2.8125]]),\n",
    " tensor([[ 1.8438,  3.7188],\n",
    "         [ 1.8438,  3.7188],\n",
    "         [ 1.8438,  3.7188],\n",
    "         [ 4.8750,  6.1875],\n",
    "         [ 4.8750,  6.1875],\n",
    "         [ 4.8750,  6.1875],\n",
    "         [11.6562, 10.1875],\n",
    "         [11.6562, 10.1875],\n",
    "         [11.6562, 10.1875]])]\n",
    "```\n",
    "\n",
    "同理，anch是一个长度为2的list。与indices中的anchor顺序一致，例如`[0.6250, 0.8125]`就对应着`[10,13]`这个anchor在40x40这个尺度上的缩放后的结果。即10/(640/40)=10/16=0.625。"
   ],
   "metadata": {
    "collapsed": false,
    "pycharm": {
     "name": "#%% md\n"
    }
   }
  },
  {
   "cell_type": "markdown",
   "source": [
    "---\n",
    "\n",
    "从上面的返回值中可以看出有很多重复数据，那是因为我假设一个超参数`iou_t=0`了。 在我们定义的anchor中，并不是所有的anchor都适合物体的预测。例如：对于一个长颈鹿，正方形的anchor就不太适合：\n",
    "\n",
    "<img src=\"./asserts/images/101_04.png\" width=\"200\">"
   ],
   "metadata": {
    "collapsed": false,
    "pycharm": {
     "name": "#%% md\n"
    }
   }
  },
  {
   "cell_type": "markdown",
   "source": [
    "这个时候我们就需要将这些重复数据去掉。所以我们需要计算一下anchor和target的iou，如果小于iou_t（通常为0.2），则忽略这个anchor。该函数在源码中为wh_iou："
   ],
   "metadata": {
    "collapsed": false,
    "pycharm": {
     "name": "#%% md\n"
    }
   }
  },
  {
   "cell_type": "code",
   "execution_count": 841,
   "outputs": [],
   "source": [
    "def wh_iou(wh1, wh2):\n",
    "    \"\"\"\n",
    "    计算wh1和wh2粗略iou。wh1和wh2并不包含位置信息，只有宽高。\n",
    "    所以等同于将其左上角对其，然后计算其IOU\n",
    "    \"\"\"\n",
    "    # Returns the nxm IoU matrix. wh1 is nx2, wh2 is mx2\n",
    "    wh1 = wh1[:, None]  # [N,1,2]\n",
    "    wh2 = wh2[None]  # [1,M,2]\n",
    "    inter = torch.min(wh1, wh2).prod(2)  # [N,M]\n",
    "    return inter / (wh1.prod(2) + wh2.prod(2) - inter)  # iou = inter / (area1 + area2 - inter)"
   ],
   "metadata": {
    "collapsed": false,
    "pycharm": {
     "name": "#%%\n"
    }
   }
  },
  {
   "cell_type": "markdown",
   "source": [
    "接下来开始编写build_targets："
   ],
   "metadata": {
    "collapsed": false,
    "pycharm": {
     "name": "#%% md\n"
    }
   }
  },
  {
   "cell_type": "code",
   "execution_count": 842,
   "outputs": [],
   "source": [
    "def build_targets(pred, labels):\n",
    "    \"\"\"\n",
    "    构建targets对象，用于计算loss。\n",
    "    :param pred: 模型的输出，仅用于获取40x40或20x20的特征图尺度。\n",
    "    :param labels: 从dataloader获取的labels\n",
    "    :return: 返回4个值，分别为 target_cls, target_box, indices, anch\n",
    "    \"\"\"\n",
    "    # 获取label中的目标的数量\n",
    "    n_targets = labels.shape[0]\n",
    "    # 定义返回值的list。\n",
    "    target_cls, target_box, indices, anch = [], [], [], []\n",
    "    # 定义gain，方便后面计算，初始化gain为[1, 1, 1, 1, 1, 1]\n",
    "    gain = torch.ones(6)\n",
    "\n",
    "    # 遍历两种尺度的anchor\n",
    "    for i, anchors in enumerate(anchors_list):\n",
    "        # 之后的注释都会按照40x40尺度作为例子解释各行代码\n",
    "\n",
    "        \"\"\"\n",
    "        例如对于第一个小尺度的anchor, 为[[10, 13], [33, 23], [62, 45]]\n",
    "        由于模型将640x640的图片缩小到了40x40，缩小了16倍，所以anchor也要\n",
    "        跟着缩小16倍。\n",
    "        \"\"\"\n",
    "        anchors = torch.tensor(anchors).float() / stride[i]\n",
    "\n",
    "        # 将gain变为[1, 1, 40, 40, 40, 40]，之所以是3,2,3,2是因为这段代码是支持不同宽高的。\n",
    "        gain[2:] = torch.tensor(pred[i].shape)[[3, 2, 3, 2]]  # xyxy gain\n",
    "\n",
    "        \"\"\"\n",
    "        定义个anchor_tensor，长这个样子\n",
    "                tensor([[0, 0, 0, ...],\n",
    "                        [1, 1, 1, ...],\n",
    "                        [2, 2, 2, ...]])\n",
    "        用于后面对anchor进行筛选。列数为target数量。\n",
    "        \"\"\"\n",
    "        anchor_tensor = torch.arange(n_anchors).view(n_anchors, 1).repeat(1,\n",
    "                                                               n_targets)  # anchor tensor, same as .repeat_interleave(nt)\n",
    "\n",
    "        # 将targets与anchor进行匹配\n",
    "        \"\"\"\n",
    "        target_i: targets的x,y,w,h都乘以40，转换为在当前格子中的相对大小。\n",
    "        \"\"\"\n",
    "        target_i = labels * gain\n",
    "        if n_targets:  # 如果存在target的话\n",
    "            \"\"\"\n",
    "            计算该尺度下anchors和target的wh_iou，并筛选出iou>0.2的\n",
    "            例如: j为：[[ True,  True, False, False],\n",
    "                      [False,  True,  True, True],\n",
    "                      [False, False,  True, False]]\n",
    "                 有4列表示有4个物体。3行表示有3个anchor。\n",
    "                 例如第2行第3列的True就表示，第三个物体的第2个anchor要保留，False则丢弃。\n",
    "            \"\"\"\n",
    "            j = wh_iou(anchors, target_i[:, 4:6]) >= 0.2 # 超参数\n",
    "            \"\"\"\n",
    "            anchor_i：过滤出这些target中要保留的anchor，例如：tensor([0, 0, 1, 1, 1, 2, 2])\n",
    "            target_i：过滤出要保留的target\n",
    "            \"\"\"\n",
    "            anchor_i, target_i = anchor_tensor[j], target_i.repeat(n_anchors, 1, 1)[j]  # filter\n",
    "\n",
    "        \"\"\"\n",
    "        image_indices: 过滤后的图片index，例如：[0, 1, 1, 2, 3, 2, 3]\n",
    "        clazz: 过滤后的图片类别。例如：[22, 33, 33, 44, 44, 44, 44]\n",
    "        \"\"\"\n",
    "        image_indices, clazz = target_i[:, :2].long().T  # image_idx, class\n",
    "        # 从target_i中拿出x,y\n",
    "        grid_xy = target_i[:, 2:4]  # grid xy\n",
    "        # 从target_i中拿出w,h\n",
    "        grid_wh = target_i[:, 4:6]  # grid wh\n",
    "        grid_ij = grid_xy.long()  # 匹配targets所在的grid cell左上角坐标\n",
    "        grid_i, grid_j = grid_ij.T  # grid xy indices\n",
    "\n",
    "        indices.append((image_indices, anchor_i, grid_j.clamp_(0, gain[3].long() - 1), grid_i.clamp_(0, gain[2].long() - 1)))\n",
    "        target_box.append(torch.cat((grid_xy - grid_ij, grid_wh), 1))  # gt box相对anchor的x,y偏移量以及w,h\n",
    "        anch.append(anchors[anchor_i])  # anchors\n",
    "        target_cls.append(clazz)  # class\n",
    "\n",
    "    return target_cls, target_box, indices, anch"
   ],
   "metadata": {
    "collapsed": false,
    "pycharm": {
     "name": "#%%\n"
    }
   }
  },
  {
   "cell_type": "markdown",
   "source": [
    "编写完targets后，我们尝试下："
   ],
   "metadata": {
    "collapsed": false,
    "pycharm": {
     "name": "#%% md\n"
    }
   }
  },
  {
   "cell_type": "code",
   "execution_count": 843,
   "outputs": [
    {
     "name": "stdout",
     "output_type": "stream",
     "text": [
      "target_cls: [tensor([], dtype=torch.int64), tensor([45])]\n",
      "target_box: [tensor([], size=(0, 4), dtype=torch.float64), tensor([[ 0.5898,  0.7754, 19.1122, 11.9100]], dtype=torch.float64)]\n",
      "indices: [(tensor([], dtype=torch.int64), tensor([], dtype=torch.int64), tensor([], dtype=torch.int64), tensor([], dtype=torch.int64)), (tensor([0]), tensor([2]), tensor([13]), tensor([9]))]\n",
      "anch: [tensor([], size=(0, 2)), tensor([[11.6562, 10.1875]])]\n"
     ]
    }
   ],
   "source": [
    "target_cls, target_box, indices, anch = build_targets(pred, labels)\n",
    "print(\"target_cls:\", target_cls)\n",
    "print(\"target_box:\", target_box)\n",
    "print(\"indices:\", indices)\n",
    "print(\"anch:\", anch)"
   ],
   "metadata": {
    "collapsed": false,
    "pycharm": {
     "name": "#%%\n"
    }
   }
  },
  {
   "cell_type": "markdown",
   "source": [
    "# 计算Loss"
   ],
   "metadata": {
    "collapsed": false,
    "pycharm": {
     "name": "#%% md\n"
    }
   }
  },
  {
   "cell_type": "markdown",
   "source": [
    "接下来开始计算Loss，同样，Loss计算比较复杂："
   ],
   "metadata": {
    "collapsed": false,
    "pycharm": {
     "name": "#%% md\n"
    }
   }
  },
  {
   "cell_type": "markdown",
   "source": [
    "在本次box的loss计算时，使用的GIoU(Generalized Intersection over Union)，公式为：\n",
    "\n",
    "$$\n",
    "GIoU = IoU - \\frac{|C-A\\cup B|}{|C|} = \\frac{|A\\cap B|}{|A\\cup B|} - \\frac{|C-A\\cup B|}{|C|}\n",
    "$$\n",
    "\n",
    "<br>\n",
    "\n",
    "$$\n",
    "\\text{GIoU Loss} = 1 - GIoU\n",
    "$$"
   ],
   "metadata": {
    "collapsed": false,
    "pycharm": {
     "name": "#%% md\n"
    }
   }
  },
  {
   "cell_type": "markdown",
   "source": [
    "GIoU主要是针对IoU为0时的优化，如果A,B两个物体没有交集，那么IoU=0，但我们肯定还是希望A,B越近越好，所以引入了矩形C，如图所示：\n",
    "\n",
    "<img src=\"./asserts/images/101_05.png\" width=\"200\">"
   ],
   "metadata": {
    "collapsed": false,
    "pycharm": {
     "name": "#%% md\n"
    }
   }
  },
  {
   "cell_type": "markdown",
   "source": [
    "C矩形就是将A，B两矩形框起来的最小矩形。这样，如果A,B距离越远，那么GIoU就会越小。"
   ],
   "metadata": {
    "collapsed": false,
    "pycharm": {
     "name": "#%% md\n"
    }
   }
  },
  {
   "cell_type": "markdown",
   "source": [
    "接下来我们定义出计算giou的函数："
   ],
   "metadata": {
    "collapsed": false,
    "pycharm": {
     "name": "#%% md\n"
    }
   }
  },
  {
   "cell_type": "code",
   "execution_count": 844,
   "outputs": [],
   "source": [
    "def bbox_giou(box1, box2):\n",
    "    \"\"\"\n",
    "    计算box1和box2的GIoU。\n",
    "    :param box1, box2: Shape为(n, 4)， n为target数量，4为center_x, center_y, w, h\n",
    "    :return: Shape为(n, )，即这n对儿物体的g_iou\n",
    "\n",
    "    例如：box1为[[1, 2, 2, 2],\n",
    "                [1, 3, 2, 2]]\n",
    "         box2为[[2, 1, 2, 2],\n",
    "                [3, 1, 2, 2]]\n",
    "        则这两对儿的giou为: [-0.0794, -0.5000] = [1/7-2/9, 0-8/16]\n",
    "    大家可以尝试用笔算一下，然后再验证下。\n",
    "    \"\"\"\n",
    "    box1 = box1.t()\n",
    "    box2 = box2.t()\n",
    "\n",
    "    # transform from xywh to xyxy\n",
    "    b1_x1, b1_x2 = box1[0] - box1[2] / 2, box1[0] + box1[2] / 2\n",
    "    b1_y1, b1_y2 = box1[1] - box1[3] / 2, box1[1] + box1[3] / 2\n",
    "    b2_x1, b2_x2 = box2[0] - box2[2] / 2, box2[0] + box2[2] / 2\n",
    "    b2_y1, b2_y2 = box2[1] - box2[3] / 2, box2[1] + box2[3] / 2\n",
    "\n",
    "    # Intersection area\n",
    "    inter = (torch.min(b1_x2, b2_x2) - torch.max(b1_x1, b2_x1)).clamp(0) * (\n",
    "            torch.min(b1_y2, b2_y2) - torch.max(b1_y1, b2_y1)).clamp(0)\n",
    "\n",
    "    # Union Area\n",
    "    w1, h1 = b1_x2 - b1_x1, b1_y2 - b1_y1\n",
    "    w2, h2 = b2_x2 - b2_x1, b2_y2 - b2_y1\n",
    "    union = (w1 * h1 + 1e-16) + w2 * h2 - inter\n",
    "\n",
    "    iou = inter / union  # iou\n",
    "\n",
    "    cw = torch.max(b1_x2, b2_x2) - torch.min(b1_x1, b2_x1)  # convex (smallest enclosing box) width\n",
    "    ch = torch.max(b1_y2, b2_y2) - torch.min(b1_y1, b2_y1)  # convex height\n",
    "\n",
    "    c_area = cw * ch + 1e-16  # convex area\n",
    "    return iou - (c_area - union) / c_area  # GIoU"
   ],
   "metadata": {
    "collapsed": false,
    "pycharm": {
     "name": "#%%\n"
    }
   }
  },
  {
   "cell_type": "code",
   "execution_count": 845,
   "outputs": [],
   "source": [
    "def compute_loss(pred, labels):  # predictions, targets\n",
    "    \"\"\"\n",
    "    计算loss\n",
    "    :param pred: 模型的输出\n",
    "    :param labels: 从dataloader获取的labels\n",
    "    :return: 总loss\n",
    "    \"\"\"\n",
    "    # class_loss，用于对类别预测结果进行评判\n",
    "    class_loss = torch.zeros(1)  # Tensor(0)\n",
    "    # box_loss，用于对预测的物体边框（坐标和宽高）进行评判\n",
    "    box_loss = torch.zeros(1)  # Tensor(0)\n",
    "    # object loss，用于对该位置是否有物体的结果进行评判\n",
    "    obj_loss = torch.zeros(1)  # Tensor(0)\n",
    "    # 使用build_targets构建出labels中的正样本\n",
    "    target_cls, target_box, indices, anchors = build_targets(pred, labels)  # targets\n",
    "\n",
    "    \"\"\"\n",
    "    定义损失函数，这里使用BCELoss（Binary Cross Entropy Loss）。\n",
    "    BCEWithLogitsLoss = Sigmoid + BCELoss。\n",
    "    obj是置信度，肯定要在0-1之间，所以用sigmoid处理之后再使用BCELoss。\n",
    "    而在Yolo中，这个80个类别使用也是这种方式，作者并没有使用Softmax，\n",
    "    而是对每一个类别都使用Sigmoid，然后用BCELoss计算损失。\n",
    "    \"\"\"\n",
    "    BCEcls = nn.BCEWithLogitsLoss()\n",
    "    BCEobj = nn.BCEWithLogitsLoss()\n",
    "\n",
    "    # 循环遍历每个DetectLayer的输出，YoloV3Tiny有种尺度，所以就循环两遍\n",
    "    for i, pred_i in enumerate(pred):\n",
    "        image_idx, anchor_idx, grid_y, grid_x = indices[i]\n",
    "        target_obj = torch.zeros_like(pred_i[..., 0])\n",
    "\n",
    "        # 获取正样本的数量\n",
    "        n_targets = image_idx.shape[0]\n",
    "        if n_targets:\n",
    "            # 获取对应匹配到正样本的预测信息\n",
    "            pred_subset = pred_i[image_idx, anchor_idx, grid_y, grid_x]  # prediction subset corresponding to targets\n",
    "\n",
    "            # 开始计算G_IOU\n",
    "            # xy坐标需要经过sigmoid变成相对坐标\n",
    "            pred_xy = pred_subset[:, :2].sigmoid()\n",
    "            # 计算出根据偏移量计算出width和height\n",
    "            pred_wh = pred_subset[:, 2:4].exp().clamp(max=1E3) * anchors[i]\n",
    "            # 得到模型预测的box\n",
    "            pred_box = torch.cat((pred_xy, pred_wh), 1)  # predicted box\n",
    "            # 将模型预测的box和真实的box计算giou\n",
    "            giou = bbox_giou(pred_box, target_box[i])  # giou(prediction, target)\n",
    "            # 得到giou loss\n",
    "            box_loss += (1.0 - giou).mean()  # giou loss\n",
    "\n",
    "            target_obj[image_idx, anchor_idx, grid_y, grid_x] = giou.detach().clamp(0).type(target_obj.dtype)  # giou ratio\n",
    "\n",
    "            # 计算class损失\n",
    "            t = torch.full_like(pred_subset[:, 5:], 0)  # targets\n",
    "            t[range(n_targets), target_cls[i]] = 1\n",
    "            class_loss += BCEcls(pred_subset[:, 5:], t)  # BCE\n",
    "\n",
    "        # 计算obj损失（置信度的损失）\n",
    "        obj_loss += BCEobj(pred_i[..., 4], target_obj)  # obj loss\n",
    "\n",
    "    # 乘上每种损失的对应权重\n",
    "    box_loss *= 0.05  # 超参数\n",
    "    obj_loss *= 0.5\n",
    "    class_loss *= 1\n",
    "\n",
    "    # loss = lbox + lobj + lcls\n",
    "    return {\"box_loss\": box_loss,\n",
    "            \"obj_loss\": obj_loss,\n",
    "            \"class_loss\": class_loss}"
   ],
   "metadata": {
    "collapsed": false,
    "pycharm": {
     "name": "#%%\n"
    }
   }
  },
  {
   "cell_type": "markdown",
   "source": [
    "定义好后，简单试一下："
   ],
   "metadata": {
    "collapsed": false,
    "pycharm": {
     "name": "#%% md\n"
    }
   }
  },
  {
   "cell_type": "code",
   "execution_count": 846,
   "outputs": [
    {
     "data": {
      "text/plain": "{'box_loss': tensor([0.0343], grad_fn=<MulBackward0>),\n 'obj_loss': tensor([0.6980], grad_fn=<MulBackward0>),\n 'class_loss': tensor([0.6965], grad_fn=<MulBackward0>)}"
     },
     "execution_count": 846,
     "metadata": {},
     "output_type": "execute_result"
    }
   ],
   "source": [
    "compute_loss(pred, labels)"
   ],
   "metadata": {
    "collapsed": false,
    "pycharm": {
     "name": "#%%\n"
    }
   }
  },
  {
   "cell_type": "markdown",
   "source": [
    "## 训练模型"
   ],
   "metadata": {
    "collapsed": false,
    "pycharm": {
     "name": "#%% md\n"
    }
   }
  },
  {
   "cell_type": "markdown",
   "source": [],
   "metadata": {
    "collapsed": false,
    "pycharm": {
     "name": "#%% md\n"
    }
   }
  },
  {
   "cell_type": "code",
   "execution_count": 850,
   "outputs": [],
   "source": [
    "# 定义模型\n",
    "model = YoloV3Tiny()\n",
    "model = model.train()"
   ],
   "metadata": {
    "collapsed": false,
    "pycharm": {
     "name": "#%%\n"
    }
   }
  },
  {
   "cell_type": "code",
   "execution_count": 851,
   "outputs": [],
   "source": [
    "optimizer = torch.optim.Adam(model.parameters(), lr=3e-4)"
   ],
   "metadata": {
    "collapsed": false,
    "pycharm": {
     "name": "#%%\n"
    }
   }
  },
  {
   "cell_type": "code",
   "execution_count": 852,
   "outputs": [
    {
     "name": "stdout",
     "output_type": "stream",
     "text": [
      "epoch 19, box_loss: 0.049960315227508545, obj_loss: 0.42180562019348145, class_loss: 0.000709646730683744, losses: 0.4724755883216858\n",
      "epoch 39, box_loss: 0.04999972879886627, obj_loss: 0.2918117940425873, class_loss: 0.0009079338051378727, losses: 0.3427194654941559\n",
      "epoch 59, box_loss: 0.049999792128801346, obj_loss: 0.2106550931930542, class_loss: 0.0005440242821350694, losses: 0.26119890809059143\n"
     ]
    },
    {
     "ename": "KeyboardInterrupt",
     "evalue": "",
     "output_type": "error",
     "traceback": [
      "\u001B[1;31m---------------------------------------------------------------------------\u001B[0m",
      "\u001B[1;31mKeyboardInterrupt\u001B[0m                         Traceback (most recent call last)",
      "\u001B[1;32m<ipython-input-852-4df95721aa13>\u001B[0m in \u001B[0;36m<module>\u001B[1;34m\u001B[0m\n\u001B[0;32m      5\u001B[0m         \u001B[0mloss_dict\u001B[0m \u001B[1;33m=\u001B[0m \u001B[0mcompute_loss\u001B[0m\u001B[1;33m(\u001B[0m\u001B[0mpred\u001B[0m\u001B[1;33m,\u001B[0m \u001B[0mlabels\u001B[0m\u001B[1;33m)\u001B[0m\u001B[1;33m\u001B[0m\u001B[1;33m\u001B[0m\u001B[0m\n\u001B[0;32m      6\u001B[0m         \u001B[0mlosses\u001B[0m \u001B[1;33m=\u001B[0m \u001B[0msum\u001B[0m\u001B[1;33m(\u001B[0m\u001B[0mloss\u001B[0m \u001B[1;32mfor\u001B[0m \u001B[0mloss\u001B[0m \u001B[1;32min\u001B[0m \u001B[0mloss_dict\u001B[0m\u001B[1;33m.\u001B[0m\u001B[0mvalues\u001B[0m\u001B[1;33m(\u001B[0m\u001B[1;33m)\u001B[0m\u001B[1;33m)\u001B[0m\u001B[1;33m\u001B[0m\u001B[1;33m\u001B[0m\u001B[0m\n\u001B[1;32m----> 7\u001B[1;33m         \u001B[0mlosses\u001B[0m\u001B[1;33m.\u001B[0m\u001B[0mbackward\u001B[0m\u001B[1;33m(\u001B[0m\u001B[1;33m)\u001B[0m\u001B[1;33m\u001B[0m\u001B[1;33m\u001B[0m\u001B[0m\n\u001B[0m\u001B[0;32m      8\u001B[0m         \u001B[0moptimizer\u001B[0m\u001B[1;33m.\u001B[0m\u001B[0mstep\u001B[0m\u001B[1;33m(\u001B[0m\u001B[1;33m)\u001B[0m\u001B[1;33m\u001B[0m\u001B[1;33m\u001B[0m\u001B[0m\n\u001B[0;32m      9\u001B[0m         \u001B[0moptimizer\u001B[0m\u001B[1;33m.\u001B[0m\u001B[0mzero_grad\u001B[0m\u001B[1;33m(\u001B[0m\u001B[1;33m)\u001B[0m\u001B[1;33m\u001B[0m\u001B[1;33m\u001B[0m\u001B[0m\n",
      "\u001B[1;32mD:\\Anaconda3\\lib\\site-packages\\torch\\_tensor.py\u001B[0m in \u001B[0;36mbackward\u001B[1;34m(self, gradient, retain_graph, create_graph, inputs)\u001B[0m\n\u001B[0;32m    394\u001B[0m                 \u001B[0mcreate_graph\u001B[0m\u001B[1;33m=\u001B[0m\u001B[0mcreate_graph\u001B[0m\u001B[1;33m,\u001B[0m\u001B[1;33m\u001B[0m\u001B[1;33m\u001B[0m\u001B[0m\n\u001B[0;32m    395\u001B[0m                 inputs=inputs)\n\u001B[1;32m--> 396\u001B[1;33m         \u001B[0mtorch\u001B[0m\u001B[1;33m.\u001B[0m\u001B[0mautograd\u001B[0m\u001B[1;33m.\u001B[0m\u001B[0mbackward\u001B[0m\u001B[1;33m(\u001B[0m\u001B[0mself\u001B[0m\u001B[1;33m,\u001B[0m \u001B[0mgradient\u001B[0m\u001B[1;33m,\u001B[0m \u001B[0mretain_graph\u001B[0m\u001B[1;33m,\u001B[0m \u001B[0mcreate_graph\u001B[0m\u001B[1;33m,\u001B[0m \u001B[0minputs\u001B[0m\u001B[1;33m=\u001B[0m\u001B[0minputs\u001B[0m\u001B[1;33m)\u001B[0m\u001B[1;33m\u001B[0m\u001B[1;33m\u001B[0m\u001B[0m\n\u001B[0m\u001B[0;32m    397\u001B[0m \u001B[1;33m\u001B[0m\u001B[0m\n\u001B[0;32m    398\u001B[0m     \u001B[1;32mdef\u001B[0m \u001B[0mregister_hook\u001B[0m\u001B[1;33m(\u001B[0m\u001B[0mself\u001B[0m\u001B[1;33m,\u001B[0m \u001B[0mhook\u001B[0m\u001B[1;33m)\u001B[0m\u001B[1;33m:\u001B[0m\u001B[1;33m\u001B[0m\u001B[1;33m\u001B[0m\u001B[0m\n",
      "\u001B[1;32mD:\\Anaconda3\\lib\\site-packages\\torch\\autograd\\__init__.py\u001B[0m in \u001B[0;36mbackward\u001B[1;34m(tensors, grad_tensors, retain_graph, create_graph, grad_variables, inputs)\u001B[0m\n\u001B[0;32m    171\u001B[0m     \u001B[1;31m# some Python versions print out the first line of a multi-line function\u001B[0m\u001B[1;33m\u001B[0m\u001B[1;33m\u001B[0m\u001B[1;33m\u001B[0m\u001B[0m\n\u001B[0;32m    172\u001B[0m     \u001B[1;31m# calls in the traceback and some print out the last line\u001B[0m\u001B[1;33m\u001B[0m\u001B[1;33m\u001B[0m\u001B[1;33m\u001B[0m\u001B[0m\n\u001B[1;32m--> 173\u001B[1;33m     Variable._execution_engine.run_backward(  # Calls into the C++ engine to run the backward pass\n\u001B[0m\u001B[0;32m    174\u001B[0m         \u001B[0mtensors\u001B[0m\u001B[1;33m,\u001B[0m \u001B[0mgrad_tensors_\u001B[0m\u001B[1;33m,\u001B[0m \u001B[0mretain_graph\u001B[0m\u001B[1;33m,\u001B[0m \u001B[0mcreate_graph\u001B[0m\u001B[1;33m,\u001B[0m \u001B[0minputs\u001B[0m\u001B[1;33m,\u001B[0m\u001B[1;33m\u001B[0m\u001B[1;33m\u001B[0m\u001B[0m\n\u001B[0;32m    175\u001B[0m         allow_unreachable=True, accumulate_grad=True)  # Calls into the C++ engine to run the backward pass\n",
      "\u001B[1;31mKeyboardInterrupt\u001B[0m: "
     ]
    }
   ],
   "source": [
    "step = 0\n",
    "for epoch in range(10000):\n",
    "    for images, labels in dataloader:\n",
    "        pred = model(images)\n",
    "        loss_dict = compute_loss(pred, labels)\n",
    "        losses = sum(loss for loss in loss_dict.values())\n",
    "        losses.backward()\n",
    "        optimizer.step()\n",
    "        optimizer.zero_grad()\n",
    "\n",
    "        step += 1\n",
    "\n",
    "        # 每20次打印一下日志\n",
    "        if step % 20 == 0:\n",
    "            print(\n",
    "                f\"epoch {epoch}, box_loss: {loss_dict['box_loss'].item()}, obj_loss: {loss_dict['obj_loss'].item()}, class_loss: {loss_dict['class_loss'].item()}, losses: {losses.item()}\")\n",
    "        # break"
   ],
   "metadata": {
    "collapsed": false,
    "pycharm": {
     "name": "#%%\n"
    }
   }
  },
  {
   "cell_type": "code",
   "execution_count": null,
   "outputs": [],
   "source": [
    "torch.save(model, 'my-yolo-tiny3.pt')"
   ],
   "metadata": {
    "collapsed": false,
    "pycharm": {
     "name": "#%%\n"
    }
   }
  },
  {
   "cell_type": "markdown",
   "source": [
    "# 模型推理"
   ],
   "metadata": {
    "collapsed": false,
    "pycharm": {
     "name": "#%% md\n"
    }
   }
  },
  {
   "cell_type": "markdown",
   "source": [
    "完成了模型训练，就来到最终的模型推理环节，模型推理就是将模型的输出经过非极大值抑制（non_max_suppression）的筛选："
   ],
   "metadata": {
    "collapsed": false,
    "pycharm": {
     "name": "#%% md\n"
    }
   }
  },
  {
   "cell_type": "code",
   "execution_count": null,
   "outputs": [],
   "source": [
    "def make_grid(nx, ny):\n",
    "    n_anchors = 3\n",
    "    yv, xv = torch.meshgrid([torch.arange(nx), torch.arange(ny)], indexing='ij')\n",
    "    grid = torch.stack((xv, yv), 2).expand((1, n_anchors, nx, ny, 2)).float()\n",
    "    return grid"
   ],
   "metadata": {
    "collapsed": false,
    "pycharm": {
     "name": "#%%\n"
    }
   }
  },
  {
   "cell_type": "code",
   "execution_count": null,
   "outputs": [],
   "source": [
    "def make_anchor_grid(nx, ny, i):\n",
    "    anchors = torch.tensor(anchors_list[i]).view(-1, 2)\n",
    "    n_anchors = 3\n",
    "\n",
    "    yv, xv = torch.meshgrid([torch.arange(ny), torch.arange(nx)], indexing='ij')\n",
    "    anchor_grid = anchors.view((1, n_anchors, 1, 1, 2)).expand((1, n_anchors, ny, nx, 2)).float()\n",
    "    return anchor_grid"
   ],
   "metadata": {
    "collapsed": false,
    "pycharm": {
     "name": "#%%\n"
    }
   }
  },
  {
   "cell_type": "code",
   "execution_count": null,
   "outputs": [],
   "source": [
    "def detect_resolve(pred):\n",
    "    inference_output = []\n",
    "    for i in range(len(pred)):\n",
    "        batch_size, _, ny, nx, _ = pred[i].shape\n",
    "\n",
    "        y = pred[i].sigmoid()\n",
    "        y[..., 0:2] = (y[..., 0:2] * 2 - 0.5 + make_grid(nx, ny)) * stride[i]  # xy\n",
    "        y[..., 2:4] = (y[..., 2:4] * 2) ** 2 * make_anchor_grid(nx, ny, i)  # wh\n",
    "\n",
    "        inference_output.append(y.view(batch_size, -1, n_output))\n",
    "\n",
    "    return (torch.cat(inference_output, 1), pred)"
   ],
   "metadata": {
    "collapsed": false,
    "pycharm": {
     "name": "#%%\n"
    }
   }
  },
  {
   "cell_type": "code",
   "execution_count": null,
   "outputs": [],
   "source": [
    "def non_max_suppression(prediction, conf_thres=0.25, iou_thres=0.45, classes=None, agnostic=False, multi_label=False,\n",
    "                        labels=(), max_det=300):\n",
    "    \"\"\"Runs Non-Maximum Suppression (NMS) on inference results\n",
    "    prediction: 预测结果，即模型的输出。shape为(batch_size, 7938(TODO), 85)\n",
    "    conf_thres: confident threshold，置信度阈值。当置信度低于该值时，舍弃该边框。“是否检测出物体”和“物体类别”的置信度阈值都用这个\n",
    "    iou_thres: iou threshold。 TODO\n",
    "    classes: 指定要预测的类别，比如模型可以支持0-79的类别，但你执行detect类别3，那classes就可以指定3\n",
    "    agnostic: TODO\n",
    "    multi_label: 是否为多类别，一个候选框内是否可能会有多种物体。\n",
    "    labels: TODO\n",
    "    max_det: max detection， 最大检测数量。即最后的输出最多几个框。\n",
    "\n",
    "    Returns:\n",
    "         list of detections, on (n,6) tensor per image [xyxy, conf, cls]\n",
    "         返回的是一个list，即每张图片的结果。每个元素的shape为(n, 6), 即n个物体，每个物体的xyxy, 置信度和类别。\n",
    "                          注：这里的xy,xy分别为左上角坐标和右下角坐标，且是针对resize后的图片，而非原图。\n",
    "    \"\"\"\n",
    "\n",
    "    nc = prediction.shape[2] - 5  # number of classes\n",
    "    # 找出置信度小于conf_thres的候选框\n",
    "    xc = prediction[..., 4] > conf_thres  # candidates\n",
    "\n",
    "    # Checks\n",
    "    assert 0 <= conf_thres <= 1, f'Invalid Confidence threshold {conf_thres}, valid values are between 0.0 and 1.0'\n",
    "    assert 0 <= iou_thres <= 1, f'Invalid IoU {iou_thres}, valid values are between 0.0 and 1.0'\n",
    "\n",
    "    # Settings\n",
    "    # TODO\n",
    "    min_wh, max_wh = 2, 4096  # (pixels) minimum and maximum box width and height\n",
    "    # TODO\n",
    "    max_nms = 30000  # maximum number of boxes into torchvision.ops.nms()\n",
    "    # TODO\n",
    "    time_limit = 10.0  # seconds to quit after\n",
    "    # TODO\n",
    "    redundant = True  # require redundant detections\n",
    "    # TODO\n",
    "    multi_label &= nc > 1  # multiple labels per box (adds 0.5ms/img)\n",
    "    # 是否合并重叠的框\n",
    "    merge = False  # use merge-NMS\n",
    "\n",
    "    t = time.time()\n",
    "    # 初始化输出\n",
    "    output = [torch.zeros((0, 6), device=prediction.device)] * prediction.shape[0]\n",
    "    for xi, x in enumerate(prediction):  # image index, image inference\n",
    "        # Apply constraints\n",
    "        # x[((x[..., 2:4] < min_wh) | (x[..., 2:4] > max_wh)).any(1), 4] = 0  # width-height\n",
    "        # 过滤掉当前（第xi个）图片中，置信度较低的候选框。例如，过滤前x.shape=(7983, 85), 过滤后为(980, 85)\n",
    "        x = x[xc[xi]]  # confidence\n",
    "\n",
    "        # Cat apriori labels if autolabelling\n",
    "        # TODO\n",
    "        if labels and len(labels[xi]):\n",
    "            l = labels[xi]\n",
    "            v = torch.zeros((len(l), nc + 5), device=x.device)\n",
    "            v[:, :4] = l[:, 1:5]  # box\n",
    "            v[:, 4] = 1.0  # conf\n",
    "            v[range(len(l)), l[:, 0].long() + 5] = 1.0  # cls\n",
    "            x = torch.cat((x, v), 0)\n",
    "\n",
    "        # If none remain process next image\n",
    "        # 如果过滤完后，一个候选框都没了，则处理下一张图片\n",
    "        if not x.shape[0]:\n",
    "            continue\n",
    "\n",
    "        # Compute conf\n",
    "        # x[:, 4:5] 是obj_conf(物体置信度，即有多大概率这里有物体)\n",
    "        # x[:, 5:] 是cls_conf（类别置信度，即每个类别的概率）\n",
    "        x[:, 5:] *= x[:, 4:5]  # conf = obj_conf * cls_conf\n",
    "\n",
    "        # Box (center x, center y, width, height) to (x1, y1, x2, y2)\n",
    "        # 将 x,y,w,h （中心点坐标+宽高）转化为 xyxy（左上角坐标+右下角坐标）\n",
    "        # box的shape为(n, 4), 其中4为(x1, y1, x2, y2), 其中(x1, y1)为左上角的坐标，(x2, y2)为右下角的坐标\n",
    "        box = xywh2xyxy(x[:, :4])\n",
    "\n",
    "        # Detections matrix nx6 (xyxy, conf, cls)\n",
    "        if multi_label:\n",
    "            \"\"\"\n",
    "            x[:, 5:] > conf_thres: 找出类别中置信度比较高的。\n",
    "            non_zero: 找出非0元素的位置。这里的作用是找出那些置信度大于阈值的类别。\n",
    "                      如果阈值设的比较小，那么一个框可能会有多个类别都大于阈值，最后的结果会比原来多。\n",
    "            最终的结果为（举例）：\n",
    "            i = [  0,   1,   2,  ..., 446, 447, 448];  这里i是有重复元素的\n",
    "            j = [22,   22,  22,  ..., 22,  22,  22]\n",
    "            其中，i中元素代表第i个候选框，j中元素代表第i个候选框的类别。因为i是有重复的，所以len(i)会大于候选框数量。\n",
    "            \"\"\"\n",
    "            i, j = (x[:, 5:] > conf_thres).nonzero(as_tuple=False).T\n",
    "            \"\"\"\n",
    "            box[i]：找出所有的候选框。box[i].shape = (1169, 4)\n",
    "            x[i, j+5, None]: 找出所有候选框对应类别的置信度。j+5是因为上面x是从5开始的，这里是从0开始的。None目的是再后面加一维。\n",
    "                             x[i, j+5, None].shape = (1169, 1)\n",
    "            j[:, None]: 找出所有候选框对应的类别。\n",
    "            最终， x.shape = (1169, 6)\n",
    "            \"\"\"\n",
    "            x = torch.cat((box[i], x[i, j + 5, None], j[:, None].float()), 1)\n",
    "        else:  # best class only\n",
    "            # 参考上，如果一个候选框内默认只有一种物体的话，就不需要用置信度了，直接选最大的那个就好了。\n",
    "            conf, j = x[:, 5:].max(1, keepdim=True)\n",
    "            x = torch.cat((box, conf, j.float()), 1)[conf.view(-1) > conf_thres]\n",
    "\n",
    "        # Filter by class\n",
    "        # 只要指定的类别，其他都不要\n",
    "        if classes is not None:\n",
    "            x = x[(x[:, 5:6] == torch.tensor(classes, device=x.device)).any(1)]\n",
    "\n",
    "        # Apply finite constraint\n",
    "        # if not torch.isfinite(x).all():\n",
    "        #     x = x[torch.isfinite(x).all(1)]\n",
    "\n",
    "        # Check shape\n",
    "        n = x.shape[0]  # number of boxes\n",
    "        # 如果过滤之后没有检测到任何物体，则continue\n",
    "        if not n:  # no boxes\n",
    "            continue\n",
    "        # 若过滤后剩下的框比max_nms还多，则按置信度排序，选取前max_nms个。\n",
    "        elif n > max_nms:  # excess boxes\n",
    "            x = x[x[:, 4].argsort(descending=True)[:max_nms]]  # sort by confidence\n",
    "\n",
    "        # Batched NMS\n",
    "        # TODO\n",
    "        c = x[:, 5:6] * (0 if agnostic else max_wh)  # classes\n",
    "        # TODO\n",
    "        boxes, scores = x[:, :4] + c, x[:, 4]  # boxes (offset by class), scores\n",
    "        # 通过pytorch提供的nms算法进行筛选。最终的返回为indexes，按照分数从高到低排。\n",
    "        # 例如：i = [1025, 1046,  820,  814,  305,  850, ...]\n",
    "        i = torchvision.ops.nms(boxes, scores, iou_thres)  # NMS\n",
    "        # 按照max_det再减少些框。最终框的数量不能超过max_det\n",
    "        if i.shape[0] > max_det:  # limit detections\n",
    "            i = i[:max_det]\n",
    "        # 将框进行合并\n",
    "        if merge and (1 < n < 3E3):  # Merge NMS (boxes merged using weighted mean)\n",
    "            # update boxes as boxes(i,4) = weights(i,n) * boxes(n,4)\n",
    "            iou = box_iou(boxes[i], boxes) > iou_thres  # iou matrix\n",
    "            weights = iou * scores[None]  # box weights\n",
    "            x[i, :4] = torch.mm(weights, x[:, :4]).float() / weights.sum(1, keepdim=True)  # merged boxes\n",
    "            if redundant:\n",
    "                i = i[iou.sum(1) > 1]  # require redundancy\n",
    "        # 第xi个图片预测完毕，将结果保存到output[xi]中\n",
    "        output[xi] = x[i]\n",
    "        if (time.time() - t) > time_limit:\n",
    "            print(f'WARNING: NMS time limit {time_limit}s exceeded')\n",
    "            break  # time limit exceeded\n",
    "\n",
    "    return output"
   ],
   "metadata": {
    "collapsed": false,
    "pycharm": {
     "name": "#%%\n"
    }
   }
  },
  {
   "cell_type": "code",
   "execution_count": null,
   "outputs": [],
   "source": [
    "pred = model(images)"
   ],
   "metadata": {
    "collapsed": false,
    "pycharm": {
     "name": "#%%\n"
    }
   }
  },
  {
   "cell_type": "code",
   "execution_count": null,
   "outputs": [],
   "source": [
    "pred = detect_resolve(pred)[0]"
   ],
   "metadata": {
    "collapsed": false,
    "pycharm": {
     "name": "#%%\n"
    }
   }
  },
  {
   "cell_type": "code",
   "execution_count": 823,
   "outputs": [],
   "source": [
    "pred = non_max_suppression(pred)"
   ],
   "metadata": {
    "collapsed": false,
    "pycharm": {
     "name": "#%%\n"
    }
   }
  },
  {
   "cell_type": "code",
   "execution_count": 824,
   "outputs": [],
   "source": [
    "pred[0][:, 0:4] = pred[0][:, 0:4] / 640"
   ],
   "metadata": {
    "collapsed": false,
    "pycharm": {
     "name": "#%%\n"
    }
   }
  },
  {
   "cell_type": "code",
   "execution_count": 825,
   "outputs": [
    {
     "data": {
      "text/plain": "tensor([[1.0134e-01, 3.2626e-01, 2.2853e-01, 4.1792e-01, 7.3974e-01, 7.0000e+01],\n        [1.0889e-01, 3.3535e-01, 1.6256e-01, 3.9202e-01, 7.3050e-01, 2.7000e+01],\n        [8.7189e-02, 2.6421e-01, 1.3941e-01, 3.7916e-01, 7.0880e-01, 0.0000e+00],\n        ...,\n        [6.4938e-01, 7.8104e-01, 6.7013e-01, 7.9888e-01, 4.0551e-01, 2.1000e+01],\n        [6.3100e-01, 9.2091e-01, 6.4984e-01, 9.4258e-01, 4.0449e-01, 4.0000e+01],\n        [3.4870e-02, 4.3875e-01, 1.8429e-01, 4.5607e-01, 4.0448e-01, 4.9000e+01]],\n       grad_fn=<CopySlices>)"
     },
     "execution_count": 825,
     "metadata": {},
     "output_type": "execute_result"
    }
   ],
   "source": [
    "pred[0]"
   ],
   "metadata": {
    "collapsed": false,
    "pycharm": {
     "name": "#%%\n"
    }
   }
  },
  {
   "cell_type": "code",
   "execution_count": null,
   "outputs": [],
   "source": [],
   "metadata": {
    "collapsed": false,
    "pycharm": {
     "name": "#%%\n"
    }
   }
  }
 ],
 "metadata": {
  "kernelspec": {
   "display_name": "Python 3",
   "language": "python",
   "name": "python3"
  },
  "language_info": {
   "codemirror_mode": {
    "name": "ipython",
    "version": 2
   },
   "file_extension": ".py",
   "mimetype": "text/x-python",
   "name": "python",
   "nbconvert_exporter": "python",
   "pygments_lexer": "ipython2",
   "version": "2.7.6"
  }
 },
 "nbformat": 4,
 "nbformat_minor": 0
}